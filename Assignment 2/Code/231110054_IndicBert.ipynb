{
  "cells": [
    {
      "cell_type": "markdown",
      "metadata": {
        "id": "yk0nFFvi2_mK"
      },
      "source": [
        "# **Setup**"
      ]
    },
    {
      "cell_type": "code",
      "execution_count": null,
      "metadata": {
        "colab": {
          "base_uri": "https://localhost:8080/"
        },
        "execution": {
          "iopub.execute_input": "2024-03-10T15:41:18.654484Z",
          "iopub.status.busy": "2024-03-10T15:41:18.653583Z",
          "iopub.status.idle": "2024-03-10T15:42:13.125082Z",
          "shell.execute_reply": "2024-03-10T15:42:13.123964Z",
          "shell.execute_reply.started": "2024-03-10T15:41:18.654448Z"
        },
        "id": "UQcikx99yR8j",
        "outputId": "bb6ac4d7-8134-4646-dda4-b379c890a478",
        "trusted": true
      },
      "outputs": [
        {
          "name": "stdout",
          "output_type": "stream",
          "text": [
            "Requirement already satisfied: transformers in /usr/local/lib/python3.10/dist-packages (4.38.2)\n",
            "Requirement already satisfied: filelock in /usr/local/lib/python3.10/dist-packages (from transformers) (3.13.1)\n",
            "Requirement already satisfied: huggingface-hub<1.0,>=0.19.3 in /usr/local/lib/python3.10/dist-packages (from transformers) (0.20.3)\n",
            "Requirement already satisfied: numpy>=1.17 in /usr/local/lib/python3.10/dist-packages (from transformers) (1.25.2)\n",
            "Requirement already satisfied: packaging>=20.0 in /usr/local/lib/python3.10/dist-packages (from transformers) (23.2)\n",
            "Requirement already satisfied: pyyaml>=5.1 in /usr/local/lib/python3.10/dist-packages (from transformers) (6.0.1)\n",
            "Requirement already satisfied: regex!=2019.12.17 in /usr/local/lib/python3.10/dist-packages (from transformers) (2023.12.25)\n",
            "Requirement already satisfied: requests in /usr/local/lib/python3.10/dist-packages (from transformers) (2.31.0)\n",
            "Requirement already satisfied: tokenizers<0.19,>=0.14 in /usr/local/lib/python3.10/dist-packages (from transformers) (0.15.2)\n",
            "Requirement already satisfied: safetensors>=0.4.1 in /usr/local/lib/python3.10/dist-packages (from transformers) (0.4.2)\n",
            "Requirement already satisfied: tqdm>=4.27 in /usr/local/lib/python3.10/dist-packages (from transformers) (4.66.2)\n",
            "Requirement already satisfied: fsspec>=2023.5.0 in /usr/local/lib/python3.10/dist-packages (from huggingface-hub<1.0,>=0.19.3->transformers) (2023.6.0)\n",
            "Requirement already satisfied: typing-extensions>=3.7.4.3 in /usr/local/lib/python3.10/dist-packages (from huggingface-hub<1.0,>=0.19.3->transformers) (4.10.0)\n",
            "Requirement already satisfied: charset-normalizer<4,>=2 in /usr/local/lib/python3.10/dist-packages (from requests->transformers) (3.3.2)\n",
            "Requirement already satisfied: idna<4,>=2.5 in /usr/local/lib/python3.10/dist-packages (from requests->transformers) (3.6)\n",
            "Requirement already satisfied: urllib3<3,>=1.21.1 in /usr/local/lib/python3.10/dist-packages (from requests->transformers) (2.0.7)\n",
            "Requirement already satisfied: certifi>=2017.4.17 in /usr/local/lib/python3.10/dist-packages (from requests->transformers) (2024.2.2)\n",
            "Requirement already satisfied: datasets in /usr/local/lib/python3.10/dist-packages (2.18.0)\n",
            "Requirement already satisfied: filelock in /usr/local/lib/python3.10/dist-packages (from datasets) (3.13.1)\n",
            "Requirement already satisfied: numpy>=1.17 in /usr/local/lib/python3.10/dist-packages (from datasets) (1.25.2)\n",
            "Requirement already satisfied: pyarrow>=12.0.0 in /usr/local/lib/python3.10/dist-packages (from datasets) (14.0.2)\n",
            "Requirement already satisfied: pyarrow-hotfix in /usr/local/lib/python3.10/dist-packages (from datasets) (0.6)\n",
            "Requirement already satisfied: dill<0.3.9,>=0.3.0 in /usr/local/lib/python3.10/dist-packages (from datasets) (0.3.8)\n",
            "Requirement already satisfied: pandas in /usr/local/lib/python3.10/dist-packages (from datasets) (1.5.3)\n",
            "Requirement already satisfied: requests>=2.19.0 in /usr/local/lib/python3.10/dist-packages (from datasets) (2.31.0)\n",
            "Requirement already satisfied: tqdm>=4.62.1 in /usr/local/lib/python3.10/dist-packages (from datasets) (4.66.2)\n",
            "Requirement already satisfied: xxhash in /usr/local/lib/python3.10/dist-packages (from datasets) (3.4.1)\n",
            "Requirement already satisfied: multiprocess in /usr/local/lib/python3.10/dist-packages (from datasets) (0.70.16)\n",
            "Requirement already satisfied: fsspec[http]<=2024.2.0,>=2023.1.0 in /usr/local/lib/python3.10/dist-packages (from datasets) (2023.6.0)\n",
            "Requirement already satisfied: aiohttp in /usr/local/lib/python3.10/dist-packages (from datasets) (3.9.3)\n",
            "Requirement already satisfied: huggingface-hub>=0.19.4 in /usr/local/lib/python3.10/dist-packages (from datasets) (0.20.3)\n",
            "Requirement already satisfied: packaging in /usr/local/lib/python3.10/dist-packages (from datasets) (23.2)\n",
            "Requirement already satisfied: pyyaml>=5.1 in /usr/local/lib/python3.10/dist-packages (from datasets) (6.0.1)\n",
            "Requirement already satisfied: aiosignal>=1.1.2 in /usr/local/lib/python3.10/dist-packages (from aiohttp->datasets) (1.3.1)\n",
            "Requirement already satisfied: attrs>=17.3.0 in /usr/local/lib/python3.10/dist-packages (from aiohttp->datasets) (23.2.0)\n",
            "Requirement already satisfied: frozenlist>=1.1.1 in /usr/local/lib/python3.10/dist-packages (from aiohttp->datasets) (1.4.1)\n",
            "Requirement already satisfied: multidict<7.0,>=4.5 in /usr/local/lib/python3.10/dist-packages (from aiohttp->datasets) (6.0.5)\n",
            "Requirement already satisfied: yarl<2.0,>=1.0 in /usr/local/lib/python3.10/dist-packages (from aiohttp->datasets) (1.9.4)\n",
            "Requirement already satisfied: async-timeout<5.0,>=4.0 in /usr/local/lib/python3.10/dist-packages (from aiohttp->datasets) (4.0.3)\n",
            "Requirement already satisfied: typing-extensions>=3.7.4.3 in /usr/local/lib/python3.10/dist-packages (from huggingface-hub>=0.19.4->datasets) (4.10.0)\n",
            "Requirement already satisfied: charset-normalizer<4,>=2 in /usr/local/lib/python3.10/dist-packages (from requests>=2.19.0->datasets) (3.3.2)\n",
            "Requirement already satisfied: idna<4,>=2.5 in /usr/local/lib/python3.10/dist-packages (from requests>=2.19.0->datasets) (3.6)\n",
            "Requirement already satisfied: urllib3<3,>=1.21.1 in /usr/local/lib/python3.10/dist-packages (from requests>=2.19.0->datasets) (2.0.7)\n",
            "Requirement already satisfied: certifi>=2017.4.17 in /usr/local/lib/python3.10/dist-packages (from requests>=2.19.0->datasets) (2024.2.2)\n",
            "Requirement already satisfied: python-dateutil>=2.8.1 in /usr/local/lib/python3.10/dist-packages (from pandas->datasets) (2.8.2)\n",
            "Requirement already satisfied: pytz>=2020.1 in /usr/local/lib/python3.10/dist-packages (from pandas->datasets) (2023.4)\n",
            "Requirement already satisfied: six>=1.5 in /usr/local/lib/python3.10/dist-packages (from python-dateutil>=2.8.1->pandas->datasets) (1.16.0)\n",
            "Requirement already satisfied: sentencepiece in /usr/local/lib/python3.10/dist-packages (0.1.99)\n",
            "Requirement already satisfied: seqeval in /usr/local/lib/python3.10/dist-packages (1.2.2)\n",
            "Requirement already satisfied: numpy>=1.14.0 in /usr/local/lib/python3.10/dist-packages (from seqeval) (1.25.2)\n",
            "Requirement already satisfied: scikit-learn>=0.21.3 in /usr/local/lib/python3.10/dist-packages (from seqeval) (1.2.2)\n",
            "Requirement already satisfied: scipy>=1.3.2 in /usr/local/lib/python3.10/dist-packages (from scikit-learn>=0.21.3->seqeval) (1.11.4)\n",
            "Requirement already satisfied: joblib>=1.1.1 in /usr/local/lib/python3.10/dist-packages (from scikit-learn>=0.21.3->seqeval) (1.3.2)\n",
            "Requirement already satisfied: threadpoolctl>=2.0.0 in /usr/local/lib/python3.10/dist-packages (from scikit-learn>=0.21.3->seqeval) (3.3.0)\n"
          ]
        }
      ],
      "source": [
        "!pip3 install transformers\n",
        "!pip3 install datasets\n",
        "!pip3 install sentencepiece\n",
        "!pip3 install seqeval"
      ]
    },
    {
      "cell_type": "markdown",
      "metadata": {
        "id": "2E9XQUgb3MS-"
      },
      "source": [
        "# **Naampadam Dataset**"
      ]
    },
    {
      "cell_type": "markdown",
      "metadata": {
        "id": "oEnlo6x73SP4"
      },
      "source": [
        "The Naampadam Dataset is a large dataset for Named Entity Recognition in 11 Indian languages. Naampadam means \"named entity\" in Sanskrit."
      ]
    },
    {
      "cell_type": "code",
      "execution_count": null,
      "metadata": {
        "colab": {
          "base_uri": "https://localhost:8080/"
        },
        "execution": {
          "iopub.execute_input": "2024-03-10T15:42:13.127489Z",
          "iopub.status.busy": "2024-03-10T15:42:13.127186Z",
          "iopub.status.idle": "2024-03-10T15:42:13.663211Z",
          "shell.execute_reply": "2024-03-10T15:42:13.662381Z",
          "shell.execute_reply.started": "2024-03-10T15:42:13.127461Z"
        },
        "id": "A8u4x8Q-yR8k",
        "outputId": "477d7d29-4c60-45d0-a1fa-9ce3f361bed8",
        "trusted": true
      },
      "outputs": [
        {
          "name": "stderr",
          "output_type": "stream",
          "text": [
            "/usr/local/lib/python3.10/dist-packages/huggingface_hub/utils/_token.py:88: UserWarning: \n",
            "The secret `HF_TOKEN` does not exist in your Colab secrets.\n",
            "To authenticate with the Hugging Face Hub, create a token in your settings tab (https://huggingface.co/settings/tokens), set it as secret in your Google Colab and restart your session.\n",
            "You will be able to reuse this secret in all of your notebooks.\n",
            "Please note that authentication is recommended but still optional to access public models or datasets.\n",
            "  warnings.warn(\n"
          ]
        }
      ],
      "source": [
        "# Let's download the Naampadam (Indic NER) dataset\n",
        "from datasets import ClassLabel, load_dataset, load_metric, DownloadMode\n",
        "\n",
        "lang='gu'\n",
        "\n",
        "raw_datasets = load_dataset('ai4bharat/naamapadam', lang)"
      ]
    },
    {
      "cell_type": "code",
      "execution_count": null,
      "metadata": {
        "colab": {
          "base_uri": "https://localhost:8080/"
        },
        "execution": {
          "iopub.execute_input": "2024-03-10T15:42:13.664627Z",
          "iopub.status.busy": "2024-03-10T15:42:13.664349Z",
          "iopub.status.idle": "2024-03-10T15:42:13.670430Z",
          "shell.execute_reply": "2024-03-10T15:42:13.669568Z",
          "shell.execute_reply.started": "2024-03-10T15:42:13.664603Z"
        },
        "id": "T9WBH41KyR8l",
        "outputId": "cb481bda-fb33-4341-a6d2-4c73c270fc45",
        "trusted": true
      },
      "outputs": [
        {
          "data": {
            "text/plain": [
              "DatasetDict({\n",
              "    train: Dataset({\n",
              "        features: ['tokens', 'ner_tags'],\n",
              "        num_rows: 472845\n",
              "    })\n",
              "    test: Dataset({\n",
              "        features: ['tokens', 'ner_tags'],\n",
              "        num_rows: 1076\n",
              "    })\n",
              "    validation: Dataset({\n",
              "        features: ['tokens', 'ner_tags'],\n",
              "        num_rows: 2389\n",
              "    })\n",
              "})"
            ]
          },
          "execution_count": 3,
          "metadata": {},
          "output_type": "execute_result"
        }
      ],
      "source": [
        "# let's now print how the Dataset looks like\n",
        "raw_datasets"
      ]
    },
    {
      "cell_type": "code",
      "execution_count": null,
      "metadata": {
        "colab": {
          "base_uri": "https://localhost:8080/"
        },
        "execution": {
          "iopub.execute_input": "2024-03-10T15:42:13.672741Z",
          "iopub.status.busy": "2024-03-10T15:42:13.672450Z",
          "iopub.status.idle": "2024-03-10T15:42:13.681707Z",
          "shell.execute_reply": "2024-03-10T15:42:13.680790Z",
          "shell.execute_reply.started": "2024-03-10T15:42:13.672717Z"
        },
        "id": "rcjHDIJiyR8l",
        "outputId": "a145a4b7-a248-47fe-ccc7-b85c44f60e38",
        "trusted": true
      },
      "outputs": [
        {
          "data": {
            "text/plain": [
              "{'train': ['tokens', 'ner_tags'],\n",
              " 'test': ['tokens', 'ner_tags'],\n",
              " 'validation': ['tokens', 'ner_tags']}"
            ]
          },
          "execution_count": 4,
          "metadata": {},
          "output_type": "execute_result"
        }
      ],
      "source": [
        "raw_datasets.column_names"
      ]
    },
    {
      "cell_type": "code",
      "execution_count": null,
      "metadata": {
        "colab": {
          "base_uri": "https://localhost:8080/"
        },
        "execution": {
          "iopub.execute_input": "2024-03-10T15:42:13.696829Z",
          "iopub.status.busy": "2024-03-10T15:42:13.696499Z",
          "iopub.status.idle": "2024-03-10T15:42:13.708841Z",
          "shell.execute_reply": "2024-03-10T15:42:13.707952Z",
          "shell.execute_reply.started": "2024-03-10T15:42:13.696796Z"
        },
        "id": "uZwC34viyR8l",
        "outputId": "dddea39d-0f18-40e2-e717-cc64fcad030f",
        "trusted": true
      },
      "outputs": [
        {
          "name": "stdout",
          "output_type": "stream",
          "text": [
            "['tokens', 'ner_tags']\n",
            "{'tokens': Sequence(feature=Value(dtype='string', id=None), length=-1, id=None), 'ner_tags': Sequence(feature=ClassLabel(names=['O', 'B-PER', 'I-PER', 'B-ORG', 'I-ORG', 'B-LOC', 'I-LOC'], id=None), length=-1, id=None)}\n"
          ]
        }
      ],
      "source": [
        "column_names = raw_datasets[\"train\"].column_names\n",
        "print(column_names)\n",
        "\n",
        "features = raw_datasets[\"train\"].features\n",
        "print(features)"
      ]
    },
    {
      "cell_type": "code",
      "execution_count": null,
      "metadata": {
        "execution": {
          "iopub.execute_input": "2024-03-10T15:42:13.710037Z",
          "iopub.status.busy": "2024-03-10T15:42:13.709757Z",
          "iopub.status.idle": "2024-03-10T15:42:13.719146Z",
          "shell.execute_reply": "2024-03-10T15:42:13.718439Z",
          "shell.execute_reply.started": "2024-03-10T15:42:13.709997Z"
        },
        "id": "wmVB_iGryR8l",
        "trusted": true
      },
      "outputs": [],
      "source": [
        "text_column_name = \"tokens\"\n",
        "label_column_name = \"ner_tags\""
      ]
    },
    {
      "cell_type": "code",
      "execution_count": null,
      "metadata": {
        "colab": {
          "base_uri": "https://localhost:8080/"
        },
        "execution": {
          "iopub.execute_input": "2024-03-10T15:42:13.720527Z",
          "iopub.status.busy": "2024-03-10T15:42:13.720210Z",
          "iopub.status.idle": "2024-03-10T15:42:13.732792Z",
          "shell.execute_reply": "2024-03-10T15:42:13.732082Z",
          "shell.execute_reply.started": "2024-03-10T15:42:13.720495Z"
        },
        "id": "18i07epGyR8l",
        "outputId": "71a513c6-df6b-4133-f75f-7bbca65ba6c6",
        "trusted": true
      },
      "outputs": [
        {
          "name": "stdout",
          "output_type": "stream",
          "text": [
            "{'O': 0, 'B-PER': 1, 'I-PER': 2, 'B-ORG': 3, 'I-ORG': 4, 'B-LOC': 5, 'I-LOC': 6}\n"
          ]
        }
      ],
      "source": [
        "# If the labels are of type ClassLabel, they are already integers and we have the map stored somewhere.\n",
        "\n",
        "label_list = features[label_column_name].feature.names\n",
        "\n",
        "label_to_id = {label_list[i]: features[label_column_name].feature.str2int( label_list[i] ) for i in range(len(label_list))}\n",
        "\n",
        "print(label_to_id)\n",
        "\n",
        "num_labels = len(label_list)\n"
      ]
    },
    {
      "cell_type": "markdown",
      "metadata": {
        "id": "GVXlC24z3X8m"
      },
      "source": [
        "# **Training an NER Model with the dataset**"
      ]
    },
    {
      "cell_type": "markdown",
      "metadata": {
        "id": "gQSXXm2b3cS_"
      },
      "source": [
        "We have already seen how to get predictions from fine-tuned NER model. We will now use the pre-trained IndicBERT model and fine-tune it for NER task.\n",
        "\n",
        "Let us download a pre-trained model and fine-tune it for the task of NER. We will have to use the AutoModelForTokenClassification class to fine-tune the model"
      ]
    },
    {
      "cell_type": "code",
      "execution_count": null,
      "metadata": {
        "colab": {
          "base_uri": "https://localhost:8080/"
        },
        "execution": {
          "iopub.execute_input": "2024-03-10T15:42:13.734172Z",
          "iopub.status.busy": "2024-03-10T15:42:13.733864Z",
          "iopub.status.idle": "2024-03-10T15:42:16.947047Z",
          "shell.execute_reply": "2024-03-10T15:42:16.946260Z",
          "shell.execute_reply.started": "2024-03-10T15:42:13.734148Z"
        },
        "id": "sBM36ss6yR8m",
        "outputId": "a6439baf-39a8-4d50-a92f-dcb2a3d4d411",
        "trusted": true
      },
      "outputs": [
        {
          "name": "stderr",
          "output_type": "stream",
          "text": [
            "/usr/local/lib/python3.10/dist-packages/torch/_utils.py:831: UserWarning: TypedStorage is deprecated. It will be removed in the future and UntypedStorage will be the only storage class. This should only matter to you if you are using storages directly.  To access UntypedStorage directly, use tensor.untyped_storage() instead of tensor.storage()\n",
            "  return self.fget.__get__(instance, owner)()\n",
            "Some weights of AlbertForTokenClassification were not initialized from the model checkpoint at ai4bharat/indic-bert and are newly initialized: ['classifier.bias', 'classifier.weight']\n",
            "You should probably TRAIN this model on a down-stream task to be able to use it for predictions and inference.\n"
          ]
        }
      ],
      "source": [
        "from transformers import AutoModelForTokenClassification, AutoConfig, AutoTokenizer, TrainingArguments, Trainer, DataCollatorForTokenClassification, EarlyStoppingCallback, IntervalStrategy\n",
        "import numpy as np\n",
        "\n",
        "config = AutoConfig.from_pretrained('ai4bharat/indic-bert', num_labels=num_labels, finetuning_task='ner')\n",
        "tokenizer = AutoTokenizer.from_pretrained(\"ai4bharat/indic-bert\")\n",
        "model = AutoModelForTokenClassification.from_pretrained('ai4bharat/indic-bert', num_labels=num_labels )"
      ]
    },
    {
      "cell_type": "code",
      "execution_count": null,
      "metadata": {
        "execution": {
          "iopub.execute_input": "2024-03-10T15:42:16.950539Z",
          "iopub.status.busy": "2024-03-10T15:42:16.950249Z",
          "iopub.status.idle": "2024-03-10T15:42:16.958553Z",
          "shell.execute_reply": "2024-03-10T15:42:16.957597Z",
          "shell.execute_reply.started": "2024-03-10T15:42:16.950514Z"
        },
        "id": "vh88y-LqyR8m",
        "trusted": true
      },
      "outputs": [],
      "source": [
        "# Tokenize all texts and align the labels with them.\n",
        "padding = \"max_length\"\n",
        "def tokenize_and_align_labels(examples):\n",
        "    tokenized_inputs = tokenizer(\n",
        "        examples[text_column_name],\n",
        "        padding=padding,\n",
        "        truncation=True,\n",
        "        max_length=512,\n",
        "        # We use this argument because the texts in our dataset are lists of words (with a label for each word).\n",
        "        is_split_into_words=True,\n",
        "    )\n",
        "    labels = []\n",
        "    for i, label in enumerate(examples[label_column_name]):\n",
        "        # print('=====')\n",
        "        # print('{} {}'.format(i,label)) #ak\n",
        "        word_ids = tokenized_inputs.word_ids(batch_index=i)\n",
        "\n",
        "        previous_word_idx = None\n",
        "        label_ids = []\n",
        "        for word_idx in word_ids:\n",
        "            # Special tokens have a word id that is None. We set the label to -100 so they are automatically\n",
        "            # ignored in the loss function.\n",
        "            if word_idx is None:\n",
        "                label_ids.append(-100)\n",
        "            # We set the label for the first token of each word.\n",
        "            elif word_idx != previous_word_idx:\n",
        "                label_ids.append(label[word_idx])\n",
        "            # For the other tokens in a word, we set the label to either the current label or -100, depending on\n",
        "            # the label_all_tokens flag.\n",
        "            else:\n",
        "                label_ids.append(-100)\n",
        "            previous_word_idx = word_idx\n",
        "\n",
        "        labels.append(label_ids)\n",
        "    tokenized_inputs[\"labels\"] = labels\n",
        "    return tokenized_inputs"
      ]
    },
    {
      "cell_type": "code",
      "execution_count": null,
      "metadata": {
        "execution": {
          "iopub.execute_input": "2024-03-10T15:42:16.959825Z",
          "iopub.status.busy": "2024-03-10T15:42:16.959576Z",
          "iopub.status.idle": "2024-03-10T15:42:28.389202Z",
          "shell.execute_reply": "2024-03-10T15:42:28.388196Z",
          "shell.execute_reply.started": "2024-03-10T15:42:16.959803Z"
        },
        "id": "zVvyUhMEyR8m",
        "trusted": true
      },
      "outputs": [],
      "source": [
        "train_dataset = raw_datasets[\"train\"]\n",
        "subtrain_dataset = train_dataset.select(range(40000))\n",
        "train_dataset = subtrain_dataset.map(\n",
        "    tokenize_and_align_labels,\n",
        "    batched=True,\n",
        "    num_proc=4,\n",
        "    load_from_cache_file=True,\n",
        "    desc=\"Running tokenizer on train dataset\",\n",
        ")"
      ]
    },
    {
      "cell_type": "code",
      "execution_count": null,
      "metadata": {
        "execution": {
          "iopub.execute_input": "2024-03-10T15:42:28.391077Z",
          "iopub.status.busy": "2024-03-10T15:42:28.390763Z",
          "iopub.status.idle": "2024-03-10T15:42:29.458584Z",
          "shell.execute_reply": "2024-03-10T15:42:29.457431Z",
          "shell.execute_reply.started": "2024-03-10T15:42:28.391048Z"
        },
        "id": "b3yfhs2xyR8m",
        "trusted": true
      },
      "outputs": [],
      "source": [
        "eval_dataset = raw_datasets[\"validation\"]\n",
        "eval_dataset = eval_dataset.map(\n",
        "    tokenize_and_align_labels,\n",
        "    batched=True,\n",
        "    num_proc=4,\n",
        "    load_from_cache_file=True,\n",
        "    desc=\"Running tokenizer on Validation dataset\",\n",
        ")"
      ]
    },
    {
      "cell_type": "code",
      "execution_count": null,
      "metadata": {
        "execution": {
          "iopub.execute_input": "2024-03-10T15:42:29.460503Z",
          "iopub.status.busy": "2024-03-10T15:42:29.460177Z",
          "iopub.status.idle": "2024-03-10T15:42:29.465216Z",
          "shell.execute_reply": "2024-03-10T15:42:29.464343Z",
          "shell.execute_reply.started": "2024-03-10T15:42:29.460472Z"
        },
        "id": "AfArCA9lyR8m",
        "trusted": true
      },
      "outputs": [],
      "source": [
        "data_collator = DataCollatorForTokenClassification(tokenizer)"
      ]
    },
    {
      "cell_type": "code",
      "execution_count": null,
      "metadata": {
        "execution": {
          "iopub.execute_input": "2024-03-10T15:42:29.467977Z",
          "iopub.status.busy": "2024-03-10T15:42:29.467610Z",
          "iopub.status.idle": "2024-03-10T15:42:41.567441Z",
          "shell.execute_reply": "2024-03-10T15:42:41.566330Z",
          "shell.execute_reply.started": "2024-03-10T15:42:29.467950Z"
        },
        "id": "RfJnN7D_yR8n",
        "outputId": "a597289d-c1b6-4b18-bfe7-fac9be7e5aed",
        "trusted": true
      },
      "outputs": [
        {
          "name": "stdout",
          "output_type": "stream",
          "text": [
            "Requirement already satisfied: seqeval in /opt/conda/lib/python3.10/site-packages (1.2.2)\n",
            "Requirement already satisfied: numpy>=1.14.0 in /opt/conda/lib/python3.10/site-packages (from seqeval) (1.26.4)\n",
            "Requirement already satisfied: scikit-learn>=0.21.3 in /opt/conda/lib/python3.10/site-packages (from seqeval) (1.2.2)\n",
            "Requirement already satisfied: scipy>=1.3.2 in /opt/conda/lib/python3.10/site-packages (from scikit-learn>=0.21.3->seqeval) (1.11.4)\n",
            "Requirement already satisfied: joblib>=1.1.1 in /opt/conda/lib/python3.10/site-packages (from scikit-learn>=0.21.3->seqeval) (1.3.2)\n",
            "Requirement already satisfied: threadpoolctl>=2.0.0 in /opt/conda/lib/python3.10/site-packages (from scikit-learn>=0.21.3->seqeval) (3.2.0)\n",
            "Note: you may need to restart the kernel to use updated packages.\n"
          ]
        }
      ],
      "source": [
        "pip install seqeval"
      ]
    },
    {
      "cell_type": "code",
      "execution_count": null,
      "metadata": {
        "colab": {
          "base_uri": "https://localhost:8080/"
        },
        "execution": {
          "iopub.execute_input": "2024-03-10T15:42:41.570127Z",
          "iopub.status.busy": "2024-03-10T15:42:41.569311Z",
          "iopub.status.idle": "2024-03-10T15:42:41.951746Z",
          "shell.execute_reply": "2024-03-10T15:42:41.951042Z",
          "shell.execute_reply.started": "2024-03-10T15:42:41.570086Z"
        },
        "id": "tBLOR_wHyR8n",
        "outputId": "104361e5-6721-4261-cb9c-696e6c654217",
        "trusted": true
      },
      "outputs": [
        {
          "name": "stderr",
          "output_type": "stream",
          "text": [
            "<ipython-input-14-435f98c90f62>:2: FutureWarning: load_metric is deprecated and will be removed in the next major version of datasets. Use 'evaluate.load' instead, from the new library 🤗 Evaluate: https://huggingface.co/docs/evaluate\n",
            "  metric = load_metric(\"seqeval\")\n",
            "/usr/local/lib/python3.10/dist-packages/datasets/load.py:756: FutureWarning: The repository for seqeval contains custom code which must be executed to correctly load the metric. You can inspect the repository content at https://raw.githubusercontent.com/huggingface/datasets/2.18.0/metrics/seqeval/seqeval.py\n",
            "You can avoid this message in future by passing the argument `trust_remote_code=True`.\n",
            "Passing `trust_remote_code=True` will be mandatory to load this metric from the next major release of `datasets`.\n",
            "  warnings.warn(\n"
          ]
        }
      ],
      "source": [
        "# Metrics\n",
        "metric = load_metric(\"seqeval\")\n",
        "\n",
        "def compute_metrics(p):\n",
        "    predictions, labels = p\n",
        "    predictions = np.argmax(predictions, axis=2)\n",
        "\n",
        "    # Remove ignored index (special tokens)\n",
        "    true_predictions = [\n",
        "        [label_list[p] for (p, l) in zip(prediction, label) if l != -100]\n",
        "        for prediction, label in zip(predictions, labels)\n",
        "    ]\n",
        "    true_labels = [\n",
        "        [label_list[l] for (p, l) in zip(prediction, label) if l != -100]\n",
        "        for prediction, label in zip(predictions, labels)\n",
        "    ]\n",
        "\n",
        "    results = metric.compute(predictions=true_predictions, references=true_labels)\n",
        "    # Unpack nested dictionaries\n",
        "    final_results = {}\n",
        "    for key, value in results.items():\n",
        "        if isinstance(value, dict):\n",
        "            for n, v in value.items():\n",
        "                final_results[f\"{key}_{n}\"] = v\n",
        "        else:\n",
        "            final_results[key] = value\n",
        "    return final_results"
      ]
    },
    {
      "cell_type": "code",
      "execution_count": null,
      "metadata": {
        "colab": {
          "base_uri": "https://localhost:8080/"
        },
        "execution": {
          "iopub.execute_input": "2024-03-10T15:42:41.953039Z",
          "iopub.status.busy": "2024-03-10T15:42:41.952755Z",
          "iopub.status.idle": "2024-03-10T15:43:19.004432Z",
          "shell.execute_reply": "2024-03-10T15:43:19.003123Z",
          "shell.execute_reply.started": "2024-03-10T15:42:41.953013Z"
        },
        "id": "zuvfZ9ZOyR8n",
        "outputId": "d07a75e2-9ffb-4060-9553-7aeba7c46dac",
        "trusted": true
      },
      "outputs": [
        {
          "name": "stdout",
          "output_type": "stream",
          "text": [
            "Requirement already satisfied: accelerate in /usr/local/lib/python3.10/dist-packages (0.27.2)\n",
            "Requirement already satisfied: numpy>=1.17 in /usr/local/lib/python3.10/dist-packages (from accelerate) (1.25.2)\n",
            "Requirement already satisfied: packaging>=20.0 in /usr/local/lib/python3.10/dist-packages (from accelerate) (23.2)\n",
            "Requirement already satisfied: psutil in /usr/local/lib/python3.10/dist-packages (from accelerate) (5.9.5)\n",
            "Requirement already satisfied: pyyaml in /usr/local/lib/python3.10/dist-packages (from accelerate) (6.0.1)\n",
            "Requirement already satisfied: torch>=1.10.0 in /usr/local/lib/python3.10/dist-packages (from accelerate) (2.1.0+cu121)\n",
            "Requirement already satisfied: huggingface-hub in /usr/local/lib/python3.10/dist-packages (from accelerate) (0.20.3)\n",
            "Requirement already satisfied: safetensors>=0.3.1 in /usr/local/lib/python3.10/dist-packages (from accelerate) (0.4.2)\n",
            "Requirement already satisfied: filelock in /usr/local/lib/python3.10/dist-packages (from torch>=1.10.0->accelerate) (3.13.1)\n",
            "Requirement already satisfied: typing-extensions in /usr/local/lib/python3.10/dist-packages (from torch>=1.10.0->accelerate) (4.10.0)\n",
            "Requirement already satisfied: sympy in /usr/local/lib/python3.10/dist-packages (from torch>=1.10.0->accelerate) (1.12)\n",
            "Requirement already satisfied: networkx in /usr/local/lib/python3.10/dist-packages (from torch>=1.10.0->accelerate) (3.2.1)\n",
            "Requirement already satisfied: jinja2 in /usr/local/lib/python3.10/dist-packages (from torch>=1.10.0->accelerate) (3.1.3)\n",
            "Requirement already satisfied: fsspec in /usr/local/lib/python3.10/dist-packages (from torch>=1.10.0->accelerate) (2023.6.0)\n",
            "Requirement already satisfied: triton==2.1.0 in /usr/local/lib/python3.10/dist-packages (from torch>=1.10.0->accelerate) (2.1.0)\n",
            "Requirement already satisfied: requests in /usr/local/lib/python3.10/dist-packages (from huggingface-hub->accelerate) (2.31.0)\n",
            "Requirement already satisfied: tqdm>=4.42.1 in /usr/local/lib/python3.10/dist-packages (from huggingface-hub->accelerate) (4.66.2)\n",
            "Requirement already satisfied: MarkupSafe>=2.0 in /usr/local/lib/python3.10/dist-packages (from jinja2->torch>=1.10.0->accelerate) (2.1.5)\n",
            "Requirement already satisfied: charset-normalizer<4,>=2 in /usr/local/lib/python3.10/dist-packages (from requests->huggingface-hub->accelerate) (3.3.2)\n",
            "Requirement already satisfied: idna<4,>=2.5 in /usr/local/lib/python3.10/dist-packages (from requests->huggingface-hub->accelerate) (3.6)\n",
            "Requirement already satisfied: urllib3<3,>=1.21.1 in /usr/local/lib/python3.10/dist-packages (from requests->huggingface-hub->accelerate) (2.0.7)\n",
            "Requirement already satisfied: certifi>=2017.4.17 in /usr/local/lib/python3.10/dist-packages (from requests->huggingface-hub->accelerate) (2024.2.2)\n",
            "Requirement already satisfied: mpmath>=0.19 in /usr/local/lib/python3.10/dist-packages (from sympy->torch>=1.10.0->accelerate) (1.3.0)\n",
            "Requirement already satisfied: transformers in /usr/local/lib/python3.10/dist-packages (4.38.2)\n",
            "Requirement already satisfied: filelock in /usr/local/lib/python3.10/dist-packages (from transformers) (3.13.1)\n",
            "Requirement already satisfied: huggingface-hub<1.0,>=0.19.3 in /usr/local/lib/python3.10/dist-packages (from transformers) (0.20.3)\n",
            "Requirement already satisfied: numpy>=1.17 in /usr/local/lib/python3.10/dist-packages (from transformers) (1.25.2)\n",
            "Requirement already satisfied: packaging>=20.0 in /usr/local/lib/python3.10/dist-packages (from transformers) (23.2)\n",
            "Requirement already satisfied: pyyaml>=5.1 in /usr/local/lib/python3.10/dist-packages (from transformers) (6.0.1)\n",
            "Requirement already satisfied: regex!=2019.12.17 in /usr/local/lib/python3.10/dist-packages (from transformers) (2023.12.25)\n",
            "Requirement already satisfied: requests in /usr/local/lib/python3.10/dist-packages (from transformers) (2.31.0)\n",
            "Requirement already satisfied: tokenizers<0.19,>=0.14 in /usr/local/lib/python3.10/dist-packages (from transformers) (0.15.2)\n",
            "Requirement already satisfied: safetensors>=0.4.1 in /usr/local/lib/python3.10/dist-packages (from transformers) (0.4.2)\n",
            "Requirement already satisfied: tqdm>=4.27 in /usr/local/lib/python3.10/dist-packages (from transformers) (4.66.2)\n",
            "Requirement already satisfied: fsspec>=2023.5.0 in /usr/local/lib/python3.10/dist-packages (from huggingface-hub<1.0,>=0.19.3->transformers) (2023.6.0)\n",
            "Requirement already satisfied: typing-extensions>=3.7.4.3 in /usr/local/lib/python3.10/dist-packages (from huggingface-hub<1.0,>=0.19.3->transformers) (4.10.0)\n",
            "Requirement already satisfied: charset-normalizer<4,>=2 in /usr/local/lib/python3.10/dist-packages (from requests->transformers) (3.3.2)\n",
            "Requirement already satisfied: idna<4,>=2.5 in /usr/local/lib/python3.10/dist-packages (from requests->transformers) (3.6)\n",
            "Requirement already satisfied: urllib3<3,>=1.21.1 in /usr/local/lib/python3.10/dist-packages (from requests->transformers) (2.0.7)\n",
            "Requirement already satisfied: certifi>=2017.4.17 in /usr/local/lib/python3.10/dist-packages (from requests->transformers) (2024.2.2)\n"
          ]
        }
      ],
      "source": [
        "!pip install -U accelerate\n",
        "!pip install -U transformers"
      ]
    },
    {
      "cell_type": "code",
      "execution_count": null,
      "metadata": {
        "execution": {
          "iopub.execute_input": "2024-03-10T15:43:19.006646Z",
          "iopub.status.busy": "2024-03-10T15:43:19.006292Z",
          "iopub.status.idle": "2024-03-10T15:43:19.083172Z",
          "shell.execute_reply": "2024-03-10T15:43:19.082318Z",
          "shell.execute_reply.started": "2024-03-10T15:43:19.006613Z"
        },
        "id": "fmjxzguOyR8n",
        "trusted": true
      },
      "outputs": [],
      "source": [
        "batch_size=16\n",
        "args=TrainingArguments(\n",
        "    output_dir='output_dir',\n",
        "    per_device_train_batch_size=batch_size,\n",
        "    per_device_eval_batch_size=batch_size,\n",
        "    num_train_epochs=3,\n",
        "    evaluation_strategy = \"epoch\",\n",
        "    learning_rate=2e-5)"
      ]
    },
    {
      "cell_type": "markdown",
      "metadata": {
        "id": "s5Rxp5ZO3nHB"
      },
      "source": [
        "**Training**"
      ]
    },
    {
      "cell_type": "code",
      "execution_count": null,
      "metadata": {
        "execution": {
          "iopub.execute_input": "2024-03-10T15:43:19.084866Z",
          "iopub.status.busy": "2024-03-10T15:43:19.084486Z",
          "iopub.status.idle": "2024-03-10T15:43:20.838781Z",
          "shell.execute_reply": "2024-03-10T15:43:20.837970Z",
          "shell.execute_reply.started": "2024-03-10T15:43:19.084831Z"
        },
        "id": "LXDi13tPyR8n",
        "trusted": true
      },
      "outputs": [],
      "source": [
        "trainer = Trainer(\n",
        "    model=model,\n",
        "    train_dataset=train_dataset,\n",
        "    eval_dataset=eval_dataset,\n",
        "    tokenizer=tokenizer,\n",
        "    data_collator=data_collator,\n",
        "    compute_metrics=compute_metrics,\n",
        "    # callbacks=[early_stopping_callback],\n",
        "    args=args,\n",
        ")"
      ]
    },
    {
      "cell_type": "code",
      "execution_count": null,
      "metadata": {
        "colab": {
          "base_uri": "https://localhost:8080/"
        },
        "execution": {
          "iopub.execute_input": "2024-03-10T15:43:20.840215Z",
          "iopub.status.busy": "2024-03-10T15:43:20.839931Z",
          "iopub.status.idle": "2024-03-10T15:43:20.847482Z",
          "shell.execute_reply": "2024-03-10T15:43:20.846638Z",
          "shell.execute_reply.started": "2024-03-10T15:43:20.840188Z"
        },
        "id": "cznrTsq1yR8n",
        "outputId": "a8017b78-6a4d-422d-8888-2d35724266c8",
        "trusted": true
      },
      "outputs": [
        {
          "data": {
            "text/plain": [
              "TrainingArguments(\n",
              "_n_gpu=0,\n",
              "accelerator_config={'split_batches': False, 'dispatch_batches': None, 'even_batches': True, 'use_seedable_sampler': True},\n",
              "adafactor=False,\n",
              "adam_beta1=0.9,\n",
              "adam_beta2=0.999,\n",
              "adam_epsilon=1e-08,\n",
              "auto_find_batch_size=False,\n",
              "bf16=False,\n",
              "bf16_full_eval=False,\n",
              "data_seed=None,\n",
              "dataloader_drop_last=False,\n",
              "dataloader_num_workers=0,\n",
              "dataloader_persistent_workers=False,\n",
              "dataloader_pin_memory=True,\n",
              "dataloader_prefetch_factor=None,\n",
              "ddp_backend=None,\n",
              "ddp_broadcast_buffers=None,\n",
              "ddp_bucket_cap_mb=None,\n",
              "ddp_find_unused_parameters=None,\n",
              "ddp_timeout=1800,\n",
              "debug=[],\n",
              "deepspeed=None,\n",
              "disable_tqdm=False,\n",
              "dispatch_batches=None,\n",
              "do_eval=True,\n",
              "do_predict=False,\n",
              "do_train=False,\n",
              "eval_accumulation_steps=None,\n",
              "eval_delay=0,\n",
              "eval_steps=None,\n",
              "evaluation_strategy=epoch,\n",
              "fp16=False,\n",
              "fp16_backend=auto,\n",
              "fp16_full_eval=False,\n",
              "fp16_opt_level=O1,\n",
              "fsdp=[],\n",
              "fsdp_config={'min_num_params': 0, 'xla': False, 'xla_fsdp_v2': False, 'xla_fsdp_grad_ckpt': False},\n",
              "fsdp_min_num_params=0,\n",
              "fsdp_transformer_layer_cls_to_wrap=None,\n",
              "full_determinism=False,\n",
              "gradient_accumulation_steps=1,\n",
              "gradient_checkpointing=False,\n",
              "gradient_checkpointing_kwargs=None,\n",
              "greater_is_better=None,\n",
              "group_by_length=False,\n",
              "half_precision_backend=auto,\n",
              "hub_always_push=False,\n",
              "hub_model_id=None,\n",
              "hub_private_repo=False,\n",
              "hub_strategy=every_save,\n",
              "hub_token=<HUB_TOKEN>,\n",
              "ignore_data_skip=False,\n",
              "include_inputs_for_metrics=False,\n",
              "include_num_input_tokens_seen=False,\n",
              "include_tokens_per_second=False,\n",
              "jit_mode_eval=False,\n",
              "label_names=None,\n",
              "label_smoothing_factor=0.0,\n",
              "learning_rate=2e-05,\n",
              "length_column_name=length,\n",
              "load_best_model_at_end=False,\n",
              "local_rank=0,\n",
              "log_level=passive,\n",
              "log_level_replica=warning,\n",
              "log_on_each_node=True,\n",
              "logging_dir=output_dir/runs/Mar11_04-57-57_16a0d87304c2,\n",
              "logging_first_step=False,\n",
              "logging_nan_inf_filter=True,\n",
              "logging_steps=500,\n",
              "logging_strategy=steps,\n",
              "lr_scheduler_kwargs={},\n",
              "lr_scheduler_type=linear,\n",
              "max_grad_norm=1.0,\n",
              "max_steps=-1,\n",
              "metric_for_best_model=None,\n",
              "mp_parameters=,\n",
              "neftune_noise_alpha=None,\n",
              "no_cuda=False,\n",
              "num_train_epochs=3,\n",
              "optim=adamw_torch,\n",
              "optim_args=None,\n",
              "output_dir=output_dir,\n",
              "overwrite_output_dir=False,\n",
              "past_index=-1,\n",
              "per_device_eval_batch_size=16,\n",
              "per_device_train_batch_size=16,\n",
              "prediction_loss_only=False,\n",
              "push_to_hub=False,\n",
              "push_to_hub_model_id=None,\n",
              "push_to_hub_organization=None,\n",
              "push_to_hub_token=<PUSH_TO_HUB_TOKEN>,\n",
              "ray_scope=last,\n",
              "remove_unused_columns=True,\n",
              "report_to=['tensorboard'],\n",
              "resume_from_checkpoint=None,\n",
              "run_name=output_dir,\n",
              "save_on_each_node=False,\n",
              "save_only_model=False,\n",
              "save_safetensors=True,\n",
              "save_steps=500,\n",
              "save_strategy=steps,\n",
              "save_total_limit=None,\n",
              "seed=42,\n",
              "skip_memory_metrics=True,\n",
              "split_batches=None,\n",
              "tf32=None,\n",
              "torch_compile=False,\n",
              "torch_compile_backend=None,\n",
              "torch_compile_mode=None,\n",
              "torchdynamo=None,\n",
              "tpu_metrics_debug=False,\n",
              "tpu_num_cores=None,\n",
              "use_cpu=False,\n",
              "use_ipex=False,\n",
              "use_legacy_prediction_loop=False,\n",
              "use_mps_device=False,\n",
              "warmup_ratio=0.0,\n",
              "warmup_steps=0,\n",
              "weight_decay=0.0,\n",
              ")"
            ]
          },
          "execution_count": 18,
          "metadata": {},
          "output_type": "execute_result"
        }
      ],
      "source": [
        "trainer.args"
      ]
    },
    {
      "cell_type": "code",
      "execution_count": null,
      "metadata": {
        "execution": {
          "iopub.execute_input": "2024-03-10T15:43:20.848861Z",
          "iopub.status.busy": "2024-03-10T15:43:20.848602Z",
          "iopub.status.idle": "2024-03-10T17:15:55.916832Z",
          "shell.execute_reply": "2024-03-10T17:15:55.915925Z",
          "shell.execute_reply.started": "2024-03-10T15:43:20.848837Z"
        },
        "id": "qRsIAGeKyR8n",
        "outputId": "c7cab2a6-a332-4083-a621-ff8d44cad633",
        "trusted": true
      },
      "outputs": [
        {
          "name": "stderr",
          "output_type": "stream",
          "text": [
            "\u001b[34m\u001b[1mwandb\u001b[0m: Logging into wandb.ai. (Learn how to deploy a W&B server locally: https://wandb.me/wandb-server)\n",
            "\u001b[34m\u001b[1mwandb\u001b[0m: You can find your API key in your browser here: https://wandb.ai/authorize\n",
            "\u001b[34m\u001b[1mwandb\u001b[0m: Paste an API key from your profile and hit enter, or press ctrl+c to quit:"
          ]
        },
        {
          "name": "stdout",
          "output_type": "stream",
          "text": [
            "  ········································\n"
          ]
        },
        {
          "name": "stderr",
          "output_type": "stream",
          "text": [
            "\u001b[34m\u001b[1mwandb\u001b[0m: Appending key for api.wandb.ai to your netrc file: /root/.netrc\n"
          ]
        },
        {
          "data": {
            "text/html": [
              "wandb version 0.16.4 is available!  To upgrade, please run:\n",
              " $ pip install wandb --upgrade"
            ],
            "text/plain": [
              "<IPython.core.display.HTML object>"
            ]
          },
          "metadata": {},
          "output_type": "display_data"
        },
        {
          "data": {
            "text/html": [
              "Tracking run with wandb version 0.16.3"
            ],
            "text/plain": [
              "<IPython.core.display.HTML object>"
            ]
          },
          "metadata": {},
          "output_type": "display_data"
        },
        {
          "data": {
            "text/html": [
              "Run data is saved locally in <code>/kaggle/working/wandb/run-20240310_154341-1hcstwiq</code>"
            ],
            "text/plain": [
              "<IPython.core.display.HTML object>"
            ]
          },
          "metadata": {},
          "output_type": "display_data"
        },
        {
          "data": {
            "text/html": [
              "Syncing run <strong><a href='https://wandb.ai/vaibhav07/huggingface/runs/1hcstwiq' target=\"_blank\">glamorous-paper-3</a></strong> to <a href='https://wandb.ai/vaibhav07/huggingface' target=\"_blank\">Weights & Biases</a> (<a href='https://wandb.me/run' target=\"_blank\">docs</a>)<br/>"
            ],
            "text/plain": [
              "<IPython.core.display.HTML object>"
            ]
          },
          "metadata": {},
          "output_type": "display_data"
        },
        {
          "data": {
            "text/html": [
              " View project at <a href='https://wandb.ai/vaibhav07/huggingface' target=\"_blank\">https://wandb.ai/vaibhav07/huggingface</a>"
            ],
            "text/plain": [
              "<IPython.core.display.HTML object>"
            ]
          },
          "metadata": {},
          "output_type": "display_data"
        },
        {
          "data": {
            "text/html": [
              " View run at <a href='https://wandb.ai/vaibhav07/huggingface/runs/1hcstwiq' target=\"_blank\">https://wandb.ai/vaibhav07/huggingface/runs/1hcstwiq</a>"
            ],
            "text/plain": [
              "<IPython.core.display.HTML object>"
            ]
          },
          "metadata": {},
          "output_type": "display_data"
        },
        {
          "name": "stderr",
          "output_type": "stream",
          "text": [
            "/opt/conda/lib/python3.10/site-packages/torch/nn/parallel/_functions.py:68: UserWarning: Was asked to gather along dimension 0, but all input tensors were scalars; will instead unsqueeze and return a vector.\n",
            "  warnings.warn('Was asked to gather along dimension 0, but all '\n"
          ]
        },
        {
          "data": {
            "text/html": [
              "\n",
              "    <div>\n",
              "      \n",
              "      <progress value='3750' max='3750' style='width:300px; height:20px; vertical-align: middle;'></progress>\n",
              "      [3750/3750 1:31:36, Epoch 3/3]\n",
              "    </div>\n",
              "    <table border=\"1\" class=\"dataframe\">\n",
              "  <thead>\n",
              " <tr style=\"text-align: left;\">\n",
              "      <th>Epoch</th>\n",
              "      <th>Training Loss</th>\n",
              "      <th>Validation Loss</th>\n",
              "      <th>Loc Precision</th>\n",
              "      <th>Loc Recall</th>\n",
              "      <th>Loc F1</th>\n",
              "      <th>Loc Number</th>\n",
              "      <th>Org Precision</th>\n",
              "      <th>Org Recall</th>\n",
              "      <th>Org F1</th>\n",
              "      <th>Org Number</th>\n",
              "      <th>Per Precision</th>\n",
              "      <th>Per Recall</th>\n",
              "      <th>Per F1</th>\n",
              "      <th>Per Number</th>\n",
              "      <th>Overall Precision</th>\n",
              "      <th>Overall Recall</th>\n",
              "      <th>Overall F1</th>\n",
              "      <th>Overall Accuracy</th>\n",
              "    </tr>\n",
              "  </thead>\n",
              "  <tbody>\n",
              "    <tr>\n",
              "      <td>1</td>\n",
              "      <td>0.408400</td>\n",
              "      <td>0.368356</td>\n",
              "      <td>0.744600</td>\n",
              "      <td>0.485099</td>\n",
              "      <td>0.587469</td>\n",
              "      <td>1208</td>\n",
              "      <td>0.614754</td>\n",
              "      <td>0.424528</td>\n",
              "      <td>0.502232</td>\n",
              "      <td>1060</td>\n",
              "      <td>0.710604</td>\n",
              "      <td>0.597523</td>\n",
              "      <td>0.649176</td>\n",
              "      <td>1615</td>\n",
              "      <td>0.695516</td>\n",
              "      <td>0.515323</td>\n",
              "      <td>0.592012</td>\n",
              "      <td>0.888952</td>\n",
              "    </tr>\n",
              "    <tr>\n",
              "      <td>2</td>\n",
              "      <td>0.319600</td>\n",
              "      <td>0.314230</td>\n",
              "      <td>0.688983</td>\n",
              "      <td>0.673013</td>\n",
              "      <td>0.680905</td>\n",
              "      <td>1208</td>\n",
              "      <td>0.567433</td>\n",
              "      <td>0.535849</td>\n",
              "      <td>0.551189</td>\n",
              "      <td>1060</td>\n",
              "      <td>0.719365</td>\n",
              "      <td>0.701548</td>\n",
              "      <td>0.710345</td>\n",
              "      <td>1615</td>\n",
              "      <td>0.669329</td>\n",
              "      <td>0.647438</td>\n",
              "      <td>0.658201</td>\n",
              "      <td>0.903619</td>\n",
              "    </tr>\n",
              "    <tr>\n",
              "      <td>3</td>\n",
              "      <td>0.293800</td>\n",
              "      <td>0.307494</td>\n",
              "      <td>0.705725</td>\n",
              "      <td>0.653146</td>\n",
              "      <td>0.678418</td>\n",
              "      <td>1208</td>\n",
              "      <td>0.586281</td>\n",
              "      <td>0.516038</td>\n",
              "      <td>0.548921</td>\n",
              "      <td>1060</td>\n",
              "      <td>0.724824</td>\n",
              "      <td>0.699690</td>\n",
              "      <td>0.712035</td>\n",
              "      <td>1615</td>\n",
              "      <td>0.683102</td>\n",
              "      <td>0.635076</td>\n",
              "      <td>0.658214</td>\n",
              "      <td>0.906032</td>\n",
              "    </tr>\n",
              "  </tbody>\n",
              "</table><p>"
            ],
            "text/plain": [
              "<IPython.core.display.HTML object>"
            ]
          },
          "metadata": {},
          "output_type": "display_data"
        },
        {
          "name": "stderr",
          "output_type": "stream",
          "text": [
            "/opt/conda/lib/python3.10/site-packages/torch/nn/parallel/_functions.py:68: UserWarning: Was asked to gather along dimension 0, but all input tensors were scalars; will instead unsqueeze and return a vector.\n",
            "  warnings.warn('Was asked to gather along dimension 0, but all '\n",
            "/opt/conda/lib/python3.10/site-packages/torch/nn/parallel/_functions.py:68: UserWarning: Was asked to gather along dimension 0, but all input tensors were scalars; will instead unsqueeze and return a vector.\n",
            "  warnings.warn('Was asked to gather along dimension 0, but all '\n",
            "/opt/conda/lib/python3.10/site-packages/torch/nn/parallel/_functions.py:68: UserWarning: Was asked to gather along dimension 0, but all input tensors were scalars; will instead unsqueeze and return a vector.\n",
            "  warnings.warn('Was asked to gather along dimension 0, but all '\n",
            "/opt/conda/lib/python3.10/site-packages/torch/nn/parallel/_functions.py:68: UserWarning: Was asked to gather along dimension 0, but all input tensors were scalars; will instead unsqueeze and return a vector.\n",
            "  warnings.warn('Was asked to gather along dimension 0, but all '\n",
            "/opt/conda/lib/python3.10/site-packages/torch/nn/parallel/_functions.py:68: UserWarning: Was asked to gather along dimension 0, but all input tensors were scalars; will instead unsqueeze and return a vector.\n",
            "  warnings.warn('Was asked to gather along dimension 0, but all '\n",
            "/opt/conda/lib/python3.10/site-packages/torch/nn/parallel/_functions.py:68: UserWarning: Was asked to gather along dimension 0, but all input tensors were scalars; will instead unsqueeze and return a vector.\n",
            "  warnings.warn('Was asked to gather along dimension 0, but all '\n",
            "/opt/conda/lib/python3.10/site-packages/torch/nn/parallel/_functions.py:68: UserWarning: Was asked to gather along dimension 0, but all input tensors were scalars; will instead unsqueeze and return a vector.\n",
            "  warnings.warn('Was asked to gather along dimension 0, but all '\n"
          ]
        }
      ],
      "source": [
        "train_result = trainer.train()\n",
        "metrics = train_result.metrics"
      ]
    },
    {
      "cell_type": "code",
      "execution_count": null,
      "metadata": {
        "execution": {
          "iopub.execute_input": "2024-03-10T17:17:50.418950Z",
          "iopub.status.busy": "2024-03-10T17:17:50.418239Z",
          "iopub.status.idle": "2024-03-10T17:18:38.258982Z",
          "shell.execute_reply": "2024-03-10T17:18:38.257145Z",
          "shell.execute_reply.started": "2024-03-10T17:17:50.418909Z"
        },
        "id": "-3b4o8DvyR8n",
        "outputId": "1ff2b56f-1cea-41d5-80bc-aed687bb36cc",
        "trusted": true
      },
      "outputs": [
        {
          "data": {
            "text/html": [],
            "text/plain": [
              "<IPython.core.display.HTML object>"
            ]
          },
          "metadata": {},
          "output_type": "display_data"
        },
        {
          "name": "stdout",
          "output_type": "stream",
          "text": [
            "***** eval metrics *****\n",
            "  epoch                   =        3.0\n",
            "  eval_LOC_f1             =     0.6784\n",
            "  eval_LOC_number         =       1208\n",
            "  eval_LOC_precision      =     0.7057\n",
            "  eval_LOC_recall         =     0.6531\n",
            "  eval_ORG_f1             =     0.5489\n",
            "  eval_ORG_number         =       1060\n",
            "  eval_ORG_precision      =     0.5863\n",
            "  eval_ORG_recall         =      0.516\n",
            "  eval_PER_f1             =      0.712\n",
            "  eval_PER_number         =       1615\n",
            "  eval_PER_precision      =     0.7248\n",
            "  eval_PER_recall         =     0.6997\n",
            "  eval_loss               =     0.3075\n",
            "  eval_overall_accuracy   =      0.906\n",
            "  eval_overall_f1         =     0.6582\n",
            "  eval_overall_precision  =     0.6831\n",
            "  eval_overall_recall     =     0.6351\n",
            "  eval_runtime            = 0:00:47.81\n",
            "  eval_samples_per_second =     49.963\n",
            "  eval_steps_per_second   =      1.569\n"
          ]
        }
      ],
      "source": [
        "metrics = trainer.evaluate()\n",
        "\n",
        "trainer.log_metrics(\"eval\", metrics)"
      ]
    },
    {
      "cell_type": "markdown",
      "metadata": {
        "id": "POASerEuyR8o"
      },
      "source": [
        "# **Evaluate the Trained Model**"
      ]
    },
    {
      "cell_type": "code",
      "execution_count": null,
      "metadata": {
        "colab": {
          "base_uri": "https://localhost:8080/",
          "height": 85,
          "referenced_widgets": [
            "27b7e0f5f5be49a28acabdde92dd5e78",
            "96a497b24bc9498f81d68afc125f4d4d",
            "e10b6c1870014025becf2dbe8143181e",
            "835922ceb10742c190f803a3ab8b07a2",
            "dfcf81e3dba04eef96bfded527d28b55",
            "09b1b693b7bb442f94fbb8000d0bdb50",
            "deb086152a5346df9a739429c8cae525",
            "98eeffc85e38422d89d70d4b9cc54b92",
            "672cab3a954640fb916b5e256344aafe",
            "29288010c06d47aab6024584e3bdefc3",
            "6ac4e30349e145838ec545b045700de3"
          ]
        },
        "execution": {
          "iopub.execute_input": "2024-03-10T17:18:52.235085Z",
          "iopub.status.busy": "2024-03-10T17:18:52.234358Z",
          "iopub.status.idle": "2024-03-10T17:18:54.239000Z",
          "shell.execute_reply": "2024-03-10T17:18:54.237664Z",
          "shell.execute_reply.started": "2024-03-10T17:18:52.235053Z"
        },
        "id": "M-jKVD35yR8o",
        "outputId": "9282532d-12ca-4854-fd8c-c90cd842d267",
        "trusted": true
      },
      "outputs": [
        {
          "name": "stderr",
          "output_type": "stream",
          "text": [
            "num_proc must be <= 26. Reducing num_proc to 26 for dataset of size 26.\n",
            "WARNING:datasets.arrow_dataset:num_proc must be <= 26. Reducing num_proc to 26 for dataset of size 26.\n"
          ]
        },
        {
          "data": {
            "application/vnd.jupyter.widget-view+json": {
              "model_id": "27b7e0f5f5be49a28acabdde92dd5e78",
              "version_major": 2,
              "version_minor": 0
            },
            "text/plain": [
              "Running tokenizer on test dataset of language (num_proc=26):   0%|          | 0/26 [00:00<?, ? examples/s]"
            ]
          },
          "metadata": {},
          "output_type": "display_data"
        }
      ],
      "source": [
        "\n",
        "original_test_size = len(raw_datasets[\"test\"])\n",
        "new_test_size = int(original_test_size * 0.025)\n",
        "\n",
        "test_dataset = raw_datasets['test'].select(range(new_test_size)).map(\n",
        "      tokenize_and_align_labels,\n",
        "      batched=True,\n",
        "      num_proc=32,\n",
        "      load_from_cache_file=True,\n",
        "      desc=\"Running tokenizer on test dataset of language\",\n",
        ")"
      ]
    },
    {
      "cell_type": "code",
      "execution_count": null,
      "metadata": {
        "colab": {
          "base_uri": "https://localhost:8080/",
          "height": 17
        },
        "execution": {
          "iopub.execute_input": "2024-03-10T17:19:47.631863Z",
          "iopub.status.busy": "2024-03-10T17:19:47.630747Z",
          "iopub.status.idle": "2024-03-10T17:19:48.188967Z",
          "shell.execute_reply": "2024-03-10T17:19:48.187953Z",
          "shell.execute_reply.started": "2024-03-10T17:19:47.631825Z"
        },
        "id": "zoqRLU3jyR8o",
        "outputId": "6f5e1b0f-a38b-4510-c8b3-9e6a5025ee64",
        "trusted": true
      },
      "outputs": [
        {
          "data": {
            "text/html": [],
            "text/plain": [
              "<IPython.core.display.HTML object>"
            ]
          },
          "metadata": {},
          "output_type": "display_data"
        }
      ],
      "source": [
        "final_metrics = {}\n",
        "\n",
        "predictions, labels, metrics = trainer.predict(test_dataset)\n",
        "\n",
        "for key in metrics:\n",
        "    if 'overall_precision' in key:\n",
        "      final_metrics['Precision'] = metrics[key]\n",
        "    elif 'overall_recall' in key:\n",
        "      final_metrics['Recall'] = metrics[key]\n",
        "    elif 'overall_f1' in key:\n",
        "      final_metrics['F1'] = metrics[key]"
      ]
    },
    {
      "cell_type": "code",
      "execution_count": null,
      "metadata": {
        "colab": {
          "base_uri": "https://localhost:8080/"
        },
        "execution": {
          "iopub.execute_input": "2024-03-10T17:19:51.636009Z",
          "iopub.status.busy": "2024-03-10T17:19:51.635133Z",
          "iopub.status.idle": "2024-03-10T17:19:51.668554Z",
          "shell.execute_reply": "2024-03-10T17:19:51.667537Z",
          "shell.execute_reply.started": "2024-03-10T17:19:51.635954Z"
        },
        "id": "WD-jOqbhyR8o",
        "outputId": "b9b5451c-9431-4cee-b66d-2ddf6192f2a5",
        "trusted": true
      },
      "outputs": [
        {
          "name": "stdout",
          "output_type": "stream",
          "text": [
            "                  0\n",
            "Precision  0.036530\n",
            "Recall     0.200000\n",
            "F1         0.061776\n"
          ]
        }
      ],
      "source": [
        "import pandas as pd\n",
        "\n",
        "combined_results = pd.DataFrame.from_dict(\n",
        "            final_metrics, orient=\"index\"\n",
        "        )\n",
        "\n",
        "print(combined_results)"
      ]
    },
    {
      "cell_type": "markdown",
      "metadata": {
        "id": "b2KWrheM37FN"
      },
      "source": [
        "# **Saving Trained Model**"
      ]
    },
    {
      "cell_type": "code",
      "execution_count": null,
      "metadata": {
        "execution": {
          "iopub.execute_input": "2024-03-10T17:23:57.040462Z",
          "iopub.status.busy": "2024-03-10T17:23:57.040118Z",
          "iopub.status.idle": "2024-03-10T17:23:57.346842Z",
          "shell.execute_reply": "2024-03-10T17:23:57.345964Z",
          "shell.execute_reply.started": "2024-03-10T17:23:57.040437Z"
        },
        "id": "EdtovM2oyR8p",
        "trusted": true
      },
      "outputs": [],
      "source": [
        "model.save_pretrained(\"ner_model\")"
      ]
    },
    {
      "cell_type": "code",
      "execution_count": null,
      "metadata": {
        "execution": {
          "iopub.execute_input": "2024-03-10T17:49:56.636301Z",
          "iopub.status.busy": "2024-03-10T17:49:56.635545Z",
          "iopub.status.idle": "2024-03-10T17:49:56.716063Z",
          "shell.execute_reply": "2024-03-10T17:49:56.714907Z",
          "shell.execute_reply.started": "2024-03-10T17:49:56.636270Z"
        },
        "id": "e_WYq5M3yR8p",
        "trusted": true
      },
      "outputs": [],
      "source": [
        "model = AutoModelForTokenClassification.from_pretrained('/kaggle/working/ner_model')"
      ]
    },
    {
      "cell_type": "code",
      "execution_count": null,
      "metadata": {
        "execution": {
          "iopub.execute_input": "2024-03-10T17:50:06.912897Z",
          "iopub.status.busy": "2024-03-10T17:50:06.912044Z",
          "iopub.status.idle": "2024-03-10T17:50:14.842583Z",
          "shell.execute_reply": "2024-03-10T17:50:14.841418Z",
          "shell.execute_reply.started": "2024-03-10T17:50:06.912851Z"
        },
        "id": "Lep7f4X-yR8p",
        "outputId": "19baf24e-761c-4971-b8bb-e6c63eaf3572",
        "trusted": true
      },
      "outputs": [
        {
          "name": "stdout",
          "output_type": "stream",
          "text": [
            "  adding: kaggle/working/ner_model/ (stored 0%)\n",
            "  adding: kaggle/working/ner_model/model.safetensors (deflated 7%)\n",
            "  adding: kaggle/working/ner_model/config.json (deflated 51%)\n"
          ]
        }
      ],
      "source": [
        "!zip -r BertTuned.zip /kaggle/working/ner_model"
      ]
    },
    {
      "cell_type": "code",
      "execution_count": null,
      "metadata": {
        "execution": {
          "iopub.execute_input": "2024-03-10T17:24:22.238537Z",
          "iopub.status.busy": "2024-03-10T17:24:22.238124Z",
          "iopub.status.idle": "2024-03-10T17:24:22.533384Z",
          "shell.execute_reply": "2024-03-10T17:24:22.532333Z",
          "shell.execute_reply.started": "2024-03-10T17:24:22.238494Z"
        },
        "id": "WhcakbxNyR8p",
        "trusted": true
      },
      "outputs": [],
      "source": [
        "model.save_pretrained(\"tokenizer\")"
      ]
    },
    {
      "cell_type": "code",
      "execution_count": null,
      "metadata": {
        "execution": {
          "iopub.execute_input": "2024-03-10T17:28:08.809113Z",
          "iopub.status.busy": "2024-03-10T17:28:08.808506Z",
          "iopub.status.idle": "2024-03-10T17:28:08.815644Z",
          "shell.execute_reply": "2024-03-10T17:28:08.814475Z",
          "shell.execute_reply.started": "2024-03-10T17:28:08.809079Z"
        },
        "id": "dOGfahhNyR8p",
        "trusted": true
      },
      "outputs": [],
      "source": [
        "label_list=['O', 'B-PER', 'I-PER', 'B-ORG', 'I-ORG', 'B-LOC', 'I-LOC']\n",
        "id2label = {\n",
        "    str(i): label for i, label in enumerate(label_list)\n",
        "}\n",
        "label2id = {\n",
        "    label: str(i) for i, label in enumerate(label_list)\n",
        "}"
      ]
    },
    {
      "cell_type": "code",
      "execution_count": null,
      "metadata": {
        "execution": {
          "iopub.execute_input": "2024-03-10T17:28:20.340421Z",
          "iopub.status.busy": "2024-03-10T17:28:20.340066Z",
          "iopub.status.idle": "2024-03-10T17:28:20.346258Z",
          "shell.execute_reply": "2024-03-10T17:28:20.345283Z",
          "shell.execute_reply.started": "2024-03-10T17:28:20.340394Z"
        },
        "id": "Eb7Oe97ryR8p",
        "trusted": true
      },
      "outputs": [],
      "source": [
        "import json"
      ]
    },
    {
      "cell_type": "code",
      "execution_count": null,
      "metadata": {
        "colab": {
          "base_uri": "https://localhost:8080/"
        },
        "id": "zNz5d2IJzAAB",
        "outputId": "bf6abb25-d28f-4e7b-fafe-258e22ca41e2"
      },
      "outputs": [
        {
          "name": "stdout",
          "output_type": "stream",
          "text": [
            "Drive already mounted at /content/drive; to attempt to forcibly remount, call drive.mount(\"/content/drive\", force_remount=True).\n"
          ]
        }
      ],
      "source": [
        "from google.colab import drive\n",
        "drive.mount('/content/drive')"
      ]
    },
    {
      "cell_type": "code",
      "execution_count": null,
      "metadata": {
        "execution": {
          "iopub.execute_input": "2024-03-10T17:37:00.681764Z",
          "iopub.status.busy": "2024-03-10T17:37:00.681112Z",
          "iopub.status.idle": "2024-03-10T17:37:00.689063Z",
          "shell.execute_reply": "2024-03-10T17:37:00.687966Z",
          "shell.execute_reply.started": "2024-03-10T17:37:00.681732Z"
        },
        "id": "0P2wv9mcyR8p",
        "trusted": true
      },
      "outputs": [],
      "source": [
        "label_list=['O', 'B-PER', 'I-PER', 'B-ORG', 'I-ORG', 'B-LOC', 'I-LOC']\n",
        "config = json.load(open(\"/content/drive/MyDrive/ner_model/config.json\"))\n",
        "config[\"id2label\"] = id2label\n",
        "config[\"label2id\"] = label2id\n",
        "json.dump(config, open(\"/content/drive/MyDrive/ner_model/config.json\",\"w\"))"
      ]
    },
    {
      "cell_type": "code",
      "execution_count": null,
      "metadata": {
        "execution": {
          "iopub.execute_input": "2024-03-10T17:37:21.937616Z",
          "iopub.status.busy": "2024-03-10T17:37:21.936779Z",
          "iopub.status.idle": "2024-03-10T17:37:22.005147Z",
          "shell.execute_reply": "2024-03-10T17:37:22.003835Z",
          "shell.execute_reply.started": "2024-03-10T17:37:21.937587Z"
        },
        "id": "wY3yi4QvyR8p",
        "trusted": true
      },
      "outputs": [],
      "source": [
        "model = AutoModelForTokenClassification.from_pretrained(\"/content/drive/MyDrive/ner_model\")"
      ]
    },
    {
      "cell_type": "code",
      "execution_count": null,
      "metadata": {
        "execution": {
          "iopub.execute_input": "2024-03-10T17:39:00.725418Z",
          "iopub.status.busy": "2024-03-10T17:39:00.724700Z",
          "iopub.status.idle": "2024-03-10T17:39:00.736566Z",
          "shell.execute_reply": "2024-03-10T17:39:00.735314Z",
          "shell.execute_reply.started": "2024-03-10T17:39:00.725385Z"
        },
        "id": "jT8QfcKKyR8q",
        "trusted": true
      },
      "outputs": [],
      "source": [
        "def get_ner(sentence):\n",
        "    tok_sentence = tokenizer(sentence, return_tensors='pt')\n",
        "\n",
        "    with torch.no_grad():\n",
        "        logits = model(**tok_sentence).logits.argmax(-1)\n",
        "        predicted_tokens_classes = [\n",
        "            model.config.id2label[t.item()] for t in logits[0]]\n",
        "\n",
        "        predicted_labels = []\n",
        "\n",
        "        previous_token_id = 0\n",
        "        word_ids = tok_sentence.word_ids()\n",
        "        for word_index in range(len(word_ids)):\n",
        "            if word_ids[word_index] == None:\n",
        "                previous_token_id = word_ids[word_index]\n",
        "            elif word_ids[word_index] == previous_token_id:\n",
        "                previous_token_id = word_ids[word_index]\n",
        "            else:\n",
        "                predicted_labels.append(predicted_tokens_classes[word_index])\n",
        "                previous_token_id = word_ids[word_index]\n",
        "\n",
        "        ner_output = []\n",
        "        for index in range(len(sentence.split(' '))):\n",
        "            if(index<len(predicted_labels)):\n",
        "                ner_output.append((sentence.split(' ')[index], predicted_labels[index]))\n",
        "            else:\n",
        "                ner_output.append((sentence.split(' ')[index], 'O'))\n",
        "        return ner_output"
      ]
    },
    {
      "cell_type": "code",
      "execution_count": null,
      "metadata": {
        "colab": {
          "base_uri": "https://localhost:8080/"
        },
        "execution": {
          "iopub.execute_input": "2024-03-10T17:39:54.784492Z",
          "iopub.status.busy": "2024-03-10T17:39:54.783534Z",
          "iopub.status.idle": "2024-03-10T17:39:54.889482Z",
          "shell.execute_reply": "2024-03-10T17:39:54.884063Z",
          "shell.execute_reply.started": "2024-03-10T17:39:54.784458Z"
        },
        "id": "gMbf0IeCyR8q",
        "outputId": "f6059caa-85eb-4f95-c9bd-21cad2b45782",
        "trusted": true
      },
      "outputs": [
        {
          "data": {
            "text/plain": [
              "[('૯મી', 'O'),\n",
              " ('ઓગસ્ટ', 'O'),\n",
              " ('૨૦૧૬ના', 'O'),\n",
              " ('રોજ', 'O'),\n",
              " ('આદિવાસી', 'B-ORG'),\n",
              " ('વિકાસ', 'I-ORG'),\n",
              " ('સંગઠન', 'I-ORG'),\n",
              " ('દ્વારા', 'O'),\n",
              " ('આદિવાસી', 'B-LOC'),\n",
              " ('ભવન', 'O'),\n",
              " ('ખાતે', 'O'),\n",
              " ('ખૂબ', 'O'),\n",
              " ('જ', 'O'),\n",
              " ('ઉત્સાહભેર', 'O'),\n",
              " ('ઉજવણી', 'O'),\n",
              " ('કરવામાં', 'O'),\n",
              " ('આવશે.', 'O')]"
            ]
          },
          "execution_count": 43,
          "metadata": {},
          "output_type": "execute_result"
        }
      ],
      "source": [
        "import  torch\n",
        "# let us try with some example sentences here\n",
        "sentence = '૯મી ઓગસ્ટ ૨૦૧૬ના રોજ આદિવાસી વિકાસ સંગઠન દ્વારા આદિવાસી ભવન ખાતે ખૂબ જ ઉત્સાહભેર ઉજવણી કરવામાં આવશે.'\n",
        "\n",
        "predicted_labels = get_ner(sentence=sentence)\n",
        "predicted_labels"
      ]
    },
    {
      "cell_type": "markdown",
      "metadata": {
        "id": "G8B0-aNg1cFZ"
      },
      "source": []
    },
    {
      "cell_type": "markdown",
      "metadata": {
        "id": "nD6ru0011XWB"
      },
      "source": [
        "# **QUESTION 4 Model Prediction**"
      ]
    },
    {
      "cell_type": "code",
      "execution_count": null,
      "metadata": {
        "colab": {
          "base_uri": "https://localhost:8080/"
        },
        "id": "qeeZe-511c4d",
        "outputId": "31c0702b-f7da-4dc5-d9c4-89300e7487e7"
      },
      "outputs": [
        {
          "name": "stdout",
          "output_type": "stream",
          "text": [
            "[[('૯મી', 'O'), ('ઓગસ્ટ', 'O'), ('૨૦૧૬ના', 'O'), ('રોજ', 'O'), ('આદિવાસી', 'B-ORG'), ('વિકાસ', 'I-ORG'), ('સંગઠન', 'I-ORG'), ('દ્વારા', 'O'), ('આદિવાસી', 'B-LOC'), ('ભવન', 'O'), ('ખાતે', 'O'), ('ખૂબ', 'O'), ('જ', 'O'), ('ઉત્સાહભેર', 'O'), ('ઉજવણી', 'O'), ('કરવામાં', 'O'), ('આવશે.', 'O')], [('આ', 'O'), ('મામલા', 'O'), ('સાથે', 'O'), ('જોડાયેલી', 'O'), ('મોટી', 'O'), ('જાણકારી', 'O'), ('એ', 'O'), ('છે', 'O'), ('કે', 'O'), ('પીએનબીની', 'B-LOC'), ('બ્રૈડી', 'O'), ('ફોર્ડ', 'I-ORG'), ('બ્રાંચ', 'I-ORG'), ('જે', 'O'), ('પૂર્વ', 'O'), ('ડેપ્યુટી', 'O'), ('મેનેજર', 'O'), ('ગોકુલનાથ', 'B-PER'), ('શેટ્ટીની', 'I-PER'), ('શનિવારે', 'I-PER'), ('ધરપકડ', 'O'), ('કરવામાં', 'O'), ('આવી', 'O'), ('છે.', 'O')], [('‘જ્ઞાન', 'O'), ('સાથે', 'O'), ('ગમ્મત’', 'O'), ('પર', 'O'), ('શેર', 'O'), ('કરેલી', 'O'), ('આ', 'O'), ('માહિતી', 'O'), ('જો', 'O'), ('તમને', 'O'), ('ઉપયોગી', 'O'), ('લાગી', 'O'), ('હોય', 'O'), ('તો', 'O'), ('બીજા', 'O'), ('મિત્રો', 'O'), ('સાથે', 'O'), ('જરૂર', 'O'), ('શેર', 'O'), ('કરજો.', 'O')], [('નેને', 'O'), ('એ', 'O'), ('પછી', 'O'), ('સાઉથ', 'B-LOC'), ('આફ્રિકાના', 'I-LOC'), ('નાણામંત્રી', 'O'), ('બાબતનો', 'B-PER'), ('કોઈ', 'O'), ('અનુભવ', 'O'), ('જ', 'O'), ('હતો.', 'O')], [('અને', 'O'), ('1976', 'O'), ('માં', 'O'), ('એ.', 'B-PER'), ('સ્ટીફાનોવિચ', 'I-PER'), ('સાથે', 'O'), ('તેના', 'O'), ('રેન્ડમ', 'O'), ('પરિચય', 'O'), ('થયા.', 'O')], [('આથી', 'O'), ('ઋષિકેશ', 'B-LOC'), ('નગરમાં', 'O'), ('વિરભદ્ર', 'B-PER'), ('બંધના', 'I-PER'), ('દ્વાર', 'O'), ('પાસે', 'O'), ('તે', 'O'), ('ફસાઈ', 'O'), ('ગયો', 'O'), ('હતો.', 'O')], [('કળવા', 'O'), ('પણ', 'O'), ('ન', 'O'), ('દે', 'O'), ('ત્રીજાને', 'O'), ('કે', 'O'), ('તેણે', 'O'), ('જે', 'O'), ('ઉધારી', 'O'), ('કરી', 'O'), ('છે', 'O'), ('એની', 'O'), ('તેને', 'O'), ('ખબર', 'O'), ('છે.', 'O')], [('ત્યારે', 'O'), ('સરકાર', 'O'), ('દ્વારા', 'O'), ('ચાઇનીઝ', 'O'), ('કંપનીઓને', 'O'), ('ફાયદો', 'O'), ('કરાવનારી', 'O'), ('નીતિ', 'O'), ('અમલમાં', 'O'), ('મુકાતા', 'O'), ('સિરામિક', 'O'), ('ઉદ્યોગ', 'O'), ('દ્વારા', 'O'), ('હાઈકોર્ટના', 'O'), ('દ્વારા', 'O'), ('ખખડાવાનો', 'O'), ('નિર્ણય', 'O'), ('લેવાયો', 'O'), ('છે.', 'O')], [('CBIએ', 'B-ORG'), ('કહ્યું', 'O'), ('કે.', 'O'), ('કોર્ટે', 'O'), ('વણઝારા', 'O'), ('અને', 'O'), ('અમીનના', 'O'), ('કેસની', 'O'), ('જેમ', 'O'), ('આ', 'O'), ('ચારેય', 'O'), ('પોલીસકર્મીના', 'O'), ('કેસને', 'O'), ('ના', 'O'), ('જોવો', 'O'), ('જોઈએ.', 'O')], [('જયારે', 'O'), ('સાયલા', 'O'), ('નજીક', 'O'), ('આવેલા', 'O'), ('હરણીયા', 'O'), ('ગામના', 'O'), ('વનરાજભાઇ', 'B-PER'), ('અમરાભાઇ', 'I-PER'), ('ખાચરની', 'I-PER'), ('વાડીમાં', 'O'), ('ઘોડીપાસાનો', 'O'), ('જુગાર', 'O'), ('રમાતો', 'O'), ('હોવાની', 'O'), ('બાતમીના', 'O'), ('આધારે', 'O'), ('આરઆર', 'O'), ('સેલના', 'I-PER'), ('સ્ટાફે', 'O'), ('દરોડો', 'O'), ('પાડી', 'O'), ('જુગાર', 'O'), ('રમતા', 'O'), ('રાજકોટ', 'O'), ('મેહુલનગરના', 'B-LOC'), ('મનદીપ', 'O'), ('હસમુખ', 'O'), ('વેકરીયા', 'O')], [('તે', 'O'), ('જલ્દિ', 'O'), ('ફિલ્મ', 'O'), ('નિકમ્મા', 'O'), ('થી', 'O'), ('કમબેક', 'O'), ('કરવા', 'O'), ('જઇ', 'O'), ('રહિ', 'O'), ('છે.', 'O')], [('લગભગ', 'O'), ('પાંચથી', 'O'), ('દસ', 'O'), ('લોકો', 'O'), ('એક', 'O'), ('સાથે', 'O'), ('જવું', 'O'), ('વધુ', 'O'), ('સારું', 'O'), ('રહેશે.', 'O')], [('સુરત', 'O'), ('કલેક્ટર', 'O'), ('કચેરીના', 'B-PER'), ('સુત્રોના', 'I-PER'), ('જણાવ્યા', 'O'), ('પ્રમાણે', 'O'), ('હાલની', 'O'), ('સ્થિતિમાં', 'O'), ('મહા', 'O'), ('વાવાઝોડું', 'O'), ('દીવ', 'O')], [('વ્હાઇટ', 'B-ORG'), ('રોટ', 'I-ORG'), ('આ', 'O'), ('રોગ', 'O'), ('પોતે', 'O'), ('અલગ', 'O'), ('રીતે', 'O'), ('પ્રગટ', 'O'), ('કરે', 'O'), ('છે', 'O')], [('કેટલો', 'O'), ('સમય', 'O'), ('જ્યારે', 'O'), ('સંબંધિત', 'O'), ('વિનંતિ', 'O'), ('સબમિટ', 'O'), ('વાલીપણું', 'O'), ('સત્તાવાળાઓ', 'O'), ('તરફથી', 'O'), ('પ્રતિસાદની', 'O'), ('રાહ?', 'O')], [('સરકારનો', 'O'), ('દ્રષ્ટિકોણ', 'O'), ('સાફ', 'O'), ('છે', 'O'), ('પર્સનલ', 'O'), ('લો', 'O'), ('બંધારણ', 'O'), ('અનુસાર', 'O'), ('જ', 'O'), ('હોવો', 'O'), ('જોઈએ.', 'O')], [('રાજસ્થાનથી', 'B-LOC'), ('આવતી', 'O'), ('ટ્રક', 'O'), ('શંકાસ્પદ', 'O'), ('જણાતા', 'O'), ('પોલીસને', 'O'), ('દારૂ', 'O'), ('ભરેલી', 'O'), ('પેટીઓ', 'O'), ('નજરે', 'O'), ('ચડતા', 'O'), ('જાણે', 'O'), ('આંખો', 'O'), ('ફાટી', 'O'), ('ગઇ', 'O'), ('હતી.', 'O')], [('1', 'O'), ('લી', 'O'), ('અને', 'O'), ('4', 'O'), ('થી', 'O'), ('બેડરૂમ', 'O'), ('માં', 'O'), ('ડબલ', 'O'), ('બેડ', 'O'), ('બે', 'O'), ('એક', 'O'), ('લીધું', 'O'), ('છે.', 'O')], [('જે', 'O'), ('હાલમાં', 'O'), ('દેશભરમાં', 'O'), ('મીટ્ટી', 'O'), ('કૂલના', 'O'), ('નામથી', 'O'), ('જાણીતું', 'O'), ('છે', 'O'), ('અને', 'O'), ('તેઓના', 'O'), ('આ', 'O'), ('દેશી', 'O'), ('ફ્રિજનું', 'O'), ('દેશના', 'O'), ('દરેક', 'O'), ('રાજ્યમાં', 'O'), ('વેચાણ', 'O'), ('થઇ', 'O'), ('રહ્યું', 'O'), ('છે.', 'O')], [('૧૯-૧૧ના', 'O'), ('રોજથી', 'O'), ('શરૂ', 'O'), ('થતાં', 'O'), ('નવા', 'O'), ('સત્રથી', 'O'), ('પુરવાની', 'O'), ('હતી', 'O'), ('તેનો', 'O'), ('ફિયાસ્કો', 'O'), ('થયો', 'O'), ('છે.', 'O')], [('વેંકી', 'B-PER'), ('મૈસુરનું', 'O'), ('નિવેદન', 'O'), ('પીએમએલએ', 'B-ORG'), ('હેઠળ', 'O'), ('ઇડીની', 'B-ORG'), ('કોલકાતા', 'I-ORG'), ('ઓફીસમાં', 'O'), ('નોંધાવ્યું', 'O'), ('હતું.', 'O')], [('રતન', 'B-PER'), ('ટાટા', 'O'), ('ગયા', 'O'), ('વર્ષના', 'O'), ('અંતે', 'O'), ('નિવૃત્ત', 'O'), ('થયા', 'O'), ('પછી', 'O'), ('ટાટા', 'O'), ('ગ્રૂપને', 'O'), ('નવો', 'O'), ('આકાર', 'O'), ('આપવા', 'O'), ('મિસ્ત્રીએ', 'O'), ('આ', 'O'), ('મહત્ત્વપૂર્ણ', 'O'), ('કદમ', 'O'), ('ઉઠાવ્યું', 'O'), ('હોવાનું', 'O'), ('માનવામાં', 'O'), ('આવે', 'O'), ('છે.', 'O')], [('ફાઈલ', 'O'), ('કે', 'O'), ('જે', 'O'), ('તમારા', 'O'), ('એકાઉન્ટ', 'O'), ('પર', 'O'), ('પ્રતિબંધ', 'O'), ('માટે', 'O'), ('તપાસે', 'O'), ('છે', 'O'), ('જ્યારે', 'O'), ('તમે', 'O'), ('રમત', 'O'), ('શરૂ', 'O'), ('કરવા', 'O'), ('માટે', 'O'), ('સમાવેશ', 'O'), ('થાય', 'O'), ('છે.', 'O')], [('દેશની', 'O'), ('ઉચ્ચ', 'O'), ('ન્યાયાલયે', 'I-ORG'), ('એસસી/એસટી', 'B-ORG'), ('એક્ટને', 'O'), ('અર્થહીન', 'O'), ('જોગવાઈ', 'O'), ('બનાવવાને', 'O'), ('પગલે', 'O'), ('કોંગ્રેસ', 'B-ORG'), ('પક્ષે', 'O'), ('બંધના', 'O'), ('એલાનને', 'O'), ('સમર્થન', 'O'), ('આપી', 'O'), ('જિલ્લા', 'O'), ('કક્ષાએ', 'O'), ('કલેક્ટરને', 'O'), ('આવેદનપત્ર', 'O'), ('આપવાના', 'O'), ('કાર્યક્રમ', 'O'), ('અનુસંધાને', 'O'), ('આજે', 'O'), ('સુરત', 'O'), ('શહેર', 'O'), ('જિલ્લા', 'O'), ('કોંગ્રેસ', 'B-ORG'), ('સમિતિએ', 'I-ORG'), ('મોરચો', 'O'), ('કાઢી', 'O'), ('કલેક્ટર', 'O'), ('મહેન્દ્ર', 'B-PER'), ('પટેલને', 'I-PER'), ('આવેદનપત્ર', 'O'), ('સુપ્રત', 'O'), ('કર્યું', 'O'), ('હતું.', 'O')], [('ઉરી', 'O'), ('હુમલા', 'O'), ('પછી', 'O'), ('ભારતીય', 'B-ORG'), ('સેના', 'I-ORG'), ('તરફથી', 'O'), ('સર્જિકલ', 'O'), ('સ્ટ્રાઇક', 'O'), ('કરવામાં', 'O'), ('આવી.', 'O'), ('આ', 'O'), ('ખૂબ', 'O'), ('જ', 'O'), ('ખતરનાક', 'O'), ('મિશનને', 'O'), ('સફળતા', 'O'), ('પૂર્વક', 'O'), ('પાર', 'O'), ('પાડવાનો', 'O'), ('શ્રેય', 'O'), ('જાય', 'O'), ('છે', 'O'), ('ભારતના', 'O'), ('રાષ્ટ્રીય', 'O'), ('સુરક્ષા', 'O'), ('સલાહકાર', 'O'), ('અજીત', 'B-PER'), ('ડોવાલ', 'I-PER')]]\n"
          ]
        }
      ],
      "source": [
        "# Prediction using model which I have downloaded\n",
        "indicBert_list_Q4 = []\n",
        "with open('Q1_Questions.txt', \"r\", encoding=\"utf-8\") as file:\n",
        "    for line in file:\n",
        "        line_temp = line.strip()\n",
        "        tokens_new = get_ner(line_temp)\n",
        "        # get_ner is function created above which uses downloaded model\n",
        "        indicBert_list_Q4.append(tokens_new)\n",
        "print(indicBert_list_Q4)"
      ]
    },
    {
      "cell_type": "code",
      "execution_count": null,
      "metadata": {
        "colab": {
          "base_uri": "https://localhost:8080/"
        },
        "id": "YSN6jHLQtmKW",
        "outputId": "a6c2efd8-0dc0-4b13-ecfa-141ac7af42ca"
      },
      "outputs": [
        {
          "name": "stdout",
          "output_type": "stream",
          "text": [
            "[['O', 'O', 'O', 'O', 'B-ORG', 'I-ORG', 'I-ORG', 'O', 'B-LOC', 'O', 'O', 'O', 'O', 'O', 'O', 'O', 'O'], ['O', 'O', 'O', 'O', 'O', 'O', 'O', 'O', 'O', 'B-LOC', 'O', 'I-ORG', 'I-ORG', 'O', 'O', 'O', 'O', 'B-PER', 'I-PER', 'I-PER', 'O', 'O', 'O', 'O'], ['O', 'O', 'O', 'O', 'O', 'O', 'O', 'O', 'O', 'O', 'O', 'O', 'O', 'O', 'O', 'O', 'O', 'O', 'O', 'O'], ['O', 'O', 'O', 'B-LOC', 'I-LOC', 'O', 'B-PER', 'O', 'O', 'O', 'O'], ['O', 'O', 'O', 'B-PER', 'I-PER', 'O', 'O', 'O', 'O', 'O'], ['O', 'B-LOC', 'O', 'B-PER', 'I-PER', 'O', 'O', 'O', 'O', 'O', 'O'], ['O', 'O', 'O', 'O', 'O', 'O', 'O', 'O', 'O', 'O', 'O', 'O', 'O', 'O', 'O'], ['O', 'O', 'O', 'O', 'O', 'O', 'O', 'O', 'O', 'O', 'O', 'O', 'O', 'O', 'O', 'O', 'O', 'O', 'O'], ['B-ORG', 'O', 'O', 'O', 'O', 'O', 'O', 'O', 'O', 'O', 'O', 'O', 'O', 'O', 'O', 'O'], ['O', 'O', 'O', 'O', 'O', 'O', 'B-PER', 'I-PER', 'I-PER', 'O', 'O', 'O', 'O', 'O', 'O', 'O', 'O', 'I-PER', 'O', 'O', 'O', 'O', 'O', 'O', 'B-LOC', 'O', 'O', 'O'], ['O', 'O', 'O', 'O', 'O', 'O', 'O', 'O', 'O', 'O'], ['O', 'O', 'O', 'O', 'O', 'O', 'O', 'O', 'O', 'O'], ['O', 'O', 'B-PER', 'I-PER', 'O', 'O', 'O', 'O', 'O', 'O', 'O'], ['B-ORG', 'I-ORG', 'O', 'O', 'O', 'O', 'O', 'O', 'O', 'O'], ['O', 'O', 'O', 'O', 'O', 'O', 'O', 'O', 'O', 'O', 'O'], ['O', 'O', 'O', 'O', 'O', 'O', 'O', 'O', 'O', 'O', 'O'], ['B-LOC', 'O', 'O', 'O', 'O', 'O', 'O', 'O', 'O', 'O', 'O', 'O', 'O', 'O', 'O', 'O'], ['O', 'O', 'O', 'O', 'O', 'O', 'O', 'O', 'O', 'O', 'O', 'O', 'O'], ['O', 'O', 'O', 'O', 'O', 'O', 'O', 'O', 'O', 'O', 'O', 'O', 'O', 'O', 'O', 'O', 'O', 'O', 'O', 'O'], ['O', 'O', 'O', 'O', 'O', 'O', 'O', 'O', 'O', 'O', 'O', 'O'], ['B-PER', 'O', 'O', 'B-ORG', 'O', 'B-ORG', 'I-ORG', 'O', 'O', 'O'], ['B-PER', 'O', 'O', 'O', 'O', 'O', 'O', 'O', 'O', 'O', 'O', 'O', 'O', 'O', 'O', 'O', 'O', 'O', 'O', 'O', 'O', 'O'], ['O', 'O', 'O', 'O', 'O', 'O', 'O', 'O', 'O', 'O', 'O', 'O', 'O', 'O', 'O', 'O', 'O', 'O', 'O'], ['O', 'O', 'I-ORG', 'B-ORG', 'O', 'O', 'O', 'O', 'O', 'B-ORG', 'O', 'O', 'O', 'O', 'O', 'O', 'O', 'O', 'O', 'O', 'O', 'O', 'O', 'O', 'O', 'O', 'B-ORG', 'I-ORG', 'O', 'O', 'O', 'B-PER', 'I-PER', 'O', 'O', 'O', 'O'], ['O', 'O', 'O', 'B-ORG', 'I-ORG', 'O', 'O', 'O', 'O', 'O', 'O', 'O', 'O', 'O', 'O', 'O', 'O', 'O', 'O', 'O', 'O', 'O', 'O', 'O', 'O', 'O', 'B-PER', 'I-PER']]\n"
          ]
        }
      ],
      "source": [
        "second_elements = [[pair[1] for pair in inner_list] for inner_list in indicBert_list_Q4]\n",
        "\n",
        "print(second_elements)\n"
      ]
    }
  ],
  "metadata": {
    "colab": {
      "provenance": []
    },
    "kaggle": {
      "accelerator": "nvidiaTeslaT4",
      "dataSources": [],
      "dockerImageVersionId": 30665,
      "isGpuEnabled": true,
      "isInternetEnabled": true,
      "language": "python",
      "sourceType": "notebook"
    },
    "kernelspec": {
      "display_name": "Python 3",
      "language": "python",
      "name": "python3"
    },
    "language_info": {
      "codemirror_mode": {
        "name": "ipython",
        "version": 3
      },
      "file_extension": ".py",
      "mimetype": "text/x-python",
      "name": "python",
      "nbconvert_exporter": "python",
      "pygments_lexer": "ipython3",
      "version": "3.10.13"
    },
    "widgets": {
      "application/vnd.jupyter.widget-state+json": {
        "09b1b693b7bb442f94fbb8000d0bdb50": {
          "model_module": "@jupyter-widgets/base",
          "model_module_version": "1.2.0",
          "model_name": "LayoutModel",
          "state": {
            "_model_module": "@jupyter-widgets/base",
            "_model_module_version": "1.2.0",
            "_model_name": "LayoutModel",
            "_view_count": null,
            "_view_module": "@jupyter-widgets/base",
            "_view_module_version": "1.2.0",
            "_view_name": "LayoutView",
            "align_content": null,
            "align_items": null,
            "align_self": null,
            "border": null,
            "bottom": null,
            "display": null,
            "flex": null,
            "flex_flow": null,
            "grid_area": null,
            "grid_auto_columns": null,
            "grid_auto_flow": null,
            "grid_auto_rows": null,
            "grid_column": null,
            "grid_gap": null,
            "grid_row": null,
            "grid_template_areas": null,
            "grid_template_columns": null,
            "grid_template_rows": null,
            "height": null,
            "justify_content": null,
            "justify_items": null,
            "left": null,
            "margin": null,
            "max_height": null,
            "max_width": null,
            "min_height": null,
            "min_width": null,
            "object_fit": null,
            "object_position": null,
            "order": null,
            "overflow": null,
            "overflow_x": null,
            "overflow_y": null,
            "padding": null,
            "right": null,
            "top": null,
            "visibility": null,
            "width": null
          }
        },
        "27b7e0f5f5be49a28acabdde92dd5e78": {
          "model_module": "@jupyter-widgets/controls",
          "model_module_version": "1.5.0",
          "model_name": "HBoxModel",
          "state": {
            "_dom_classes": [],
            "_model_module": "@jupyter-widgets/controls",
            "_model_module_version": "1.5.0",
            "_model_name": "HBoxModel",
            "_view_count": null,
            "_view_module": "@jupyter-widgets/controls",
            "_view_module_version": "1.5.0",
            "_view_name": "HBoxView",
            "box_style": "",
            "children": [
              "IPY_MODEL_96a497b24bc9498f81d68afc125f4d4d",
              "IPY_MODEL_e10b6c1870014025becf2dbe8143181e",
              "IPY_MODEL_835922ceb10742c190f803a3ab8b07a2"
            ],
            "layout": "IPY_MODEL_dfcf81e3dba04eef96bfded527d28b55"
          }
        },
        "29288010c06d47aab6024584e3bdefc3": {
          "model_module": "@jupyter-widgets/base",
          "model_module_version": "1.2.0",
          "model_name": "LayoutModel",
          "state": {
            "_model_module": "@jupyter-widgets/base",
            "_model_module_version": "1.2.0",
            "_model_name": "LayoutModel",
            "_view_count": null,
            "_view_module": "@jupyter-widgets/base",
            "_view_module_version": "1.2.0",
            "_view_name": "LayoutView",
            "align_content": null,
            "align_items": null,
            "align_self": null,
            "border": null,
            "bottom": null,
            "display": null,
            "flex": null,
            "flex_flow": null,
            "grid_area": null,
            "grid_auto_columns": null,
            "grid_auto_flow": null,
            "grid_auto_rows": null,
            "grid_column": null,
            "grid_gap": null,
            "grid_row": null,
            "grid_template_areas": null,
            "grid_template_columns": null,
            "grid_template_rows": null,
            "height": null,
            "justify_content": null,
            "justify_items": null,
            "left": null,
            "margin": null,
            "max_height": null,
            "max_width": null,
            "min_height": null,
            "min_width": null,
            "object_fit": null,
            "object_position": null,
            "order": null,
            "overflow": null,
            "overflow_x": null,
            "overflow_y": null,
            "padding": null,
            "right": null,
            "top": null,
            "visibility": null,
            "width": null
          }
        },
        "672cab3a954640fb916b5e256344aafe": {
          "model_module": "@jupyter-widgets/controls",
          "model_module_version": "1.5.0",
          "model_name": "ProgressStyleModel",
          "state": {
            "_model_module": "@jupyter-widgets/controls",
            "_model_module_version": "1.5.0",
            "_model_name": "ProgressStyleModel",
            "_view_count": null,
            "_view_module": "@jupyter-widgets/base",
            "_view_module_version": "1.2.0",
            "_view_name": "StyleView",
            "bar_color": null,
            "description_width": ""
          }
        },
        "6ac4e30349e145838ec545b045700de3": {
          "model_module": "@jupyter-widgets/controls",
          "model_module_version": "1.5.0",
          "model_name": "DescriptionStyleModel",
          "state": {
            "_model_module": "@jupyter-widgets/controls",
            "_model_module_version": "1.5.0",
            "_model_name": "DescriptionStyleModel",
            "_view_count": null,
            "_view_module": "@jupyter-widgets/base",
            "_view_module_version": "1.2.0",
            "_view_name": "StyleView",
            "description_width": ""
          }
        },
        "835922ceb10742c190f803a3ab8b07a2": {
          "model_module": "@jupyter-widgets/controls",
          "model_module_version": "1.5.0",
          "model_name": "HTMLModel",
          "state": {
            "_dom_classes": [],
            "_model_module": "@jupyter-widgets/controls",
            "_model_module_version": "1.5.0",
            "_model_name": "HTMLModel",
            "_view_count": null,
            "_view_module": "@jupyter-widgets/controls",
            "_view_module_version": "1.5.0",
            "_view_name": "HTMLView",
            "description": "",
            "description_tooltip": null,
            "layout": "IPY_MODEL_29288010c06d47aab6024584e3bdefc3",
            "placeholder": "​",
            "style": "IPY_MODEL_6ac4e30349e145838ec545b045700de3",
            "value": " 26/26 [00:02&lt;00:00, 13.22 examples/s]"
          }
        },
        "96a497b24bc9498f81d68afc125f4d4d": {
          "model_module": "@jupyter-widgets/controls",
          "model_module_version": "1.5.0",
          "model_name": "HTMLModel",
          "state": {
            "_dom_classes": [],
            "_model_module": "@jupyter-widgets/controls",
            "_model_module_version": "1.5.0",
            "_model_name": "HTMLModel",
            "_view_count": null,
            "_view_module": "@jupyter-widgets/controls",
            "_view_module_version": "1.5.0",
            "_view_name": "HTMLView",
            "description": "",
            "description_tooltip": null,
            "layout": "IPY_MODEL_09b1b693b7bb442f94fbb8000d0bdb50",
            "placeholder": "​",
            "style": "IPY_MODEL_deb086152a5346df9a739429c8cae525",
            "value": "Running tokenizer on test dataset of language (num_proc=26): 100%"
          }
        },
        "98eeffc85e38422d89d70d4b9cc54b92": {
          "model_module": "@jupyter-widgets/base",
          "model_module_version": "1.2.0",
          "model_name": "LayoutModel",
          "state": {
            "_model_module": "@jupyter-widgets/base",
            "_model_module_version": "1.2.0",
            "_model_name": "LayoutModel",
            "_view_count": null,
            "_view_module": "@jupyter-widgets/base",
            "_view_module_version": "1.2.0",
            "_view_name": "LayoutView",
            "align_content": null,
            "align_items": null,
            "align_self": null,
            "border": null,
            "bottom": null,
            "display": null,
            "flex": null,
            "flex_flow": null,
            "grid_area": null,
            "grid_auto_columns": null,
            "grid_auto_flow": null,
            "grid_auto_rows": null,
            "grid_column": null,
            "grid_gap": null,
            "grid_row": null,
            "grid_template_areas": null,
            "grid_template_columns": null,
            "grid_template_rows": null,
            "height": null,
            "justify_content": null,
            "justify_items": null,
            "left": null,
            "margin": null,
            "max_height": null,
            "max_width": null,
            "min_height": null,
            "min_width": null,
            "object_fit": null,
            "object_position": null,
            "order": null,
            "overflow": null,
            "overflow_x": null,
            "overflow_y": null,
            "padding": null,
            "right": null,
            "top": null,
            "visibility": null,
            "width": null
          }
        },
        "deb086152a5346df9a739429c8cae525": {
          "model_module": "@jupyter-widgets/controls",
          "model_module_version": "1.5.0",
          "model_name": "DescriptionStyleModel",
          "state": {
            "_model_module": "@jupyter-widgets/controls",
            "_model_module_version": "1.5.0",
            "_model_name": "DescriptionStyleModel",
            "_view_count": null,
            "_view_module": "@jupyter-widgets/base",
            "_view_module_version": "1.2.0",
            "_view_name": "StyleView",
            "description_width": ""
          }
        },
        "dfcf81e3dba04eef96bfded527d28b55": {
          "model_module": "@jupyter-widgets/base",
          "model_module_version": "1.2.0",
          "model_name": "LayoutModel",
          "state": {
            "_model_module": "@jupyter-widgets/base",
            "_model_module_version": "1.2.0",
            "_model_name": "LayoutModel",
            "_view_count": null,
            "_view_module": "@jupyter-widgets/base",
            "_view_module_version": "1.2.0",
            "_view_name": "LayoutView",
            "align_content": null,
            "align_items": null,
            "align_self": null,
            "border": null,
            "bottom": null,
            "display": null,
            "flex": null,
            "flex_flow": null,
            "grid_area": null,
            "grid_auto_columns": null,
            "grid_auto_flow": null,
            "grid_auto_rows": null,
            "grid_column": null,
            "grid_gap": null,
            "grid_row": null,
            "grid_template_areas": null,
            "grid_template_columns": null,
            "grid_template_rows": null,
            "height": null,
            "justify_content": null,
            "justify_items": null,
            "left": null,
            "margin": null,
            "max_height": null,
            "max_width": null,
            "min_height": null,
            "min_width": null,
            "object_fit": null,
            "object_position": null,
            "order": null,
            "overflow": null,
            "overflow_x": null,
            "overflow_y": null,
            "padding": null,
            "right": null,
            "top": null,
            "visibility": null,
            "width": null
          }
        },
        "e10b6c1870014025becf2dbe8143181e": {
          "model_module": "@jupyter-widgets/controls",
          "model_module_version": "1.5.0",
          "model_name": "FloatProgressModel",
          "state": {
            "_dom_classes": [],
            "_model_module": "@jupyter-widgets/controls",
            "_model_module_version": "1.5.0",
            "_model_name": "FloatProgressModel",
            "_view_count": null,
            "_view_module": "@jupyter-widgets/controls",
            "_view_module_version": "1.5.0",
            "_view_name": "ProgressView",
            "bar_style": "success",
            "description": "",
            "description_tooltip": null,
            "layout": "IPY_MODEL_98eeffc85e38422d89d70d4b9cc54b92",
            "max": 26,
            "min": 0,
            "orientation": "horizontal",
            "style": "IPY_MODEL_672cab3a954640fb916b5e256344aafe",
            "value": 26
          }
        }
      }
    }
  },
  "nbformat": 4,
  "nbformat_minor": 0
}