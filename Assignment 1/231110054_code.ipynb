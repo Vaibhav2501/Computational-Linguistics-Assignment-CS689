{
  "cells": [
    {
      "cell_type": "code",
      "execution_count": null,
      "id": "342caa90-04a5-4398-b7f4-f4aebb9f3311",
      "metadata": {
        "id": "342caa90-04a5-4398-b7f4-f4aebb9f3311"
      },
      "outputs": [],
      "source": [
        "import pandas as pd\n",
        "\n",
        "data = pd.read_csv('gu_100.txt',on_bad_lines='skip', sep='delimiter',header = None, encoding = 'utf-8', engine=\"python\")"
      ]
    },
    {
      "cell_type": "markdown",
      "id": "m-4DLzZn-jOr",
      "metadata": {
        "id": "m-4DLzZn-jOr"
      },
      "source": [
        "# **Question 1**"
      ]
    },
    {
      "cell_type": "code",
      "execution_count": null,
      "id": "7a79404c-b271-40a6-8288-6870b215726c",
      "metadata": {
        "colab": {
          "base_uri": "https://localhost:8080/"
        },
        "id": "7a79404c-b271-40a6-8288-6870b215726c",
        "outputId": "3b0dedc6-5454-41a6-fbce-d9a4aaed99ee"
      },
      "outputs": [
        {
          "name": "stdout",
          "output_type": "stream",
          "text": [
            "['૯મી', 'ઓગસ્ટ', '૨૦૧૬ના', 'રોજ', 'આદિવાસી', 'વિકાસ', 'સંગઠન', 'દ્વારા', 'આદિવાસી', 'ભવન', 'ખાતે', 'ખૂબ', 'જ', 'ઉત્સાહભેર', 'ઉજવણી', 'કરવામાં', 'આવશે', 'આ', 'પતાવટની', 'આંતરમાળખા', 'ખૂબ', 'સારી', 'રીતે', 'વિકસિત', 'નથી', 'પરંતુ', 'પ્રવાસીઓ', 'અને', 'ઉદ્યોગપતિઓની', 'ડઝનેક', 'અહીં', 'બધા', 'જ', 'આવે', 'છે', 'વહીવટ', 'બિલ્ડિંગ', 'નજીક', 'પાછળના', 'બાજુ', 'પર', 'હોટેલ', 'આંતરિક', 'વિસ્તાર', 'તેના', 'અંત', 'બે', 'થી', 'ચાર', 'માળનું', 'રહેણાંક', 'ઇમારતો', 'અડીને', 'મર્યાદિત', 'કરે', 'છે', 'ગુરુવારે', 'સવારે', 'બેંકો', 'ખુલતા', 'પહેલા', 'પ્રતિબંધિત', 'નોટો', 'લઇને', 'મોટી', 'સંખ્યામાં', 'લોકો', 'બેંકોની', 'બહાર', 'ઊભાં', 'રહી', 'ગયાં', 'હતાં', 'ઈન્ડિયન', 'આઈડલ', '11ના', 'આગામી', 'એપિસોડમાં', 'ઉદિત', 'નારાયણ', 'અને', 'અલકા', 'યાજ્ઞિક', 'મહેમાન', 'બનશે', 'તે', 'બાજુની', 'મેન્સિસ્સ', 'સાથે', 'તમારા', 'ઘૂંટણની', 'સંયુક્ત', 'દ્વારા', 'શોક', 'શોષણ', 'માટે', 'જવાબદાર', 'છે', 'દેશની', 'ઉચ્ચ']\n"
          ]
        }
      ],
      "source": [
        "# Removing Punctuation Marks\n",
        "punctuation = '''!()-[]{};:'\"\\, <>./?@#$%^&*_~'''\n",
        "\n",
        "list_of_data = []\n",
        "for i in range(len(data)):\n",
        "    text = data.iloc[i][0]\n",
        "    words = text.split()\n",
        "    for word in words:\n",
        "        list_of_data.append(word)\n",
        "\n",
        "def remove_punctuation_func(str):\n",
        "    for i in str:\n",
        "        if i in punctuation:\n",
        "            str = str.replace(i, \"\")\n",
        "    return str\n",
        "\n",
        "list_of_data = [remove_punctuation_func(word) for word in list_of_data]\n",
        "print(list_of_data[:100])"
      ]
    },
    {
      "cell_type": "code",
      "execution_count": null,
      "id": "c1244d50-b395-406c-95a0-66e69dcbcdac",
      "metadata": {
        "colab": {
          "base_uri": "https://localhost:8080/"
        },
        "id": "c1244d50-b395-406c-95a0-66e69dcbcdac",
        "outputId": "7a9ed94c-4f47-4399-d206-35e78c26fd20"
      },
      "outputs": [
        {
          "name": "stdout",
          "output_type": "stream",
          "text": [
            "[' મ્ ઈ', ' ઓ ગ્ અ સ્ ટ્ અ', ' ન્ આ', ' ર્ ઓ જ્ અ', ' આ દ્ ઇ વ્ આ સ્ ઈ', ' વ્ ઇ ક્ આ સ્ અ', ' સ્ અં ગ્ અ ઠ્ અ ન્ અ', ' દ્ વ્ આ ર્ આ', ' આ દ્ ઇ વ્ આ સ્ ઈ', ' ભ્ અ વ્ અ ન્ અ', ' ખ્ આ ત્ એ', ' ખ્ ઊ બ્ અ', ' જ્ અ', ' ઉ ત્ સ્ આ હ્ અ ભ્ એ ર્ અ', ' ઉ જ્ અ વ્ અ ણ્ ઈ', ' ક્ અ ર્ અ વ્ આ મ્ આ', ' આ વ્ અ શ્ એ', ' આ', ' પ્ અ ત્ આ વ્ અ ટ્ અ ન્ ઈ', ' આ ત્ અ ર્ અ મ્ આ ળ્ અ ખ્ આ', ' ખ્ ઊ બ્ અ', ' સ્ આ ર્ ઈ', ' ર્ ઈ ત્ એ', ' વ્ ઇ ક્ અ સ્ ઇ ત્ અ', ' ન્ અ થ્ ઈ', ' પ્ અ ર્ અં ત્ ઉ', ' પ્ ર્ અ વ્ આ સ્ ઈ ઓ', ' અ ન્ એ', ' ઉ દ્ ય્ ઓ ગ્ અ પ્ અ ત્ ઇ ઓ ન્ ઈ', ' ડ્ અ ઝ્ અ ન્ એ ક્ અ', ' અ હ્ ઈ', ' બ્ અ ધ્ આ', ' જ્ અ', ' આ વ્ એ', ' છ્ એ', ' વ્ અ હ્ ઈ વ્ અ ટ્ અ', ' બ્ ઇ લ્ ડ્ ઇ ગ્ અ', ' ન્ અ જ્ ઈ ક્ અ', ' પ્ આ છ્ અ ળ્ અ ન્ આ', ' બ્ આ જ્ ઉ', ' પ્ અ ર્ અ', ' હ્ ઓ ટ્ એ લ્ અ', ' આ ત્ અ ર્ ઇ ક્ અ', ' વ્ ઇ સ્ ત્ આ ર્ અ', ' ત્ એ ન્ આ', ' અ ત્ અ', ' બ્ એ', ' થ્ ઈ', ' ચ્ આ ર્ અ', ' મ્ આ ળ્ અ ન્ ઉ', ' ર્ અ હ્ એ ણ્ આ ક્ અ', ' ઇ મ્ આ ર્ અ ત્ ઓ', ' અ ડ્ ઈ ન્ એ', ' મ્ અ ર્ ય્ આ દ્ ઇ ત્ અ', ' ક્ અ ર્ એ', ' છ્ એ', ' ગ્ ઉ ર્ ઉ વ્ આ ર્ એ', ' સ્ અ વ્ આ ર્ એ', ' બ્ એ ક્ ઓ', ' ખ્ ઉ લ્ અ ત્ આ', ' પ્ અ હ્ એ લ્ આ', ' પ્ ર્ અ ત્ ઇ બ્ અં ધ્ ઇ ત્ અ', ' ન્ ઓ ટ્ ઓ', ' લ્ અ ઇ ન્ એ', ' મ્ ઓ ટ્ ઈ', ' સ્ અં ખ્ ય્ આ મ્ આ', ' લ્ ઓ ક્ ઓ', ' બ્ એ ક્ ઓ ન્ ઈ', ' બ્ અ હ્ આ ર્ અ', ' ઊ ભ્ આ', ' ર્ અ હ્ ઈ', ' ગ્ અ ય્ આ', ' હ્ અ ત્ આ', ' ઈ ન્ ડ્ ઇ ય્ અ ન્ અ', ' આ ઈ ડ્ અ લ્ અ', ' ન્ આ', ' આ ગ્ આ મ્ ઈ', ' એ પ્ ઇ સ્ ઓ ડ્ અ મ્ આ', ' ઉ દ્ ઇ ત્ અ', ' ન્ આ ર્ આ ય્ અ ણ્ અ', ' અ ન્ એ', ' અ લ્ અ ક્ આ', ' ય્ આ જ્ ઞ્ ઇ ક્ અ', ' મ્ અ હ્ એ મ્ આ ન્ અ', ' બ્ અ ન્ અ શ્ એ', ' ત્ એ', ' બ્ આ જ્ ઉ ન્ ઈ', ' મ્ એ ન્ સ્ ઇ સ્ સ્ અ', ' સ્ આ થ્ એ', ' ત્ અ મ્ આ ર્ આ', ' ઘ્ ઊ ટ્ અ ણ્ અ ન્ ઈ', ' સ્ અં ય્ ઉ ક્ ત્ અ', ' દ્ વ્ આ ર્ આ', ' શ્ ઓ ક્ અ', ' શ્ ઓ ષ્ અ ણ્ અ', ' મ્ આ ટ્ એ', ' જ્ અ વ્ આ બ્ અ દ્ આ ર્ અ', ' છ્ એ', ' દ્ એ શ્ અ ન્ ઈ', ' ઉ ચ્ ચ્ અ']\n"
          ]
        }
      ],
      "source": [
        "# Unicode Correction\n",
        "\n",
        "swar = ['અ', 'આ', 'ઇ', 'ઈ', 'ઉ', 'ઊ', 'ઋ', 'ઌ', 'ઍ', 'એ', 'ઐ', 'ઑ', 'ઓ', 'ઔ']\n",
        "matra = ['ા', 'િ', 'ી', 'ુ', 'ૂ', 'ૃ', 'ૄ', 'ૅ', 'ે', 'ૈ', 'ૉ', 'ો', 'ૌ', 'ઃ', 'ં']\n",
        "vyanjan = ['ક', 'ખ', 'ગ', 'ઘ', 'ઙ', 'ચ', 'છ', 'જ', 'ઝ', 'ઞ', 'ટ', 'ઠ', 'ડ', 'ઢ', 'ણ', 'ત', 'થ', 'દ', 'ધ', 'ન', 'પ', 'ફ', 'બ', 'ભ', 'મ', 'ય', 'ર', 'લ', 'ળ', 'વ', 'શ', 'ષ', 'સ', 'હ']\n",
        "matra_dict = {'ા': 'આ', 'િ': 'ઇ', 'ી': 'ઈ', 'ુ': 'ઉ', 'ૂ': 'ઊ', 'ૃ': 'ઋ', 'ૄ': 'ઌ', 'ૅ': 'ઍ', 'ે': 'એ', 'ૈ': 'ઐ', 'ૉ': 'ઑ', 'ો': 'ઓ', 'ૌ': 'ઔ', 'ઃ': 'અઃ', 'ં': 'અં' }\n",
        "\n",
        "def unicode_corrected_word_def(word):\n",
        "    uni_corr_str = \"\"\n",
        "    for i in range(len(word)):\n",
        "        if word[i] in swar:\n",
        "            uni_corr_str = uni_corr_str+' '+word[i]\n",
        "        elif word[i] in vyanjan:\n",
        "            uni_corr_str = uni_corr_str+' '+word[i]+\"્\"\n",
        "            if i+1 <= len(word)-1 :\n",
        "                if word[i+1]==\"્\" or word[i+1] in [',','_','|','-','(',')','[',']','!','?','\"','{','}','^','*','%','/',':-','।','.','़','૦', '૧', '૨', '૩', '૪', '૫', '૬', '૭', '૮', '૯']:\n",
        "                    pass\n",
        "                elif  word[i+1] in vyanjan or word[i+1] in swar:\n",
        "                    uni_corr_str = uni_corr_str+' '+'અ'\n",
        "                elif word[i+1] in matra:\n",
        "                    uni_corr_str = uni_corr_str+' '+matra_dict[word[i+1]]\n",
        "            elif i == len(word) - 1:\n",
        "                uni_corr_str = uni_corr_str + ' ' + 'અ'\n",
        "        elif word[i] in matra:\n",
        "            if word[i-1] in [',','_','|','-','(',')','[',']','!','?','\"','{','}','^','*','%','/',':-','।','.','़']:\n",
        "                uni_corr_str = uni_corr_str+''+matra_dict[word[i]]\n",
        "\n",
        "    return uni_corr_str+''\n",
        "\n",
        "list_corrected_words = []\n",
        "for i in range(len(list_of_data)):\n",
        "    x = unicode_corrected_word_def(list_of_data[i])\n",
        "    list_corrected_words.append(x)\n",
        "\n",
        "print(list_corrected_words[:100])"
      ]
    },
    {
      "cell_type": "markdown",
      "id": "F0G3nVT6Aszp",
      "metadata": {
        "id": "F0G3nVT6Aszp"
      },
      "source": [
        "# **Question** **2**"
      ]
    },
    {
      "cell_type": "code",
      "execution_count": null,
      "id": "6D_-Nkg0_ebc",
      "metadata": {
        "colab": {
          "base_uri": "https://localhost:8080/"
        },
        "id": "6D_-Nkg0_ebc",
        "outputId": "0bc181e7-41e1-4e9b-b309-0b804f5f937a"
      },
      "outputs": [
        {
          "name": "stdout",
          "output_type": "stream",
          "text": [
            "['૯મી', 'ઓગસ્ટ', '૨૦૧૬ના', 'રોજ', 'આદિવાસી', 'વિકાસ', 'સંગઠન', 'દ્વારા', 'આદિવાસી', 'ભવન', 'ખાતે', 'ખૂબ', 'જ', 'ઉત્સાહભેર', 'ઉજવણી', 'કરવામાં', 'આવશે', 'આ', 'પતાવટની', 'આંતરમાળખા', 'ખૂબ', 'સારી', 'રીતે', 'વિકસિત', 'નથી', 'પરંતુ', 'પ્રવાસીઓ', 'અને', 'ઉદ્યોગપતિઓની', 'ડઝનેક', 'અહીં', 'બધા', 'જ', 'આવે', 'છે', 'વહીવટ', 'બિલ્ડિંગ', 'નજીક', 'પાછળના', 'બાજુ', 'પર', 'હોટેલ', 'આંતરિક', 'વિસ્તાર', 'તેના', 'અંત', 'બે', 'થી', 'ચાર', 'માળનું', 'રહેણાંક', 'ઇમારતો', 'અડીને', 'મર્યાદિત', 'કરે', 'છે', 'ગુરુવારે', 'સવારે', 'બેંકો', 'ખુલતા', 'પહેલા', 'પ્રતિબંધિત', 'નોટો', 'લઇને', 'મોટી', 'સંખ્યામાં', 'લોકો', 'બેંકોની', 'બહાર', 'ઊભાં', 'રહી', 'ગયાં', 'હતાં', 'ઈન્ડિયન', 'આઈડલ', '11ના', 'આગામી', 'એપિસોડમાં', 'ઉદિત', 'નારાયણ', 'અને', 'અલકા', 'યાજ્ઞિક', 'મહેમાન', 'બનશે', 'તે', 'બાજુની', 'મેન્સિસ્સ', 'સાથે', 'તમારા', 'ઘૂંટણની', 'સંયુક્ત', 'દ્વારા', 'શોક', 'શોષણ', 'માટે', 'જવાબદાર', 'છે', 'દેશની', 'ઉચ્ચ']\n"
          ]
        }
      ],
      "source": [
        "# Removing Punctuation Marks\n",
        "punctuation = '''!()-[]{};:'\"\\, <>./?@#$%^&*_~'''\n",
        "\n",
        "list_of_data = []\n",
        "for i in range(len(data)):\n",
        "    text = data.iloc[i][0]\n",
        "    words = text.split()\n",
        "    for word in words:\n",
        "        list_of_data.append(word)\n",
        "\n",
        "\n",
        "def remove_punctuation_func(str):\n",
        "    for i in str:\n",
        "        if i in punctuation:\n",
        "            str = str.replace(i, \"\")\n",
        "    return str\n",
        "\n",
        "list_of_data = [remove_punctuation_func(word) for word in list_of_data]\n",
        "print(list_of_data[:100])"
      ]
    },
    {
      "cell_type": "code",
      "execution_count": null,
      "id": "d84f5bc6-a334-4f67-abf9-d2adaf5b1334",
      "metadata": {
        "colab": {
          "base_uri": "https://localhost:8080/"
        },
        "id": "d84f5bc6-a334-4f67-abf9-d2adaf5b1334",
        "outputId": "b00c3d7f-db06-4c12-ab8e-9d14ef2fdfeb"
      },
      "outputs": [
        {
          "name": "stdout",
          "output_type": "stream",
          "text": [
            "[('અ', 7119820), ('આ', 3692280), ('એ', 2522860), ('ર્', 2128526), ('ન્', 1734112), ('ઈ', 1589073), ('ક્', 1386555), ('મ્', 1324843), ('ઓ', 1236360), ('ત્', 1207724), ('વ્', 1149790), ('સ્', 976491), ('પ્', 867048), ('ઇ', 838885), ('ય્', 745130), ('લ્', 684911), ('ઉ', 673954), ('જ્', 585042), ('ટ્', 520557), ('હ્', 516880)]\n"
          ]
        }
      ],
      "source": [
        "# Character Unigrams\n",
        "\n",
        "vyanjan = ['ક','ખ','ગ','ઘ','ઙ','ચ','છ','જ','ઝ','ઞ','ટ','ઠ','ડ','ઢ','ણ','ત','થ','દ','ધ','ન','પ','ફ','બ','ભ','મ','ય','ર','લ','ળ','વ','શ','ષ','સ','હ']\n",
        "\n",
        "data_correct = list_corrected_words\n",
        "data_remove_punc = list_of_data\n",
        "\n",
        "list_of_chars = []\n",
        "\n",
        "for word in data_correct:\n",
        "    i = 0\n",
        "    while i < (len(word)):\n",
        "        if word[i] in vyanjan and word[i+1] ==\"્\":\n",
        "                temp = ''+word[i]+\"્\"\n",
        "                list_of_chars.append(temp)\n",
        "                i=i+2\n",
        "        else:\n",
        "                temp = word[i]\n",
        "                list_of_chars.append(temp)\n",
        "                i = i+1\n",
        "    list_of_chars.append('x')\n",
        "list_of_chars = ' '.join(list_of_chars).split()\n",
        "\n",
        "\n",
        "'''Adding dummy character 'x' after each word so that during Bigrams formation,\n",
        "we can avoid combining last character of current word and first character of next word into single bigram'''\n",
        "\n",
        "char_frequency = {}\n",
        "i=0\n",
        "\n",
        "while i < len(list_of_chars):\n",
        "        ch = list_of_chars[i]\n",
        "        if ch == 'x':\n",
        "            pass\n",
        "        elif ch != 'x':\n",
        "            char_frequency[ch] = char_frequency.get(ch, 0) + 1\n",
        "        i=i+1\n",
        "\n",
        "sort_char_list = [(char, count) for char, count in char_frequency.items()]\n",
        "sort_char_list.sort(key=lambda x: x[1], reverse=True)\n",
        "print(sort_char_list[:20])\n"
      ]
    },
    {
      "cell_type": "code",
      "execution_count": null,
      "id": "782ac119-7343-4dea-86f7-c27214d23058",
      "metadata": {
        "colab": {
          "base_uri": "https://localhost:8080/"
        },
        "id": "782ac119-7343-4dea-86f7-c27214d23058",
        "outputId": "8675408d-9e01-4c04-e805-0a15fedf7c6a"
      },
      "outputs": [
        {
          "name": "stdout",
          "output_type": "stream",
          "text": [
            "[('ર્ અ', 953494), ('અ ર્', 857086), ('અ ન્', 741756), ('ક્ અ', 635458), ('મ્ આ', 578598), ('આ ર્', 436837), ('પ્ અ', 421191), ('મ્ અ', 418721), ('સ્ અ', 415634), ('અ મ્', 406469), ('વ્ આ', 403406), ('ન્ અ', 396623), ('ન્ એ', 374098), ('અ ત્', 357710), ('ત્ અ', 355950), ('અ વ્', 353438), ('ન્ આ', 338777), ('વ્ અ', 325348), ('છ્ એ', 322608), ('ય્ અ', 290802)]\n"
          ]
        }
      ],
      "source": [
        "# Character Bigrams\n",
        "\n",
        "# During Bigram formation, we will remove 'x' from list\n",
        "\n",
        "char_bigram = []\n",
        "\n",
        "for i in range(len(list_of_chars)-1):\n",
        "    if list_of_chars[i+1] ==\"x\":\n",
        "        pass\n",
        "    elif list_of_chars[i] != \"x\":\n",
        "        char_pair = list_of_chars[i]+' '+list_of_chars[i+1]\n",
        "        char_bigram.append(char_pair)\n",
        "# print(char_bigram)\n",
        "\n",
        "bichar_frequency = {}\n",
        "i=0\n",
        "\n",
        "while i < len(char_bigram):\n",
        "        ch = char_bigram[i]\n",
        "        bichar_frequency[ch] = bichar_frequency.get(ch, 0) + 1\n",
        "        i=i+1\n",
        "\n",
        "sort_bichar_list = [(bichar, count) for bichar, count in bichar_frequency.items()]\n",
        "sort_bichar_list.sort(key=lambda x: x[1], reverse=True)\n",
        "print(sort_bichar_list[:20])"
      ]
    },
    {
      "cell_type": "code",
      "execution_count": null,
      "id": "5a1fd8ae-c0eb-4fcf-8d3a-ef6517289757",
      "metadata": {
        "colab": {
          "base_uri": "https://localhost:8080/"
        },
        "id": "5a1fd8ae-c0eb-4fcf-8d3a-ef6517289757",
        "outputId": "49ed11f9-1e8f-48ca-97f8-62704b1a66ea"
      },
      "outputs": [
        {
          "name": "stdout",
          "output_type": "stream",
          "text": [
            "[('ર', 769436), ('ક', 601126), ('મા', 568921), ('પ', 400931), ('મ', 374487), ('ન', 373469), ('વા', 372568), ('ને', 371283), ('અ', 352532), ('ના', 335511), ('આ', 328204), ('છે', 322054), ('ત', 310727), ('સ', 300795), ('વ', 288628), ('એ', 244633), ('ની', 240622), ('જ', 221915), ('રી', 218743), ('તે', 213593)]\n"
          ]
        }
      ],
      "source": [
        "# Unigram Syllables\n",
        "\n",
        "swar = ['અ', 'આ', 'ઇ', 'ઈ', 'ઉ', 'ઊ', 'ઋ', 'ઌ', 'ઍ', 'એ', 'ઐ', 'ઑ', 'ઓ', 'ઔ']\n",
        "matra = ['ા', 'િ', 'ી', 'ુ', 'ૂ', 'ૃ', 'ૄ', 'ૅ', 'ે', 'ૈ', 'ૉ', 'ો', 'ૌ', 'ં', 'ઃ']\n",
        "vyanjan = ['ક', 'ખ', 'ગ', 'ઘ', 'ઙ', 'ચ', 'છ', 'જ', 'ઝ', 'ઞ', 'ટ', 'ઠ', 'ડ', 'ઢ', 'ણ', 'ત', 'થ', 'દ', 'ધ', 'ન', 'પ', 'ફ', 'બ', 'ભ', 'મ', 'ય', 'ર', 'લ', 'ળ', 'વ', 'શ', 'ષ', 'સ', 'હ']\n",
        "\n",
        "data_remove_punc = list_of_data\n",
        "list_of_syllables = []\n",
        "\n",
        "def find_Vyanjan(word,k, vyanjan, swar, matra):\n",
        "    x=\"\"\n",
        "    if ((k+1) < len(word)):\n",
        "        if(word[k+1] in vyanjan):\n",
        "            return x+word[k]\n",
        "        elif(word[k+1] in swar or word[k+1] in matra):\n",
        "            return x+word[k]+word[k+1]\n",
        "        elif (word[k + 1] == '્'):\n",
        "            if (k + 2) < len(word):\n",
        "                return x + word[k] + word[k + 1] + word[k + 2]\n",
        "            else:\n",
        "                return x + word[k] + word[k + 1]\n",
        "\n",
        "    elif k >= len(word):\n",
        "        return x\n",
        "\n",
        "    return x+word[k]\n",
        "\n",
        "\n",
        "for word in data_remove_punc:\n",
        "    k=0\n",
        "    while k <= len(word)-1:\n",
        "        if word[k] in swar:\n",
        "            t = word[k]\n",
        "            list_of_syllables.append(t)\n",
        "        elif word[k] in vyanjan:\n",
        "            syllable = find_Vyanjan(word , k, vyanjan, swar, matra)\n",
        "            list_of_syllables.append(syllable)\n",
        "            j = len(syllable)\n",
        "            k = k+j-1\n",
        "        k += 1\n",
        "    list_of_syllables.append(\"x\")\n",
        "\n",
        "# print(list_of_syllables)\n",
        "\n",
        "syllable_frequency = {}\n",
        "i=0\n",
        "\n",
        "while i < len(list_of_syllables):\n",
        "        ch = list_of_syllables[i]\n",
        "        if ch == 'x':\n",
        "            pass\n",
        "        elif ch != 'x':\n",
        "            syllable_frequency[ch] = syllable_frequency.get(ch, 0) + 1\n",
        "        i=i+1\n",
        "\n",
        "sort_syllable_list = [(syllable, count) for syllable, count in syllable_frequency.items()]\n",
        "sort_syllable_list.sort(key=lambda x: x[1], reverse=True)\n",
        "print(sort_syllable_list[:20])"
      ]
    },
    {
      "cell_type": "code",
      "execution_count": null,
      "id": "f2fa377e-5336-4061-875e-5034110b2ddc",
      "metadata": {
        "colab": {
          "base_uri": "https://localhost:8080/"
        },
        "id": "f2fa377e-5336-4061-875e-5034110b2ddc",
        "outputId": "11da1263-a88c-4468-f8a5-123104e2fa3c"
      },
      "outputs": [
        {
          "name": "stdout",
          "output_type": "stream",
          "text": [
            "[('અ ને', 156341), ('ક ર', 98212), ('મા ટે', 83965), ('ર વા', 72806), ('એ ક', 68336), ('પ ર', 66744), ('પ ણ', 59240), ('વા મા', 57603), ('ક રી', 56344), ('કા ર', 48011), ('સા થે', 45704), ('તે મ', 42869), ('ત મા', 40429), ('સ મ', 33564), ('હ તી', 32933), ('ન થી', 32356), ('સ ર', 31726), ('ઉ પ', 29591), ('આ વે', 28206), ('ત મે', 26152)]\n"
          ]
        }
      ],
      "source": [
        "# Bigram Syllables\n",
        "\n",
        "syllable_bigram = []\n",
        "for i in range(len(list_of_syllables) - 1):\n",
        "    if list_of_syllables[i+1] ==\"x\":\n",
        "        pass\n",
        "    elif list_of_syllables[i] != \"x\":\n",
        "        pair = list_of_syllables[i]+\" \"+list_of_syllables[i+1]\n",
        "        syllable_bigram.append(pair)\n",
        "# print(syllable_bigram[:100])\n",
        "\n",
        "bisyllable_frequency = {}\n",
        "i=0\n",
        "\n",
        "while i < len(syllable_bigram):\n",
        "        ch = syllable_bigram[i]\n",
        "        bisyllable_frequency[ch] = bisyllable_frequency.get(ch, 0) + 1\n",
        "        i=i+1\n",
        "\n",
        "sort_bisyllable_list = [(bisyllable, count) for bisyllable, count in bisyllable_frequency.items()]\n",
        "sort_bisyllable_list.sort(key=lambda x: x[1], reverse=True)\n",
        "print(sort_bisyllable_list[:20])"
      ]
    },
    {
      "cell_type": "markdown",
      "id": "UBDS3rxkDuKh",
      "metadata": {
        "id": "UBDS3rxkDuKh"
      },
      "source": [
        "# **Question 4**"
      ]
    },
    {
      "cell_type": "code",
      "execution_count": null,
      "id": "NH1uezbo83U-",
      "metadata": {
        "id": "NH1uezbo83U-"
      },
      "outputs": [],
      "source": [
        "# BiGram TOKENS FINDING\n",
        "\n",
        "# Writing Common function\n",
        "\n",
        "def bigram_token(tokens):\n",
        "  list_of_bitokens=[]\n",
        "  for i in range(len(tokens)-1):\n",
        "    pair = tokens[i]+\" \"+tokens[i+1]\n",
        "    list_of_bitokens.append(pair)\n",
        "  return list_of_bitokens\n",
        "\n",
        "def bigram_token_frequency(list_bitokens):\n",
        "  list_bitokens_count = {}\n",
        "  i=0\n",
        "  while i < len(list_bitokens):\n",
        "        ch = list_bitokens[i]\n",
        "        list_bitokens_count[ch] = list_bitokens_count.get(ch, 0) + 1\n",
        "        i=i+1\n",
        "\n",
        "  list_bitokens_count_sort = [(token, count) for token, count in list_bitokens_count.items()]\n",
        "  list_bitokens_count_sort.sort(key=lambda x: x[1], reverse=True)\n",
        "\n",
        "  return list_bitokens_count_sort\n"
      ]
    },
    {
      "cell_type": "code",
      "execution_count": null,
      "id": "wrf0mFgdHF1o",
      "metadata": {
        "id": "wrf0mFgdHF1o"
      },
      "outputs": [],
      "source": [
        "# BiGram Syllables finding\n",
        "\n",
        "# Writing Common function\n",
        "\n",
        "swar = ['અ', 'આ', 'ઇ', 'ઈ', 'ઉ', 'ઊ', 'ઋ', 'ઌ', 'ઍ', 'એ', 'ઐ', 'ઑ', 'ઓ', 'ઔ']\n",
        "matra = ['ા', 'િ', 'ી', 'ુ', 'ૂ', 'ૃ', 'ૄ', 'ૅ', 'ે', 'ૈ', 'ૉ', 'ો', 'ૌ', 'ં', 'ઃ']\n",
        "vyanjan = ['ક', 'ખ', 'ગ', 'ઘ', 'ઙ', 'ચ', 'છ', 'જ', 'ઝ', 'ઞ', 'ટ', 'ઠ', 'ડ', 'ઢ', 'ણ', 'ત', 'થ', 'દ', 'ધ', 'ન', 'પ', 'ફ', 'બ', 'ભ', 'મ', 'ય', 'ર', 'લ', 'ળ', 'વ', 'શ', 'ષ', 'સ', 'હ']\n",
        "punctuation = '''!()-[]{};:'\"\\, <>./?@#$%^&*_~'''\n",
        "\n",
        "def find_Vyanjan(word,k, vyanjan, swar, matra):\n",
        "    x=\"\"\n",
        "    if ((k+1) < len(word)):\n",
        "        if(word[k+1] in vyanjan):\n",
        "            return x+word[k]\n",
        "        elif(word[k+1] in swar or word[k+1] in matra):\n",
        "            return x+word[k]+word[k+1]\n",
        "        elif (word[k + 1] == '્'):\n",
        "            if (k + 2) < len(word):\n",
        "                return x + word[k] + word[k + 1] + word[k + 2]\n",
        "            else:\n",
        "                return x + word[k] + word[k + 1]\n",
        "\n",
        "    elif k >= len(word):\n",
        "        return x\n",
        "\n",
        "    return x+word[k]\n",
        "\n",
        "def unigram_syllable(list_given):\n",
        "    list_of_syllables = []\n",
        "    data_remove_punc = list_given\n",
        "    for word in data_remove_punc:\n",
        "        k=0\n",
        "        while k <= len(word)-1:\n",
        "            if word[k] in swar:\n",
        "                t = word[k]\n",
        "                list_of_syllables.append(t)\n",
        "            elif word[k] in vyanjan:\n",
        "                syllable = find_Vyanjan(word , k, vyanjan, swar, matra)\n",
        "                list_of_syllables.append(syllable)\n",
        "                j = len(syllable)\n",
        "                k = k+j-1\n",
        "            k += 1\n",
        "        list_of_syllables.append(\"x\")\n",
        "    return list_of_syllables\n",
        "\n",
        "\n",
        "def bigram_syllable(list_given):\n",
        "    list_of_syllables = unigram_syllable(list_given)\n",
        "    syllable_bigram = []\n",
        "    for i in range(len(list_of_syllables) - 1):\n",
        "        if list_of_syllables[i+1] ==\"x\":\n",
        "            pass\n",
        "        elif list_of_syllables[i] != \"x\":\n",
        "            pair = list_of_syllables[i]+\" \"+list_of_syllables[i+1]\n",
        "            syllable_bigram.append(pair)\n",
        "\n",
        "\n",
        "    bisyllable_frequency = {}\n",
        "    i=0\n",
        "\n",
        "    while i < len(syllable_bigram):\n",
        "            ch = syllable_bigram[i]\n",
        "            bisyllable_frequency[ch] = bisyllable_frequency.get(ch, 0) + 1\n",
        "            i=i+1\n",
        "\n",
        "    sort_bisyllable_list = [(bisyllable, count) for bisyllable, count in bisyllable_frequency.items()]\n",
        "    sort_bisyllable_list.sort(key=lambda x: x[1], reverse=True)\n",
        "    return sort_bisyllable_list"
      ]
    },
    {
      "cell_type": "code",
      "execution_count": null,
      "id": "9FB3lBUyPXuF",
      "metadata": {
        "id": "9FB3lBUyPXuF"
      },
      "outputs": [],
      "source": [
        "# Bigram Character frequency\n",
        "\n",
        "# Writing Common function\n",
        "\n",
        "swar = ['અ', 'આ', 'ઇ', 'ઈ', 'ઉ', 'ઊ', 'ઋ', 'ઌ', 'ઍ', 'એ', 'ઐ', 'ઑ', 'ઓ', 'ઔ']\n",
        "matra = ['ા', 'િ', 'ી', 'ુ', 'ૂ', 'ૃ', 'ૄ', 'ૅ', 'ે', 'ૈ', 'ૉ', 'ો', 'ૌ', 'ઃ']\n",
        "vyanjan = ['ક', 'ખ', 'ગ', 'ઘ', 'ઙ', 'ચ', 'છ', 'જ', 'ઝ', 'ઞ', 'ટ', 'ઠ', 'ડ', 'ઢ', 'ણ', 'ત', 'થ', 'દ', 'ધ', 'ન', 'પ', 'ફ', 'બ', 'ભ', 'મ', 'ય', 'ર', 'લ', 'ળ', 'વ', 'શ', 'ષ', 'સ', 'હ']\n",
        "matra_dict = {'ા': 'આ', 'િ': 'ઇ', 'ી': 'ઈ', 'ુ': 'ઉ', 'ૂ': 'ઊ', 'ૃ': 'ઋ', 'ૄ': 'ઌ', 'ૅ': 'ઍ', 'ે': 'એ', 'ૈ': 'ઐ', 'ૉ': 'ઑ', 'ો': 'ઓ', 'ૌ': 'ઔ', 'ઃ': 'અઃ', 'ં': 'અં' }\n",
        "\n",
        "\n",
        "def unicode_corrected_word_def(word):\n",
        "\n",
        "    uni_corr_str = \"\"\n",
        "    for i in range(len(word)):\n",
        "        if word[i] in swar:\n",
        "            uni_corr_str = uni_corr_str+' '+word[i]\n",
        "        elif word[i] in vyanjan:\n",
        "            uni_corr_str = uni_corr_str+' '+word[i]+\"્\"\n",
        "            if i+1 <= len(word)-1 :\n",
        "                if word[i+1]==\"્\" or word[i+1] in [',','_','|','-','(',')','[',']','!','?','\"','{','}','^','*','%','/',':-','।','.','़','૦', '૧', '૨', '૩', '૪', '૫', '૬', '૭', '૮', '૯']:\n",
        "                    pass\n",
        "                elif  word[i+1] in vyanjan or word[i+1] in swar:\n",
        "                    uni_corr_str = uni_corr_str+' '+'અ'\n",
        "                elif word[i+1] in matra:\n",
        "                    uni_corr_str = uni_corr_str+' '+matra_dict[word[i+1]]\n",
        "            elif i == len(word) - 1:\n",
        "                uni_corr_str = uni_corr_str + ' ' + 'અ'\n",
        "        elif word[i] in matra:\n",
        "            if word[i-1] in [',','_','|','-','(',')','[',']','!','?','\"','{','}','^','*','%','/',':-','।','.','़']:\n",
        "                uni_corr_str = uni_corr_str+''+matra_dict[word[i]]\n",
        "\n",
        "    return uni_corr_str+''\n",
        "\n",
        "\n",
        "def unicode_for_loop(list_given):\n",
        "\n",
        "    list_of_data = list_given\n",
        "    list_corrected_words = []\n",
        "\n",
        "    for i in range(len(list_of_data)):\n",
        "        x = unicode_corrected_word_def(list_of_data[i])\n",
        "        list_corrected_words.append(x)\n",
        "\n",
        "    return list_corrected_words\n",
        "\n",
        "\n",
        "def unigram_char(list_given):\n",
        "    data_correct = list_given\n",
        "    list_of_chars = []\n",
        "\n",
        "    for word in data_correct:\n",
        "        i = 0\n",
        "        while i < (len(word)):\n",
        "            if word[i] in vyanjan and word[i+1] ==\"્\":\n",
        "                    temp = ''+word[i]+\"્\"\n",
        "                    list_of_chars.append(temp)\n",
        "                    i=i+2\n",
        "            else:\n",
        "                    temp = word[i]\n",
        "                    list_of_chars.append(temp)\n",
        "                    i = i+1\n",
        "        list_of_chars.append('x')\n",
        "    list_of_chars = ' '.join(list_of_chars).split()\n",
        "\n",
        "    return list_of_chars\n",
        "\n",
        "\n",
        "def bigram_char(list_given):\n",
        "\n",
        "    ret_for_loop = unicode_for_loop(list_given)\n",
        "    list_of_chars = unigram_char(ret_for_loop)\n",
        "    char_bigram = []\n",
        "\n",
        "    for i in range(len(list_of_chars)-1):\n",
        "        if list_of_chars[i+1] ==\"x\":\n",
        "            pass\n",
        "        elif list_of_chars[i] != \"x\":\n",
        "            char_pair = list_of_chars[i]+' '+list_of_chars[i+1]\n",
        "            char_bigram.append(char_pair)\n",
        "\n",
        "\n",
        "    bichar_frequency = {}\n",
        "    i=0\n",
        "\n",
        "    while i < len(char_bigram):\n",
        "            ch = char_bigram[i]\n",
        "            bichar_frequency[ch] = bichar_frequency.get(ch, 0) + 1\n",
        "            i=i+1\n",
        "\n",
        "    sort_bichar_list = [(bichar, count) for bichar, count in bichar_frequency.items()]\n",
        "    sort_bichar_list.sort(key=lambda x: x[1], reverse=True)\n",
        "    return sort_bichar_list\n"
      ]
    },
    {
      "cell_type": "markdown",
      "id": "qxzeM909obuH",
      "metadata": {
        "id": "qxzeM909obuH"
      },
      "source": [
        "\n"
      ]
    },
    {
      "cell_type": "code",
      "execution_count": null,
      "id": "Nze3bjcg3H3I",
      "metadata": {
        "id": "Nze3bjcg3H3I"
      },
      "outputs": [],
      "source": [
        "import sentencepiece as spm"
      ]
    },
    {
      "cell_type": "code",
      "execution_count": null,
      "id": "M4xWmpo5Bauy",
      "metadata": {
        "colab": {
          "base_uri": "https://localhost:8080/"
        },
        "id": "M4xWmpo5Bauy",
        "outputId": "75038ada-9421-4e6d-d59f-09aaafebf77f"
      },
      "outputs": [
        {
          "data": {
            "text/plain": [
              "True"
            ]
          },
          "execution_count": 5,
          "metadata": {},
          "output_type": "execute_result"
        }
      ],
      "source": [
        "# BPE for vocab 1000\n",
        "\n",
        "input_corpus = 'gu_100.txt'\n",
        "spm.SentencePieceTrainer.train('--input=gu_100.txt --model_prefix=m_bpe --vocab_size=1000 --model_type=bpe')\n",
        "sp_bpe_1k = spm.SentencePieceProcessor()\n",
        "sp_bpe_1k.load('m_bpe.model')\n",
        "\n",
        "\n"
      ]
    },
    {
      "cell_type": "code",
      "execution_count": null,
      "id": "77b6ef9c",
      "metadata": {
        "colab": {
          "base_uri": "https://localhost:8080/"
        },
        "id": "77b6ef9c",
        "outputId": "e0e7e983-de1e-4e8d-f307-1c6bba1a1b6b"
      },
      "outputs": [
        {
          "data": {
            "text/plain": [
              "True"
            ]
          },
          "execution_count": 2,
          "metadata": {},
          "output_type": "execute_result"
        }
      ],
      "source": [
        "input_Q3 = 'Q3_questions.txt'\n",
        "spm.SentencePieceTrainer.train('--input=Q3_questions.txt --model_prefix=m_bpe --vocab_size=1633 --model_type=bpe')\n",
        "sp_bpe_Q3 = spm.SentencePieceProcessor()\n",
        "sp_bpe_Q3.load('m_bpe.model')"
      ]
    },
    {
      "cell_type": "code",
      "execution_count": null,
      "id": "IEHUO8y_sWGv",
      "metadata": {
        "colab": {
          "base_uri": "https://localhost:8080/"
        },
        "id": "IEHUO8y_sWGv",
        "outputId": "484319f4-3f08-4d0f-8205-78a0397eddf6"
      },
      "outputs": [
        {
          "name": "stdout",
          "output_type": "stream",
          "text": [
            "*** BPE ***\n",
            "Unigram token freq for BPE [('છે', 320962), ('ક', 245518), ('ના', 233379), ('ન', 230649), ('મ', 214983), ('ર', 208924), ('સ', 199487), ('માં', 191089), ('લ', 187060), ('ની', 172030), ('જ', 171312), ('આ', 170013), ('ને', 164128), ('પ', 156578), ('અને', 155795), ('ત', 152201), ('એ', 147101), ('વ', 146401), ('વા', 143643), ('ટ', 137690)]\n",
            "Bigram token freq [('છે કે', 25798), ('છે અને', 20969), ('છે આ', 18521), ('આવે છે', 17157), ('શકે છે', 15791), ('કરે છે', 15645), ('છે જે', 15114), ('વા માટે', 14418), ('છે તે', 12795), ('કરવા માટે', 11534), ('થાય છે', 10613), ('વામાં આવે', 10482), ('હોય છે', 10025), ('શકો છો', 8813), ('વે છે', 7701), ('છે ', 7518), ('છે પરંતુ', 7419), ('ે છે', 7213), ('જો કે', 7196), ('ફ ્', 6836)]\n",
            "Bigram Syllable freq [('અ ને', 155795), ('ક ર', 113511), ('પ ર', 90567), ('મા ટે', 83880), ('એ ક', 70724), ('કા ર', 65478), ('પ ણ', 59736), ('ક રી', 56610), ('વા મા', 56142), ('ર વા', 55329), ('સા થે', 45106), ('તે મ', 42620), ('સ મ', 38367), ('હ તી', 32761), ('સ ર', 31978), ('ઉ પ', 31354), ('ત મા', 30862), ('ન થી', 30440), ('આ પ', 28436), ('આ વે', 28185)]\n",
            "Bigram character freq [('ર્ અ', 1083873), ('ક્ અ', 714424), ('અ ર્', 582265), ('મ્ આ', 578596), ('પ્ અ', 476944), ('મ્ અ', 469870), ('ન્ અ', 444891), ('ત્ અ', 423454), ('સ્ અ', 415369), ('વ્ આ', 403405), ('વ્ અ', 382561), ('ન્ એ', 374087), ('અ ન્', 347885), ('ન્ આ', 338777), ('ય્ અ', 335017), ('છ્ એ', 320962), ('ટ્ અ', 308164), ('ગ્ અ', 275400), ('જ્ અ', 263405), ('લ્ અ', 259627)]\n"
          ]
        }
      ],
      "source": [
        "# BPE for vocab 1000\n",
        "\n",
        "punctuation = '''!()-[]{};:'\"\\, <>./?@#$%^&*_~'''\n",
        "\n",
        "print('*** BPE ***')\n",
        "with open(input_corpus, \"r\", encoding=\"utf-8\") as file:\n",
        "  token_1k = file.read()\n",
        "tokens_1k = sp_bpe_1k.encode_as_pieces(token_1k)\n",
        "\n",
        "cleaned_tokens_1k=[]\n",
        "for token in tokens_1k:\n",
        "  if token !='' and token not in punctuation :\n",
        "    if token.startswith('▁'):\n",
        "      cleaned_tokens_1k.append(token[1:])\n",
        "    else:\n",
        "        cleaned_tokens_1k.append(token)\n",
        "# print(cleaned_tokens_1k[:200])\n",
        "\n",
        "bpe_freq_1k = {}\n",
        "i=0\n",
        "\n",
        "while i < len(cleaned_tokens_1k):\n",
        "        ch = cleaned_tokens_1k[i]\n",
        "        bpe_freq_1k[ch] = bpe_freq_1k.get(ch, 0) + 1\n",
        "        i=i+1\n",
        "\n",
        "bpe_freq_count_1k = [(token, count) for token, count in bpe_freq_1k.items()]\n",
        "bpe_freq_count_1k.sort(key=lambda x: x[1], reverse=True)\n",
        "print(\"Unigram token freq for BPE\",bpe_freq_count_1k[:20])\n",
        "\n",
        "# Bigram tokens\n",
        "list_of_bpe_bigram_tokens = bigram_token(cleaned_tokens_1k)\n",
        "# print(\"Bigram token for BPE\",list_of_bpe_bigram_tokens[:20])\n",
        "\n",
        "# Bigram tokens frequency\n",
        "list_of_bpe_bigram_tokens_freq = bigram_token_frequency(list_of_bpe_bigram_tokens)\n",
        "print(\"Bigram token freq\",list_of_bpe_bigram_tokens_freq[:20])\n",
        "\n",
        "# Bigram Syllables Frequency\n",
        "list_of_bpe_bigram_syllable_freq = bigram_syllable(cleaned_tokens_1k)\n",
        "print(\"Bigram Syllable freq\",list_of_bpe_bigram_syllable_freq[:20])\n",
        "\n",
        "# Bigram Character Frequency\n",
        "list_of_bpe_bigram_chars_freq = bigram_char(cleaned_tokens_1k)\n",
        "print(\"Bigram character freq\",list_of_bpe_bigram_chars_freq[:20])\n"
      ]
    },
    {
      "cell_type": "code",
      "execution_count": null,
      "id": "WBHWybtYdCWC",
      "metadata": {
        "colab": {
          "base_uri": "https://localhost:8080/"
        },
        "id": "WBHWybtYdCWC",
        "outputId": "acfa10fe-78b6-4ff3-f157-860cfc0fcf6c"
      },
      "outputs": [
        {
          "name": "stdout",
          "output_type": "stream",
          "text": [
            "[['સુપ્રીમ', 'કોર્ટે', 'પોતાના', 'ચૂકાદામાં', 'બદલાવ', 'કરતા', 'કહ્યું', 'કે', 'રાજ્ય', 'સરકાર', 'ફડાકડા', 'ફોડવા', 'માટેનો', 'સમય', 'નક્કી', 'કરી', 'શકે', 'છે'], ['સુનિલે', 'લખ્યું', 'છે', 'કે'], ['અર્થાત્\\u200dભગવાન', 'શ્રીકૃષ્ણ', 'પુરુષોત્તમનો', 'અવતાર', 'છે'], ['સુરત', 'કલેક્ટર', 'કચેરીના', 'સુત્રોના', 'જણાવ્યા', 'પ્રમાણે', 'હાલની', 'સ્થિતિમાં', 'મહા', 'વાવાઝોડું', 'દીવ'], ['કળવા', 'પણ', 'ન', 'દે', 'ત્રીજાને', 'કે', 'તેણે', 'જે', 'ઉધારી', 'કરી', 'છે', 'એની', 'તેને', 'ખબર', 'છે'], ['જો', 'ઘરમાં', 'ઉધઇ', 'થઇ', 'જાય', 'તો', 'તે', 'મોંઘામાં', 'ફર્નીચરને', 'પણ', 'ચપટીમાં', 'બરબાદ', 'કરી', 'દે', 'છે', 'એવામાં', 'તેનાથી', 'છૂટકારો', 'મેળવવો', 'મુશ્કેલ', '...'], ['પ્રદેશ', 'ઇન્સ્યુલેટર', 'છે'], ['સ્ટાઇલિશ', 'બ્લાઉઝ', '2018'], ['માર્કેટ', 'વેલ્યુની', 'દ્રષ્ટિએ', 'કોટક', 'મહિન્દ્રા', 'બેંક', 'એચડીએફસી', 'બાદ', 'બીજા', 'નંબરની', '.', '.', 'SBI', 'એ', 'એફડીના', 'વ્યાજ', 'દરમાં', '0.25', 'ટકા', 'સુધીનો'], ['શ્રેષ્ઠવાર', 'ગુરુવાર', 'છે'], ['કેટલાક', 'સ્ટારબક્સ', 'સ્ટોર્સ', 'ઇવોલ્યુશન', 'બ્રાન્ડ', 'નાસ્તાઓ', 'પણ', 'વહન', 'કરે', 'છે'], ['1', 'લી', 'અને', '4', 'થી', 'બેડરૂમ', 'માં', 'ડબલ', 'બેડ', 'બે', 'એક', 'લીધું', 'છે'], ['પરંતુ', 'એ', 'પછી', 'થોડા', 'સમયમાં', 'તેમના', 'અવસાન', 'સાથે', 'રાજકારણ', 'અને', 'રચનાત્મક', 'કાર્ય', 'વચ્ચેની', 'કડી', 'કાયમ', 'માટે', 'તૂટી', 'ગઈ', 'જે', 'આજ', 'સુધી', 'સધાઈ', 'નથી'], ['૧૦૦', 'ઉઘરાવી', 'રહ્યાં', 'છે'], ['‘', 'પતિ', 'પત્ની', 'ઓર', 'વોહ', '’', 'માં', 'ભૂમિ', 'કાર્તિકની', 'પત્ની', 'બની', 'છે', 'જ્યારે', 'અનન્યા', 'તેની', 'ગર્લફ્રેન્ડના', 'રોલમાં', 'જોવા', 'મળી', 'રહી', 'છે'], [')', '-', 'આ', 'કિસ્સાઓમાં', 'એન્ટિબાયોટિક્સ', 'સાથે', 'સારવાર', 'જરૂર', 'છે'], ['જો', 'શૌચાલય', 'ભૂમિતિ', 'ખેંચાતું'], ['સતાર', 'મોરી', '(', 'સાવરકુંડલા'], ['આંતરડાના', 'અવરોધના', 'માત્ર', 'ત્રણ', 'સ્વરૂપો', 'છે'], ['સૌરાષ્ટ્રમાં', 'રાજકોટ'], ['સમૂહગીત', 'સૂચવે', 'છે', 'કે', 'તે', 'સોથોસઅર', 'ટાયર્સિયસને', 'ફોન', 'કરે', 'છે'], ['આવી', 'ઘટનામાં', 'છેતરપિંડી', 'કરનાર', 'વ્યક્તિ', 'મોટે', 'ભાગે', 'પરિચિત', 'અથવા', 'તો', 'સંબંધી', 'હોય', 'છે', 'એ', 'વાત', 'વધારે', 'આઘાતજનક', 'હોય', 'છે'], ['મોટાભાગના', 'વિપક્ષી', 'દળોએ', '23', 'મે', 'બાદ', 'બેઠક', 'માટે', 'સંમતિ', 'દર્શાવી', 'છે'], ['જયારે', 'સાયલા', 'નજીક', 'આવેલા', 'હરણીયા', 'ગામના', 'વનરાજભાઇ', 'અમરાભાઇ', 'ખાચરની', 'વાડીમાં', 'ઘોડીપાસાનો', 'જુગાર', 'રમાતો', 'હોવાની', 'બાતમીના', 'આધારે', 'આરઆર', 'સેલના', 'સ્ટાફે', 'દરોડો', 'પાડી', 'જુગાર', 'રમતા', 'રાજકોટ', 'મેહુલનગરના', 'મનદીપ', 'હસમુખ', 'વેકરીયા'], ['એન્ટિક્રાઇસ્ટ', 'આજે', 'જીવંત', 'છે']]\n"
          ]
        }
      ],
      "source": [
        "# BPE for Question 3\n",
        "# Used for Question 5\n",
        "\n",
        "punctuation = '''!()-[]{};:'\"\\, <>./?@#$%^&*_~'''\n",
        "\n",
        "\n",
        "list_of_tokens_Q3 = []\n",
        "with open(input_Q3, \"r\", encoding=\"utf-8\") as file:\n",
        "    for line in file:\n",
        "        tokens = sp_bpe_Q3.encode_as_pieces(line.strip())\n",
        "        list_of_tokens_Q3.append(tokens)\n",
        "\n",
        "# Storing Answer in form of list of list where inner list stores tokens for 1 sentences\n",
        "\n",
        "final_cleaned_tokens_Q3=[]\n",
        "\n",
        "for tokens in list_of_tokens_Q3:\n",
        "  cleaned_tokens_Q3=[]\n",
        "  for token in tokens:\n",
        "    if token !='' and token not in punctuation :\n",
        "      if token.startswith('▁'):\n",
        "        cleaned_tokens_Q3.append(token[1:])\n",
        "      else:\n",
        "          cleaned_tokens_Q3.append(token)\n",
        "  final_cleaned_tokens_Q3.append(cleaned_tokens_Q3)\n",
        "print(final_cleaned_tokens_Q3)\n",
        "\n"
      ]
    },
    {
      "cell_type": "code",
      "execution_count": null,
      "id": "fcPbYmRRBnkI",
      "metadata": {
        "colab": {
          "base_uri": "https://localhost:8080/"
        },
        "id": "fcPbYmRRBnkI",
        "outputId": "b3b47fb1-f6b4-46fe-c409-25aa7553a011"
      },
      "outputs": [
        {
          "data": {
            "text/plain": [
              "True"
            ]
          },
          "execution_count": 19,
          "metadata": {},
          "output_type": "execute_result"
        }
      ],
      "source": [
        "# BPE for vocab 2000\n",
        "\n",
        "input = 'gu_100.txt'\n",
        "spm.SentencePieceTrainer.train('--input=gu_100.txt --model_prefix=m_bpe --vocab_size=2000 --model_type=bpe')\n",
        "sp_bpe_2k = spm.SentencePieceProcessor()\n",
        "sp_bpe_2k.load('m_bpe.model')\n"
      ]
    },
    {
      "cell_type": "code",
      "execution_count": null,
      "id": "tnq4KK2k-6il",
      "metadata": {
        "colab": {
          "base_uri": "https://localhost:8080/"
        },
        "id": "tnq4KK2k-6il",
        "outputId": "8ff729c8-738e-4dfb-9c0c-86c0486167f9"
      },
      "outputs": [
        {
          "name": "stdout",
          "output_type": "stream",
          "text": [
            "*** BPE ***\n",
            "Unigram tokens freq [('છે', 318182), ('ના', 190463), ('માં', 159786), ('અને', 152221), ('ની', 149348), ('ક', 149044), ('ન', 135263), ('ને', 129092), ('આ', 128648), ('જ', 124456), ('લ', 113825), ('કે', 113658), ('સ', 110405), ('ર', 107510), ('મ', 104554), ('એ', 104391), ('ત', 90513), ('માટે', 83880), ('બ', 82363), ('પ', 82173)]\n",
            "Bigram tokens freq [('છે કે', 25329), ('છે અને', 20846), ('આવે છે', 17156), ('છે આ', 16504), ('શકે છે', 15787), ('કરે છે', 15643), ('છે જે', 11542), ('કરવા માટે', 11534), ('છે તે', 10854), ('થાય છે', 10611), ('હોય છે', 10023), ('વા માટે', 9087), ('શકો છો', 8813), ('છે પરંતુ', 7411), ('વામાં આવે', 6727), ('. .', 6317), ('કારણ કે', 6221), ('રહી છે', 5841), ('કરવામાં આવે', 5793), ('હતું કે', 5733)]\n",
            "Bigram Syllable freq [('અ ને', 155795), ('ક ર', 107029), ('પ ર', 90567), ('મા ટે', 83880), ('એ ક', 68775), ('પ ણ', 59736), ('ર વા', 58895), ('ક રી', 56610), ('વા મા', 56142), ('કા ર', 53486), ('સા થે', 45106), ('તે મ', 42620), ('સ મ', 36757), ('ત મા', 32790), ('હ તી', 32761), ('સ ર', 31978), ('ઉ પ', 31354), ('ન થી', 30440), ('આ વે', 28185), ('ર ણ', 26629)]\n",
            "Bigram Character freq [('ર્ અ', 1027716), ('ક્ અ', 684926), ('અ ર્', 661447), ('મ્ આ', 578596), ('પ્ અ', 457691), ('મ્ અ', 444845), ('ન્ અ', 427090), ('અ ન્', 422268), ('વ્ આ', 403405), ('ત્ અ', 390288), ('સ્ અ', 386543), ('ન્ એ', 374087), ('વ્ અ', 363494), ('આ ર્', 340373), ('ન્ આ', 338777), ('ય્ અ', 323370), ('છ્ એ', 320962), ('ટ્ અ', 275163), ('જ્ અ', 259905), ('લ્ અ', 256478)]\n"
          ]
        }
      ],
      "source": [
        "# BPE for vocab 2000\n",
        "\n",
        "punctuation = '''!()-[]{};:'\"\\, <>./?@#$%^&*_~'''\n",
        "\n",
        "print('*** BPE ***')\n",
        "with open(input, \"r\", encoding=\"utf-8\") as file:\n",
        "  token_2k = file.read()\n",
        "tokens_2k = sp_bpe_2k.encode_as_pieces(token_2k)\n",
        "\n",
        "cleaned_tokens_2k=[]\n",
        "for token in tokens_2k:\n",
        "  if token !='' and token not in punctuation :\n",
        "    if token.startswith('▁'):\n",
        "      cleaned_tokens_2k.append(token[1:])\n",
        "    else:\n",
        "        cleaned_tokens_2k.append(token)\n",
        "\n",
        "bpe_freq_2k = {}\n",
        "i=0\n",
        "\n",
        "while i < len(cleaned_tokens_2k):\n",
        "        ch = cleaned_tokens_2k[i]\n",
        "        bpe_freq_2k[ch] = bpe_freq_2k.get(ch, 0) + 1\n",
        "        i=i+1\n",
        "\n",
        "bpe_freq_count_2k = [(token, count) for token, count in bpe_freq_2k.items()]\n",
        "bpe_freq_count_2k.sort(key=lambda x: x[1], reverse=True)\n",
        "print(\"Unigram tokens freq\",bpe_freq_count_2k[:20])\n",
        "\n",
        "# Bigram tokens\n",
        "list_of_bpe_bigram_tokens_2k = bigram_token(cleaned_tokens_2k)\n",
        "# print(\"Bigram token\",list_of_bpe_bigram_tokens_2k[:20])\n",
        "\n",
        "# Bigram tokens frequency\n",
        "list_of_bpe_bigram_tokens_freq_2k = bigram_token_frequency(list_of_bpe_bigram_tokens_2k)\n",
        "print(\"Bigram tokens freq\",list_of_bpe_bigram_tokens_freq_2k[:20])\n",
        "\n",
        "# Bigram Syllables Frequency\n",
        "list_of_bpe_bigram_syllable_freq_2k = bigram_syllable(cleaned_tokens_2k)\n",
        "print(\"Bigram Syllable freq\",list_of_bpe_bigram_syllable_freq_2k[:20])\n",
        "\n",
        "# Bigram Character Frequency\n",
        "list_of_bpe_bigram_chars_freq_2k = bigram_char(cleaned_tokens_2k)\n",
        "print(\"Bigram Character freq\",list_of_bpe_bigram_chars_freq_2k[:20])\n"
      ]
    },
    {
      "cell_type": "code",
      "execution_count": null,
      "id": "3Br40RnRCHKT",
      "metadata": {
        "id": "3Br40RnRCHKT"
      },
      "outputs": [],
      "source": [
        "# UNIGRAM\n",
        "\n",
        "input = 'gu_100.txt'\n",
        "spm.SentencePieceTrainer.train('--input=gu_100.txt --model_prefix=m_unigram --model_type=unigram')\n",
        "sp_unigram = spm.SentencePieceProcessor()\n",
        "sp_unigram.load('m_unigram.model')\n",
        "\n",
        "\n"
      ]
    },
    {
      "cell_type": "code",
      "execution_count": null,
      "id": "b23a506d",
      "metadata": {
        "colab": {
          "base_uri": "https://localhost:8080/"
        },
        "id": "b23a506d",
        "outputId": "8c6198fa-cdf8-4734-a1ee-be2911bbea50"
      },
      "outputs": [
        {
          "name": "stdout",
          "output_type": "stream",
          "text": [
            "True\n"
          ]
        }
      ],
      "source": [
        "input_Q3 = 'Q3_questions.txt'\n",
        "spm.SentencePieceTrainer.train('--input=Q3_questions.txt --model_prefix=m_unigram --vocab_size=279 --model_type=unigram')\n",
        "sp_unigram_Q3 = spm.SentencePieceProcessor()\n",
        "sp_unigram_Q3.load('m_unigram.model')\n",
        "print(\"True\")"
      ]
    },
    {
      "cell_type": "code",
      "execution_count": null,
      "id": "Lv4Pcqye27pV",
      "metadata": {
        "colab": {
          "base_uri": "https://localhost:8080/"
        },
        "id": "Lv4Pcqye27pV",
        "outputId": "6ad148e4-0460-460b-8c13-a289b5a3c105"
      },
      "outputs": [
        {
          "name": "stdout",
          "output_type": "stream",
          "text": [
            "*** UNIGRAM ***\n",
            "Unigram tokens freq [('છે', 317043), ('ના', 153495), ('અને', 152789), ('માં', 151459), ('ની', 146872), ('ને', 112305), ('આ', 99947), ('કે', 92217), ('માટે', 83880), ('એ', 66163), ('એક', 66111), ('ો', 63450), ('જ', 62438), ('નો', 61701), ('તે', 61374), ('ન', 60366), ('ી', 58272), ('પર', 56761), ('', 56070), ('પણ', 55206)]\n",
            "Bigram tokens freq [('છે કે', 25012), ('છે અને', 20899), ('આવે છે', 17158), ('શકે છે', 15790), ('કરે છે', 15646), ('છે આ', 15486), ('કરવા માટે', 11534), ('થાય છે', 10613), ('છે તે', 10135), ('હોય છે', 10025), ('છે જે', 9898), ('શકો છો', 8813), ('છે પરંતુ', 7445), ('ે છે', 6079), ('કારણ કે', 5948), ('રહી છે', 5842), ('હતું કે', 5716), ('કરવામાં આવે', 5512), ('કરી હતી', 5477), ('કરવામાં આવી', 5154)]\n",
            "Bigram Syllables freq [('અ ને', 156376), ('ક ર', 99438), ('પ ર', 90154), ('મા ટે', 83880), ('એ ક', 70713), ('ર વા', 69979), ('પ ણ', 59595), ('ક રી', 55860), ('કા ર', 51563), ('વા મા', 47838), ('સા થે', 45703), ('તે મ', 42918), ('ત મા', 36253), ('સ મ', 35246), ('સ ર', 33578), ('હ તી', 32761), ('ન થી', 30440), ('ઉ પ', 29942), ('આ વે', 28184), ('ર ણ', 26263)]\n",
            "Bigram Character freq [('ર્ અ', 1019678), ('અ ર્', 800138), ('ક્ અ', 663312), ('મ્ આ', 571982), ('અ ન્', 474041), ('પ્ અ', 433246), ('મ્ અ', 430921), ('ન્ અ', 428008), ('આ ર્', 415539), ('વ્ આ', 398727), ('સ્ અ', 383565), ('ત્ અ', 374043), ('ન્ એ', 368759), ('વ્ અ', 350958), ('ન્ આ', 334302), ('છ્ એ', 322229), ('અ ત્', 312870), ('ય્ અ', 301885), ('અ વ્', 293257), ('અ મ્', 290588)]\n"
          ]
        }
      ],
      "source": [
        "# UNIGRAM\n",
        "\n",
        "print('*** UNIGRAM ***')\n",
        "with open(input, \"r\", encoding=\"utf-8\") as file:\n",
        "  token = file.read()\n",
        "tokens = sp_unigram.encode_as_pieces(token)\n",
        "\n",
        "unigram_freq =  []\n",
        "for token in tokens:\n",
        "  if token !='' and token not in punctuation :\n",
        "    if token.startswith('▁'):\n",
        "      unigram_freq.append(token[1:])\n",
        "    else:\n",
        "        unigram_freq.append(token)\n",
        "\n",
        "unigram_freq_count = {}\n",
        "i=0\n",
        "\n",
        "while i < len(unigram_freq):\n",
        "        ch = unigram_freq[i]\n",
        "        unigram_freq_count[ch] = unigram_freq_count.get(ch, 0) + 1\n",
        "        i=i+1\n",
        "\n",
        "unigram_freq_count_sort = [(token, count) for token, count in unigram_freq_count.items()]\n",
        "unigram_freq_count_sort.sort(key=lambda x: x[1], reverse=True)\n",
        "print(\"Unigram tokens freq\",unigram_freq_count_sort[:20])\n",
        "\n",
        "# Bigram tokens\n",
        "list_of_unigram_bigram_tokens = bigram_token(unigram_freq)\n",
        "# print(\"Bigram tokens\",list_of_unigram_bigram_tokens[:20])\n",
        "\n",
        "# Bigram tokens frequency\n",
        "list_of_unigram_bigram_tokens_freq = bigram_token_frequency(list_of_unigram_bigram_tokens)\n",
        "print(\"Bigram tokens freq\",list_of_unigram_bigram_tokens_freq[:20])\n",
        "\n",
        "# Bigram Syllables Frequency\n",
        "list_of_unigram_bigram_syllable_freq = bigram_syllable(unigram_freq)\n",
        "print(\"Bigram Syllables freq\",list_of_unigram_bigram_syllable_freq[:20])\n",
        "\n",
        "# Bigram Character Frequency\n",
        "list_of_unigram_chars_freq = bigram_char(unigram_freq)\n",
        "print(\"Bigram Character freq\",list_of_unigram_chars_freq[:20])\n",
        "\n"
      ]
    },
    {
      "cell_type": "code",
      "execution_count": null,
      "id": "_G3ZnDPChqwz",
      "metadata": {
        "colab": {
          "base_uri": "https://localhost:8080/"
        },
        "id": "_G3ZnDPChqwz",
        "outputId": "654f02c3-0548-4302-b9ae-e7d102ea0d74"
      },
      "outputs": [
        {
          "name": "stdout",
          "output_type": "stream",
          "text": [
            "*** UNIGRAM ***\n",
            "[['સુ', 'પ્ર', 'ીમ', 'ક', 'ોર્', 'ટે', 'પ', 'ો', 'તા', 'ના', 'ચ', 'ૂ', 'ક', 'ાદ', 'ા', 'મા', 'ં', 'બ', 'દ', 'લ', 'ાવ', 'કર', 'તા', 'ક', 'હ્ય', 'ું', 'કે', 'રાજ', '્ય', 'સ', 'ર', 'કાર', 'ફ', 'ડા', 'ક', 'ડા', 'ફ', 'ોડ', 'વા', 'માટે', 'નો', 'સમય', 'ન', 'ક્', 'ક', 'ી', 'કર', 'ી', 'શ', 'ક', 'ે', 'છે'], ['સુ', 'ન', 'િ', 'લે', 'લ', 'ખ', '્યુ', 'ં', 'છે', 'કે'], ['અ', 'ર', '્થ', 'ાત્', '\\u200d', 'ભ', 'ગ', 'વાન', 'શ્ર', 'ીક', 'ૃ', 'ષ્', 'ણ', 'પ', 'ુરુ', 'ષ', 'ો', 'ત્', 'તમ', 'નો', 'અવ', 'તા', 'ર', 'છે'], ['સુ', 'રત', 'ક', 'લે', 'ક્', 'ટ', 'ર', 'ક', 'ચે', 'રી', 'ના', 'સુ', 'ત્ર', 'ો', 'ના', 'જ', 'ણ', 'ાવ', '્યા', 'પ્ર', 'મા', 'ણ', 'ે', 'હ', 'ાલ', 'ની', 'સ', '્થ', 'િતિ', 'મા', 'ં', 'મહ', 'ા', 'વા', 'વા', 'ઝ', 'ોડ', 'ું', 'દ', 'ીવ'], ['ક', 'ળ', 'વા', 'પ', 'ણ', 'ન', 'દ', 'ે', 'ત્ર', 'ીજા', 'ન', 'ે', 'કે', 'તે', 'ણ', 'ે', 'જ', 'ે', 'ઉધ', 'ાર', 'ી', 'કર', 'ી', 'છે', 'એ', 'ની', 'તેન', 'ે', 'ખ', 'બર', 'છે'], ['જો', 'ઘ', 'રમા', 'ં', 'ઉધ', 'ઇ', 'થ', 'ઇ', 'જ', 'ાય', 'ત', 'ો', 'તે', 'મો', 'ં', 'ઘા', 'મા', 'ં', 'ફ', 'ર', '્ની', 'ચરન', 'ે', 'પ', 'ણ', 'ચ', 'પ', 'ટી', 'મા', 'ં', 'બ', 'રબ', 'ાદ', 'કર', 'ી', 'દ', 'ે', 'છે', 'એ', 'વા', 'મા', 'ં', 'તે', 'ના', 'થી', 'છ', 'ૂટ', 'કાર', 'ો', 'મે', 'ળવ', 'વો', 'મ', 'ુશ', '્કે', 'લ'], ['પ્ર', 'દે', 'શ', 'ઇ', 'ન', '્સ', '્યુ', 'લે', 'ટ', 'ર', 'છે'], ['સ્ટા', 'ઇ', 'લ', 'િ', 'શ', 'બ્', 'લા', 'ઉ', 'ઝ', '2', '0', '1', '8'], ['મા', 'ર્', 'કેટ', 'વે', 'લ્યુ', 'ની', '', 'દ્ર', 'ષ્ટ', 'િ', 'એ', 'કો', 'ટક', 'મહ', 'િ', 'ન્', 'દ્ર', 'ા', 'બે', 'ં', 'ક', 'એ', 'ચ', 'ડી', 'એફ', 'સ', 'ી', 'બ', 'ાદ', 'બ', 'ીજા', 'ન', 'ંબ', 'રની', '', '', '', 'S', 'B', 'I', 'એ', '', 'એફ', 'ડી', 'ના', 'વ્ય', 'ાજ', 'દર', 'મા', 'ં', '', '0', '2', '5', '', 'ટકા', 'સુધી', 'નો'], ['શ્ર', 'ે', 'ષ્', 'ઠ', 'વા', 'ર', 'ગ', 'ુરુ', 'વા', 'ર', 'છે'], ['', 'કેટ', 'લા', 'ક', 'સ્ટા', 'રબ', 'ક્', 'સ', 'સ્ટ', 'ો', 'ર્સ', 'ઇ', 'વો', 'લ્યુ', 'શ', 'ન', 'બ', '્રા', 'ન્ડ', '', 'ના', 'સ્', 'ત', 'ાઓ', 'પ', 'ણ', 'વ', 'હ', 'ન', 'કર', 'ે', 'છે'], ['', '1', 'લી', 'અન', 'ે', '', '4', '', 'થી', 'બેડ', 'રૂ', 'મ', 'મા', 'ં', '', 'ડ', 'બ', 'લ', 'બેડ', 'બે', 'એ', 'ક', 'લી', 'ધ', 'ું', 'છે'], ['પર', 'ંત', 'ુ', 'એ', 'પ', 'છ', 'ી', '', 'થો', 'ડા', 'સમય', 'મા', 'ં', 'તે', 'મ', 'ના', 'અવ', 'સાન', 'સ', 'ાથ', 'ે', 'રાજક', 'ાર', 'ણ', 'અન', 'ે', 'ર', 'ચ', 'ના', 'ત્', 'મ', 'ક', 'કાર્', 'ય', 'વ', 'ચ', '્', 'ચે', 'ની', 'ક', 'ડી', 'ક', 'ાય', 'મ', 'માટે', 'ત', 'ૂટ', 'ી', 'ગ', 'ઈ', 'જ', 'ે', 'આજ', 'સુધી', 'સ', 'ધા', 'ઈ', 'ન', 'થી'], ['', '૧', '૦', '૦', 'ઉ', 'ઘર', 'ાવ', 'ી', 'રહ', '્યા', 'ં', 'છે'], ['', '‘', 'પ', 'તિ', 'પ', 'ત્', 'ની', '', 'ઓ', 'ર', 'વ', 'ો', 'હ', '’', 'મા', 'ં', 'ભૂમિ', 'કાર્', 'તિ', 'ક', 'ની', 'પ', 'ત્', 'ની', 'બ', 'ની', 'છે', 'જ', '્યા', 'રે', 'અન', 'ન', '્યા', 'તે', 'ની', 'ગ', 'ર્', 'લ', 'ફ', '્રે', 'ન્ડ', 'ના', 'ર', 'ોલ', 'મા', 'ં', 'જો', 'વા', 'મ', 'ળ', 'ી', 'રહ', 'ી', 'છે'], ['', '', 'આ', 'ક', 'િ', 'સ', '્સ', 'ાઓ', 'મા', 'ં', 'એન્ટિ', 'બ', 'ાય', 'ો', 'ટિક્', 'સ', 'સ', 'ાથ', 'ે', 'સ', 'ાર', 'વા', 'ર', 'જ', 'રૂ', 'ર', 'છે'], ['જો', 'શ', 'ૌ', 'ચ', 'ાલ', 'ય', 'ભૂમિ', 'તિ', 'ખ', 'ે', 'ં', 'ચ', 'ાત', 'ું'], ['સ', 'તા', 'ર', 'મો', 'રી', '', 'સ', 'ાવ', 'ર', 'ક', 'ું', 'ડ', 'લા'], ['આ', 'ંત', 'ર', 'ડા', 'ના', 'અવ', 'રો', 'ધ', 'ના', 'મા', 'ત્ર', 'ત્ર', 'ણ', 'સ્', 'વ', 'રૂ', 'પો', 'છે'], ['સ', 'ૌ', 'રા', 'ષ્ટ', '્રમા', 'ં', 'રાજકોટ'], ['સમ', 'ૂ', 'હ', 'ગ', 'ી', 'ત', 'સ', 'ૂ', 'ચ', 'વે', 'છે', 'કે', 'તે', 'સ', 'ો', 'થો', 'સ', 'અર', 'ટ', 'ાય', 'ર્સ', 'િ', 'ય', 'સ', 'ન', 'ે', 'ફો', 'ન', 'કર', 'ે', 'છે'], ['આવ', 'ી', 'ઘ', 'ટ', 'ના', 'મા', 'ં', 'છે', 'તર', 'પ', 'િ', 'ં', 'ડી', 'કર', 'ના', 'ર', 'વ્ય', 'ક્', 'તિ', 'મોટ', 'ે', '', 'ભાગ', 'ે', 'પર', 'િ', 'ચ', 'િત', 'અ', 'થ', 'વા', 'ત', 'ો', 'સ', 'ંબ', 'ં', 'ધી', 'હો', 'ય', 'છે', 'એ', 'વ', 'ાત', 'વ', 'ધાર', 'ે', 'આ', 'ઘા', 'ત', 'જ', 'નક', 'હો', 'ય', 'છે'], ['મોટ', 'ા', 'ભાગ', 'ના', 'વ', 'િ', 'પ', 'ક્', 'ષ', 'ી', 'દ', 'ળ', 'ો', 'એ', '2', '3', 'મે', 'બ', 'ાદ', 'બે', 'ઠ', 'ક', 'માટે', 'સં', 'મ', 'તિ', 'દ', 'ર્', 'શ', 'ાવ', 'ી', 'છે'], ['જ', 'યા', 'રે', 'સ', 'ાય', 'લા', 'ન', 'જી', 'ક', 'આવ', 'ે', 'લા', 'હ', 'રણ', 'ીયા', 'ગ', 'ામ', 'ના', 'વ', 'ન', 'રાજ', 'ભ', 'ાઇ', 'અ', 'મ', 'ર', 'ાભા', 'ઇ', 'ખ', 'ા', 'ચરન', 'ી', 'વ', 'ાડી', 'મા', 'ં', 'ઘ', 'ોડ', 'ીપ', 'ા', 'સાન', 'ો', 'જ', 'ુ', 'ગ', 'ાર', 'રમ', 'ાત', 'ો', 'હો', 'વા', 'ની', 'બા', 'તમ', 'ી', 'ના', 'આ', 'ધાર', 'ે', 'આ', 'ર', 'આર', 'સ', 'ેલ', 'ના', 'સ્ટા', 'ફ', 'ે', 'દર', 'ોડ', 'ો', 'પ', 'ાડી', 'જ', 'ુ', 'ગ', 'ાર', 'રમ', 'તા', 'રાજકોટ', 'મે', 'હ', 'ુલ', 'ન', 'ગર', 'ના', 'મ', 'ન', 'દ', 'ીપ', 'હ', 'સમ', 'ુ', 'ખ', 'વે', 'કરી', 'યા'], ['એન્ટિ', 'ક્', 'ર', 'ાઇ', 'સ્ટ', 'આજ', 'ે', 'જ', 'ીવ', 'ંત', 'છે']]\n"
          ]
        }
      ],
      "source": [
        "# UNIGRAM for Q3\n",
        "\n",
        "print('*** UNIGRAM ***')\n",
        "\n",
        "punctuation = '''!()-[]{};:'\"\\, <>./?@#$%^&*_~'''\n",
        "\n",
        "list_of_unigram_Q3 = []\n",
        "with open(input_Q3, \"r\", encoding=\"utf-8\") as file:\n",
        "    for line in file:\n",
        "        tokens = sp_unigram_Q3.encode_as_pieces(line.strip())\n",
        "        list_of_unigram_Q3.append(tokens)\n",
        "\n",
        "# Storing Answer in form of list of list where inner list stores tokens for 1 sentences\n",
        "\n",
        "final_cleaned_tokens_unigram_Q3=[]\n",
        "\n",
        "for tokens in list_of_unigram_Q3:\n",
        "  cleaned_tokens_Q3=[]\n",
        "  for token in tokens:\n",
        "    if token !='' and token not in punctuation :\n",
        "      if token.startswith('▁'):\n",
        "        cleaned_tokens_Q3.append(token[1:])\n",
        "      else:\n",
        "          cleaned_tokens_Q3.append(token)\n",
        "  final_cleaned_tokens_unigram_Q3.append(cleaned_tokens_Q3)\n",
        "print(final_cleaned_tokens_unigram_Q3)\n"
      ]
    },
    {
      "cell_type": "code",
      "execution_count": null,
      "id": "E7CC_6sRBceE",
      "metadata": {
        "colab": {
          "base_uri": "https://localhost:8080/"
        },
        "id": "E7CC_6sRBceE",
        "outputId": "9430ddf4-ee45-4402-8c53-7e5332d05bf9"
      },
      "outputs": [
        {
          "name": "stdout",
          "output_type": "stream",
          "text": [
            "Requirement already satisfied: transformers in c:\\users\\vaibh\\anaconda3\\lib\\site-packages (4.32.1)\n",
            "Requirement already satisfied: filelock in c:\\users\\vaibh\\anaconda3\\lib\\site-packages (from transformers) (3.9.0)\n",
            "Requirement already satisfied: huggingface-hub<1.0,>=0.15.1 in c:\\users\\vaibh\\anaconda3\\lib\\site-packages (from transformers) (0.15.1)\n",
            "Requirement already satisfied: numpy>=1.17 in c:\\users\\vaibh\\anaconda3\\lib\\site-packages (from transformers) (1.24.3)\n",
            "Requirement already satisfied: packaging>=20.0 in c:\\users\\vaibh\\anaconda3\\lib\\site-packages (from transformers) (23.1)\n",
            "Requirement already satisfied: pyyaml>=5.1 in c:\\users\\vaibh\\anaconda3\\lib\\site-packages (from transformers) (6.0)\n",
            "Requirement already satisfied: regex!=2019.12.17 in c:\\users\\vaibh\\anaconda3\\lib\\site-packages (from transformers) (2022.7.9)\n",
            "Requirement already satisfied: requests in c:\\users\\vaibh\\anaconda3\\lib\\site-packages (from transformers) (2.31.0)\n",
            "Requirement already satisfied: tokenizers!=0.11.3,<0.14,>=0.11.1 in c:\\users\\vaibh\\anaconda3\\lib\\site-packages (from transformers) (0.13.2)\n",
            "Requirement already satisfied: safetensors>=0.3.1 in c:\\users\\vaibh\\anaconda3\\lib\\site-packages (from transformers) (0.3.2)\n",
            "Requirement already satisfied: tqdm>=4.27 in c:\\users\\vaibh\\anaconda3\\lib\\site-packages (from transformers) (4.65.0)\n",
            "Requirement already satisfied: fsspec in c:\\users\\vaibh\\anaconda3\\lib\\site-packages (from huggingface-hub<1.0,>=0.15.1->transformers) (2023.4.0)\n",
            "Requirement already satisfied: typing-extensions>=3.7.4.3 in c:\\users\\vaibh\\anaconda3\\lib\\site-packages (from huggingface-hub<1.0,>=0.15.1->transformers) (4.9.0)\n",
            "Requirement already satisfied: colorama in c:\\users\\vaibh\\anaconda3\\lib\\site-packages (from tqdm>=4.27->transformers) (0.4.6)\n",
            "Requirement already satisfied: charset-normalizer<4,>=2 in c:\\users\\vaibh\\anaconda3\\lib\\site-packages (from requests->transformers) (2.0.4)\n",
            "Requirement already satisfied: idna<4,>=2.5 in c:\\users\\vaibh\\anaconda3\\lib\\site-packages (from requests->transformers) (3.4)\n",
            "Requirement already satisfied: urllib3<3,>=1.21.1 in c:\\users\\vaibh\\anaconda3\\lib\\site-packages (from requests->transformers) (1.26.16)\n",
            "Requirement already satisfied: certifi>=2017.4.17 in c:\\users\\vaibh\\anaconda3\\lib\\site-packages (from requests->transformers) (2024.2.2)\n"
          ]
        }
      ],
      "source": [
        "!pip3 install transformers"
      ]
    },
    {
      "cell_type": "code",
      "execution_count": null,
      "id": "jmy7EuAHFUbS",
      "metadata": {
        "colab": {
          "base_uri": "https://localhost:8080/"
        },
        "id": "jmy7EuAHFUbS",
        "outputId": "32397058-573f-4335-ef54-caf877b2b3a3"
      },
      "outputs": [
        {
          "name": "stdout",
          "output_type": "stream",
          "text": [
            "Requirement already satisfied: torch in c:\\users\\vaibh\\anaconda3\\lib\\site-packages (2.2.0)\n",
            "Requirement already satisfied: filelock in c:\\users\\vaibh\\anaconda3\\lib\\site-packages (from torch) (3.9.0)\n",
            "Requirement already satisfied: typing-extensions>=4.8.0 in c:\\users\\vaibh\\anaconda3\\lib\\site-packages (from torch) (4.9.0)\n",
            "Requirement already satisfied: sympy in c:\\users\\vaibh\\anaconda3\\lib\\site-packages (from torch) (1.11.1)\n",
            "Requirement already satisfied: networkx in c:\\users\\vaibh\\anaconda3\\lib\\site-packages (from torch) (3.1)\n",
            "Requirement already satisfied: jinja2 in c:\\users\\vaibh\\anaconda3\\lib\\site-packages (from torch) (3.1.2)\n",
            "Requirement already satisfied: fsspec in c:\\users\\vaibh\\anaconda3\\lib\\site-packages (from torch) (2023.4.0)\n",
            "Requirement already satisfied: MarkupSafe>=2.0 in c:\\users\\vaibh\\anaconda3\\lib\\site-packages (from jinja2->torch) (2.1.1)\n",
            "Requirement already satisfied: mpmath>=0.19 in c:\\users\\vaibh\\anaconda3\\lib\\site-packages (from sympy->torch) (1.3.0)\n"
          ]
        }
      ],
      "source": [
        "!pip install torch\n"
      ]
    },
    {
      "cell_type": "code",
      "execution_count": null,
      "id": "f95ce0e5",
      "metadata": {
        "id": "f95ce0e5",
        "outputId": "4c202148-4a2e-4bfc-f3a1-6c1f170b921c"
      },
      "outputs": [
        {
          "name": "stdout",
          "output_type": "stream",
          "text": [
            "Collecting protobuf\n",
            "  Obtaining dependency information for protobuf from https://files.pythonhosted.org/packages/ad/6e/1bed3b7c904cc178cb8ee8dbaf72934964452b3de95b7a63412591edb93c/protobuf-4.25.3-cp310-abi3-win_amd64.whl.metadata\n",
            "  Using cached protobuf-4.25.3-cp310-abi3-win_amd64.whl.metadata (541 bytes)\n",
            "Using cached protobuf-4.25.3-cp310-abi3-win_amd64.whl (413 kB)\n",
            "Installing collected packages: protobuf\n",
            "Successfully installed protobuf-4.25.3\n",
            "Hello\n"
          ]
        }
      ],
      "source": [
        "!pip install protobuf"
      ]
    },
    {
      "cell_type": "code",
      "execution_count": null,
      "id": "EsEZRTc3DxDI",
      "metadata": {
        "colab": {
          "base_uri": "https://localhost:8080/"
        },
        "id": "EsEZRTc3DxDI",
        "outputId": "f4198ef8-1536-44f3-dab6-d1451a9ad0bd"
      },
      "outputs": [
        {
          "name": "stdout",
          "output_type": "stream",
          "text": [
            "*** INDIC-BERT ***\n"
          ]
        }
      ],
      "source": [
        "# INDIC-BERT for max_length = 1k\n",
        "\n",
        "from transformers import AutoModel, AutoTokenizer\n",
        "\n",
        "tokenizer = AutoTokenizer.from_pretrained('ai4bharat/indic-bert', keep_accents=True)\n",
        "\n",
        "print('*** INDIC-BERT ***')\n",
        "with open('gu_100.txt', 'r', encoding='utf-8') as file:\n",
        "    text_1k = file.read()\n",
        "\n",
        "sentence_1k = text_1k\n",
        "tokens_1k = tokenizer(sentence_1k, return_tensors=\"pt\", max_length = 1000, truncation= True)\n",
        "indicBert_list_1k=tokenizer.convert_ids_to_tokens(tokens_1k['input_ids'][0])\n",
        "print(indicBert_list_1k)"
      ]
    },
    {
      "cell_type": "code",
      "execution_count": null,
      "id": "vC_tNhAxAcHO",
      "metadata": {
        "colab": {
          "base_uri": "https://localhost:8080/"
        },
        "id": "vC_tNhAxAcHO",
        "outputId": "fed29d22-3ff1-458b-e722-c929ad215c5d"
      },
      "outputs": [
        {
          "name": "stdout",
          "output_type": "stream",
          "text": [
            "Unigram tokens freq [('છે', 39), ('ની', 13), ('અને', 12), ('ને', 10), ('માટે', 9), ('ના', 8), ('', 8), ('માં', 8), ('જે', 7), ('જ', 6), ('આ', 6), ('થી', 6), ('તે', 6), ('ે', 6), ('એ', 6), ('એક', 6), ('કે', 6), ('નો', 6), ('સાથે', 5), ('પણ', 5)]\n",
            "Bigram tokens freq [('છે કે', 4), ('કરે છે', 2), ('પગલ ે', 2), ('બંધ ના', 2), ('રહી છે', 2), ('આવી છે', 2), ('ગ્લાસ ફ', 2), ('ફ ાયબર', 2), ('છે આ', 2), ('છે તે', 2), ('છે એ', 2), ('છે અને', 2), ('પદ ાનુ', 2), ('ાનુ ક્રમ', 2), ('કર્યો છે', 2), ('કરી શકે', 2), ('શકે છે', 2), ('હોય છે', 2), ('[CLS] ૯', 1), ('૯ મી', 1)]\n",
            "Bigram Syllables freq [('અ ને', 13), ('મા ટે', 9), ('ક ર', 8), ('પ ર', 7), ('ત મા', 7), ('સ ર', 7), ('ર વા', 6), ('સ મ', 6), ('આ પ', 6), ('એ ક', 6), ('કા ર', 6), ('તે મ', 6), ('સા થે', 5), ('ગ ર', 5), ('દ ર', 5), ('તે ઓ', 5), ('પ ણ', 5), ('વા સી', 4), ('વા મા', 4), ('ત ર', 4)]\n",
            "Bigram Character freq [('ર્ અ', 124), ('અ ર્', 85), ('ક્ અ', 65), ('અ ન્', 63), ('મ્ આ', 57), ('ન્ અ', 54), ('પ્ અ', 53), ('વ્ અ', 48), ('ત્ અ', 48), ('મ્ અ', 47), ('આ ર્', 45), ('વ્ આ', 42), ('અ ત્', 40), ('છ્ એ', 40), ('સ્ અ', 39), ('અ વ્', 37), ('ન્ એ', 37), ('અ મ્', 37), ('અ ણ્', 29), ('લ્ અ', 29)]\n"
          ]
        }
      ],
      "source": [
        "# INDIC-BERT for max_length = 1k\n",
        "\n",
        "indic_freq_1k =  []\n",
        "for token in indicBert_list_1k:\n",
        "  if token !='' and token not in punctuation :\n",
        "    if token.startswith('▁'):\n",
        "      indic_freq_1k.append(token[1:])\n",
        "    else:\n",
        "        indic_freq_1k.append(token)\n",
        "\n",
        "\n",
        "indic_freq_count_1k = {}\n",
        "i=0\n",
        "\n",
        "while i < len(indic_freq_1k):\n",
        "        ch = indic_freq_1k[i]\n",
        "        indic_freq_count_1k[ch] = indic_freq_count_1k.get(ch, 0) + 1\n",
        "        i=i+1\n",
        "\n",
        "indic_freq_count_sort_1k = [(token, count) for token, count in indic_freq_count_1k.items()]\n",
        "indic_freq_count_sort_1k.sort(key=lambda x: x[1], reverse=True)\n",
        "print(\"Unigram tokens freq\",indic_freq_count_sort_1k[:20])\n",
        "\n",
        "# Bigram tokens\n",
        "list_of_indicbert_bigram_tokens_1k = bigram_token(indic_freq_1k)\n",
        "# print(\"Bigram tokens\",list_of_indicbert_bigram_tokens_1k[:20])\n",
        "\n",
        "# Bigram tokens frequency\n",
        "list_of_indicbert_bigram_tokens_freq_1k = bigram_token_frequency(list_of_indicbert_bigram_tokens_1k)\n",
        "print(\"Bigram tokens freq\",list_of_indicbert_bigram_tokens_freq_1k[:20])\n",
        "\n",
        "# Bigram Syllables Frequency\n",
        "list_of_indicbert_bigram_syllable_freq_1k = bigram_syllable(indic_freq_1k)\n",
        "print(\"Bigram Syllables freq\",list_of_indicbert_bigram_syllable_freq_1k[:20])\n",
        "\n",
        "# Bigram Character Frequency\n",
        "list_of_indicbert_chars_freq_1k = bigram_char(indic_freq_1k)\n",
        "print(\"Bigram Character freq\",list_of_indicbert_chars_freq_1k[:20])\n",
        "\n"
      ]
    },
    {
      "cell_type": "code",
      "execution_count": null,
      "id": "5Lm7XlyFFqBT",
      "metadata": {
        "colab": {
          "base_uri": "https://localhost:8080/"
        },
        "id": "5Lm7XlyFFqBT",
        "outputId": "6d03c91b-4ee9-4232-9045-e2da670dab37"
      },
      "outputs": [
        {
          "name": "stdout",
          "output_type": "stream",
          "text": [
            "*** INDIC-BERT ***\n"
          ]
        }
      ],
      "source": [
        "# INDIC-BERT for max_length = 2k\n",
        "\n",
        "from transformers import AutoModel, AutoTokenizer\n",
        "\n",
        "tokenizer = AutoTokenizer.from_pretrained('ai4bharat/indic-bert', keep_accents=True)\n",
        "\n",
        "print('*** INDIC-BERT ***')\n",
        "with open(path , 'r', encoding='utf-8') as file:\n",
        "    text_2k = file.read()\n",
        "\n",
        "sentence_2k = text_2k\n",
        "tokens_2k = tokenizer(sentence_2k, return_tensors=\"pt\", max_length = 2000, truncation= True)\n",
        "indicBert_list_2k=tokenizer.convert_ids_to_tokens(tokens_2k['input_ids'][0])\n",
        "\n"
      ]
    },
    {
      "cell_type": "code",
      "execution_count": null,
      "id": "5c07e32a",
      "metadata": {
        "colab": {
          "base_uri": "https://localhost:8080/",
          "height": 227,
          "referenced_widgets": [
            "25d8ad5b8d8b405d860e7c136386484c",
            "ac92223f5e32493c9673296a10dd4133",
            "52309c420933405cb78db5f441bae2c7",
            "c91fd6d79f404f1da0762bf503e5f61d",
            "974b77df2d6744a4baa05daaf4025751",
            "961fe2f24b6b41edb2c7c20f9f876a0f",
            "da0478f8361040cf8e12ff57722129e8",
            "4e68064977284fcda4603e4581428c16",
            "597c5b68f3364027b5304b4986c669d6",
            "cff7299cff4d436aa92a39458af240c2",
            "4c4b7ac593fb437ebc095d8b80e04c9d",
            "ae4600d968094423a76a5cf92129adab",
            "c35486407e81445bb6bb61b04e1fa145",
            "f44fae2d12e64a878b391cb1a78a06b6",
            "f63146eba1104c7b8eaf177981544458",
            "e0bd41bb925547ec95b49f64ffc99f81",
            "fc088646b0814afa9bd28f9c07e39f07",
            "bc87219ee330449da09de3c37d8d7b12",
            "3fbf94dcbb8a4110bf8c7bdded9b6228",
            "37fe4137afa8485ba8c9b3cf018e0f4b",
            "0ab5808659c0446a92e2e588a2c1ec22",
            "15b3e0d4813e4f5d91a8af3f8328591b"
          ]
        },
        "id": "5c07e32a",
        "outputId": "99791cd5-ccf7-482a-e229-5d9e63dfffda"
      },
      "outputs": [
        {
          "name": "stderr",
          "output_type": "stream",
          "text": [
            "/usr/local/lib/python3.10/dist-packages/huggingface_hub/utils/_token.py:88: UserWarning: \n",
            "The secret `HF_TOKEN` does not exist in your Colab secrets.\n",
            "To authenticate with the Hugging Face Hub, create a token in your settings tab (https://huggingface.co/settings/tokens), set it as secret in your Google Colab and restart your session.\n",
            "You will be able to reuse this secret in all of your notebooks.\n",
            "Please note that authentication is recommended but still optional to access public models or datasets.\n",
            "  warnings.warn(\n"
          ]
        },
        {
          "data": {
            "application/vnd.jupyter.widget-view+json": {
              "model_id": "25d8ad5b8d8b405d860e7c136386484c",
              "version_major": 2,
              "version_minor": 0
            },
            "text/plain": [
              "config.json:   0%|          | 0.00/507 [00:00<?, ?B/s]"
            ]
          },
          "metadata": {},
          "output_type": "display_data"
        },
        {
          "data": {
            "application/vnd.jupyter.widget-view+json": {
              "model_id": "ae4600d968094423a76a5cf92129adab",
              "version_major": 2,
              "version_minor": 0
            },
            "text/plain": [
              "spiece.model:   0%|          | 0.00/5.65M [00:00<?, ?B/s]"
            ]
          },
          "metadata": {},
          "output_type": "display_data"
        },
        {
          "name": "stdout",
          "output_type": "stream",
          "text": [
            "[['[CLS]', '▁સુપ્રીમ', '▁કોર્ટે', '▁પોતાના', '▁ચૂક', 'ાદા', 'માં', '▁બદલાવ', '▁કરતા', '▁કહ્યું', '▁કે', '▁રાજ્ય', '▁સરકાર', '▁ફ', 'ડા', 'કડા', '▁ફો', 'ડવા', '▁માટે', 'નો', '▁સમય', '▁નક્કી', '▁કરી', '▁શકે', '▁છે', '.', '[SEP]'], ['[CLS]', '▁સુનિ', 'લે', '▁લખ્યું', '▁છે', '▁કે', '[SEP]'], ['[CLS]', '▁અર્થ', 'ાત્', '▁ભગવાન', '▁શ્રીકૃષ્ણ', '▁પુરુષ', 'ોત્તમ', 'નો', '▁અવતાર', '▁છે', '.', '[SEP]'], ['[CLS]', '▁સુરત', '▁કલેક્ટર', '▁કચેરીના', '▁સુત્રો', 'ના', '▁જણાવ્યા', '▁પ્રમાણે', '▁હાલની', '▁સ્થિતિમાં', '▁મહા', '▁વાવાઝોડું', '▁દીવ', '[SEP]'], ['[CLS]', '▁કળ', 'વા', '▁પણ', '▁ન', '▁દે', '▁ત્રીજા', 'ને', '▁કે', '▁તેણે', '▁જે', '▁ઉ', 'ધારી', '▁કરી', '▁છે', '▁એની', '▁તેને', '▁ખબર', '▁છે', '.', '[SEP]'], ['[CLS]', '▁જો', '▁ઘરમાં', '▁ઉધ', 'ઇ', '▁થઇ', '▁જાય', '▁તો', '▁તે', '▁મોંઘા', 'માં', '▁ફર્', 'ની', 'ચર', 'ને', '▁પણ', '▁ચપટી', 'માં', '▁બ', 'રબાદ', '▁કરી', '▁દે', '▁છે', '.', '▁એવા', 'માં', '▁તેનાથી', '▁છૂટકારો', '▁મેળવવ', 'ો', '▁મુશ્કેલ', '...', '[SEP]'], ['[CLS]', '▁પ્રદેશ', '▁ઇન્સ', '્યુલેટર', '▁છે', '.', '[SEP]'], ['[CLS]', '▁સ્ટાઇલિશ', '▁બ્લ', 'ાઉઝ', '▁2018', '[SEP]'], ['[CLS]', '▁માર્કેટ', '▁વેલ્યુ', 'ની', '▁દ્રષ્ટિએ', '▁કોટ', 'ક', '▁મહિન્દ્રા', '▁બેંક', '▁એચડી', 'એફસી', '▁બાદ', '▁બીજા', '▁નંબર', 'ની', '.', '▁.', '▁.', '▁s', 'bi', 'એ', '▁એફ', 'ડીના', '▁વ્યાજ', '▁દર', 'માં', '▁0.25', '▁ટકા', '▁સુધીનો', '.', '[SEP]'], ['[CLS]', '▁શ્રેષ્ઠ', 'વાર', '▁ગુરુવાર', '▁છે', '.', '[SEP]'], ['[CLS]', '▁કેટલાક', '▁સ્ટાર', 'બ', 'ક્સ', '▁સ્ટોર્સ', '▁ઇવ', 'ોલ્યુશન', '▁બ્રાન્ડ', '▁નાસ્તા', 'ઓ', '▁પણ', '▁વહન', '▁કરે', '▁છે', '.', '[SEP]'], ['[CLS]', '▁1', '▁લી', '▁અને', '▁4', '▁થી', '▁બેડરૂમ', '▁માં', '▁ડબલ', '▁બેડ', '▁બે', '▁એક', '▁લીધું', '▁છે', '.', '[SEP]'], ['[CLS]', '▁પરંતુ', '▁એ', '▁પછી', '▁થોડા', '▁સમયમાં', '▁તેમના', '▁અવસાન', '▁સાથે', '▁રાજકારણ', '▁અને', '▁રચનાત્મક', '▁કાર્ય', '▁વચ્ચેની', '▁કડી', '▁કાયમ', '▁માટે', '▁તૂટી', '▁ગઈ', '▁જે', '▁આજ', '▁સુધી', '▁સ', 'ધ', 'ાઈ', '▁નથી', '.', '[SEP]'], ['[CLS]', '▁૧૦૦', '▁ઉઘરા', 'વી', '▁રહ્યાં', '▁છે', '.', '[SEP]'], ['[CLS]', '▁‘', 'પતિ', '▁પત્ની', '▁ઓર', '▁વો', 'હ', '’', 'માં', '▁ભૂમિ', '▁કાર્તિક', 'ની', '▁પત્ની', '▁બની', '▁છે', '▁જ્યારે', '▁અનન્ય', 'ા', '▁તેની', '▁ગર્લફ્રેન્ડ', 'ના', '▁રોલમાં', '▁જોવા', '▁મળી', '▁રહી', '▁છે', '.', '[SEP]'], ['[CLS]', '▁)', '▁-', '▁આ', '▁કિસ્સાઓમાં', '▁એન્ટિબાયોટિક્સ', '▁સાથે', '▁સારવાર', '▁જરૂર', '▁છે', '.', '[SEP]'], ['[CLS]', '▁જો', '▁શૌચાલય', '▁ભૂમિ', 'તિ', '▁ખેંચા', 'તું', '[SEP]'], ['[CLS]', '▁સતા', 'ર', '▁મોર', 'ી', '▁(', 'સ', 'ાવર', 'કુંડ', 'લા', ')', '[SEP]'], ['[CLS]', '▁આંતરડાના', '▁અવરોધ', 'ના', '▁માત્ર', '▁ત્રણ', '▁સ્વરૂપો', '▁છે', ':', '[SEP]'], ['[CLS]', '▁સૌરાષ્ટ્રમાં', '▁રાજકોટ', '[SEP]'], ['[CLS]', '▁સમૂહ', 'ગીત', '▁સૂચવે', '▁છે', '▁કે', '▁તે', '▁સો', 'થો', 'સ', 'અર', '▁ટાયર', '્સ', 'િયસ', 'ને', '▁ફોન', '▁કરે', '▁છે', '.', '[SEP]'], ['[CLS]', '▁આવી', '▁ઘટનામાં', '▁છેતરપિંડી', '▁કરનાર', '▁વ્યક્તિ', '▁મોટે', '▁ભાગે', '▁પરિચિત', '▁અથવા', '▁તો', '▁સંબંધી', '▁હોય', '▁છે', '▁એ', '▁વાત', '▁વધારે', '▁આઘાત', 'જનક', '▁હોય', '▁છે', '.', '[SEP]'], ['[CLS]', '▁મોટાભાગના', '▁વિપક્ષી', '▁દળો', 'એ', '▁23', '▁મે', '▁બાદ', '▁બેઠક', '▁માટે', '▁સંમતિ', '▁દર્શાવી', '▁છે', '.', '[SEP]'], ['[CLS]', '▁જયારે', '▁સાય', 'લા', '▁નજીક', '▁આવેલા', '▁હર', 'ણીયા', '▁ગામના', '▁વન', 'રાજ', 'ભાઇ', '▁અમર', 'ાભાઇ', '▁ખા', 'ચર', 'ની', '▁', 'વાડીમાં', '▁ઘોડ', 'ી', 'પાસ', 'ાનો', '▁જુગાર', '▁રમા', 'તો', '▁હોવાની', '▁બાતમીના', '▁આધારે', '▁આર', 'આર', '▁સેલ', 'ના', '▁સ્ટાફ', 'ે', '▁દરોડ', 'ો', '▁પાડી', '▁જુગાર', '▁રમતા', '▁રાજકોટ', '▁મે', 'હુલ', 'નગરના', '▁મન', 'દીપ', '▁હસ', 'મુખ', '▁વેક', 'રીયા', '[SEP]'], ['[CLS]', '▁એન્ટિ', 'ક્ર', 'ાઇ', 'સ્ટ', '▁આજે', '▁જીવંત', '▁છે', '?', '[SEP]']]\n"
          ]
        }
      ],
      "source": [
        "from transformers import AutoTokenizer\n",
        "\n",
        "tokenizer = AutoTokenizer.from_pretrained('ai4bharat/indic-bert', keep_accents=True)\n",
        "# model = AutoModel.from_pretrained('ai4bharat/indic-bert')\n",
        "\n",
        "indicBert_list_Q3 = []\n",
        "with open('Q3_questions.txt', \"r\", encoding=\"utf-8\") as file:\n",
        "    for line in file:\n",
        "        line_temp = line.strip()\n",
        "        tokens = tokenizer(line_temp, return_tensors=\"pt\", max_length = 2000, truncation= True)\n",
        "        tokens_new = tokenizer.convert_ids_to_tokens(tokens['input_ids'][0])\n",
        "        indicBert_list_Q3.append(tokens_new)\n",
        "print(indicBert_list_Q3)"
      ]
    },
    {
      "cell_type": "code",
      "execution_count": null,
      "id": "0-3GNRgPFqP2",
      "metadata": {
        "colab": {
          "base_uri": "https://localhost:8080/"
        },
        "id": "0-3GNRgPFqP2",
        "outputId": "e38e1e80-58aa-46db-cb0e-77b1bb064af3"
      },
      "outputs": [
        {
          "name": "stdout",
          "output_type": "stream",
          "text": [
            "Unigram tokens freq [('છે', 74), ('ની', 27), ('અને', 25), ('ને', 25), ('કે', 20), ('માં', 19), ('આ', 18), ('માટે', 17), ('ના', 16), ('', 16), ('તે', 13), ('એક', 13), ('એ', 12), ('જ', 11), ('થી', 11), ('સાથે', 11), ('જે', 11), ('પણ', 11), ('તા', 10), ('નો', 10)]\n",
            "Bigram tokens freq [('છે કે', 8), ('છે અને', 5), ('રહી છે', 4), ('છે જે', 3), ('કહ્યું કે', 3), ('હોય છે', 3), ('છે જ્યારે', 3), ('કરવામાં આવશે', 2), ('નથી પરંતુ', 2), ('આવે છે', 2), ('કરે છે', 2), ('છે ', 2), ('પગલ ે', 2), ('બંધ ના', 2), ('આ મામલા', 2), ('આવી છે', 2), ('ગ્લાસ ફ', 2), ('ફ ાયબર', 2), ('બની છે', 2), ('છે આ', 2)]\n",
            "Bigram Syllables freq [('અ ને', 27), ('મા ટે', 17), ('ક ર', 16), ('પ ર', 15), ('એ ક', 13), ('કા ર', 13), ('ર વા', 12), ('ત મા', 12), ('પ ણ', 12), ('સા થે', 11), ('તે મ', 10), ('વા મા', 9), ('ન થી', 9), ('સ મ', 9), ('ક રી', 9), ('દે શ', 8), ('આ પ', 8), ('ગ ર', 8), ('દ ર', 8), ('તે ઓ', 8)]\n",
            "Bigram Character freq [('ર્ અ', 221), ('અ ર્', 165), ('ક્ અ', 128), ('અ ન્', 117), ('મ્ આ', 116), ('ન્ અ', 109), ('મ્ અ', 98), ('આ ર્', 93), ('પ્ અ', 88), ('વ્ આ', 86), ('વ્ અ', 86), ('ન્ એ', 84), ('ત્ અ', 80), ('સ્ અ', 78), ('અ મ્', 78), ('અ વ્', 76), ('છ્ એ', 75), ('અ ત્', 74), ('ન્ આ', 66), ('ય્ અ', 60)]\n"
          ]
        }
      ],
      "source": [
        "# INDIC-BERT for max_length = 2k\n",
        "\n",
        "indic_freq_2k =  []\n",
        "for token in indicBert_list_2k:\n",
        "  if token !='' and token not in punctuation :\n",
        "    if token.startswith('▁'):\n",
        "      indic_freq_2k.append(token[1:])\n",
        "    else:\n",
        "        indic_freq_2k.append(token)\n",
        "\n",
        "indic_freq_count_2k = {}\n",
        "i=0\n",
        "\n",
        "while i < len(indic_freq_2k):\n",
        "        ch = indic_freq_2k[i]\n",
        "        indic_freq_count_2k[ch] = indic_freq_count_2k.get(ch, 0) + 1\n",
        "        i=i+1\n",
        "\n",
        "indic_freq_count_sort_2k = [(token, count) for token, count in indic_freq_count_2k.items()]\n",
        "indic_freq_count_sort_2k.sort(key=lambda x: x[1], reverse=True)\n",
        "print(\"Unigram tokens freq\",indic_freq_count_sort_2k[:20])\n",
        "\n",
        "# Bigram tokens\n",
        "list_of_indicbert_bigram_tokens_2k = bigram_token(indic_freq_2k)\n",
        "# print(\"Bigram tokens\",list_of_indicbert_bigram_tokens_2k[:20])\n",
        "\n",
        "# Bigram tokens frequency\n",
        "list_of_indicbert_bigram_tokens_freq_2k = bigram_token_frequency(list_of_indicbert_bigram_tokens_2k)\n",
        "print(\"Bigram tokens freq\",list_of_indicbert_bigram_tokens_freq_2k[:20])\n",
        "\n",
        "# Bigram Syllables Frequency\n",
        "list_of_indicbert_bigram_syllable_freq_2k = bigram_syllable(indic_freq_2k)\n",
        "print(\"Bigram Syllables freq\",list_of_indicbert_bigram_syllable_freq_2k[:20])\n",
        "\n",
        "# Bigram Character Frequency\n",
        "list_of_indicbert_chars_freq_2k = bigram_char(indic_freq_2k)\n",
        "print(\"Bigram Character freq\",list_of_indicbert_chars_freq_2k[:20])\n"
      ]
    },
    {
      "cell_type": "code",
      "execution_count": null,
      "id": "c23X5_Ny6oZa",
      "metadata": {
        "colab": {
          "base_uri": "https://localhost:8080/"
        },
        "id": "c23X5_Ny6oZa",
        "outputId": "e273f3ea-f3ec-4a63-fbc7-7447531575da"
      },
      "outputs": [
        {
          "name": "stdout",
          "output_type": "stream",
          "text": [
            "[['સુપ્રીમ', 'કોર્ટે', 'પોતાના', 'ચૂક', 'ાદા', 'માં', 'બદલાવ', 'કરતા', 'કહ્યું', 'કે', 'રાજ્ય', 'સરકાર', 'ફ', 'ડા', 'કડા', 'ફો', 'ડવા', 'માટે', 'નો', 'સમય', 'નક્કી', 'કરી', 'શકે', 'છે'], ['સુનિ', 'લે', 'લખ્યું', 'છે', 'કે'], ['અર્થ', 'ાત્', 'ભગવાન', 'શ્રીકૃષ્ણ', 'પુરુષ', 'ોત્તમ', 'નો', 'અવતાર', 'છે'], ['સુરત', 'કલેક્ટર', 'કચેરીના', 'સુત્રો', 'ના', 'જણાવ્યા', 'પ્રમાણે', 'હાલની', 'સ્થિતિમાં', 'મહા', 'વાવાઝોડું', 'દીવ'], ['કળ', 'વા', 'પણ', 'ન', 'દે', 'ત્રીજા', 'ને', 'કે', 'તેણે', 'જે', 'ઉ', 'ધારી', 'કરી', 'છે', 'એની', 'તેને', 'ખબર', 'છે'], ['જો', 'ઘરમાં', 'ઉધ', 'ઇ', 'થઇ', 'જાય', 'તો', 'તે', 'મોંઘા', 'માં', 'ફર્', 'ની', 'ચર', 'ને', 'પણ', 'ચપટી', 'માં', 'બ', 'રબાદ', 'કરી', 'દે', 'છે', 'એવા', 'માં', 'તેનાથી', 'છૂટકારો', 'મેળવવ', 'ો', 'મુશ્કેલ', '...'], ['પ્રદેશ', 'ઇન્સ', '્યુલેટર', 'છે'], ['સ્ટાઇલિશ', 'બ્લ', 'ાઉઝ', '2018'], ['માર્કેટ', 'વેલ્યુ', 'ની', 'દ્રષ્ટિએ', 'કોટ', 'ક', 'મહિન્દ્રા', 'બેંક', 'એચડી', 'એફસી', 'બાદ', 'બીજા', 'નંબર', 'ની', '.', '.', 's', 'bi', 'એ', 'એફ', 'ડીના', 'વ્યાજ', 'દર', 'માં', '0.25', 'ટકા', 'સુધીનો'], ['શ્રેષ્ઠ', 'વાર', 'ગુરુવાર', 'છે'], ['કેટલાક', 'સ્ટાર', 'બ', 'ક્સ', 'સ્ટોર્સ', 'ઇવ', 'ોલ્યુશન', 'બ્રાન્ડ', 'નાસ્તા', 'ઓ', 'પણ', 'વહન', 'કરે', 'છે'], ['1', 'લી', 'અને', '4', 'થી', 'બેડરૂમ', 'માં', 'ડબલ', 'બેડ', 'બે', 'એક', 'લીધું', 'છે'], ['પરંતુ', 'એ', 'પછી', 'થોડા', 'સમયમાં', 'તેમના', 'અવસાન', 'સાથે', 'રાજકારણ', 'અને', 'રચનાત્મક', 'કાર્ય', 'વચ્ચેની', 'કડી', 'કાયમ', 'માટે', 'તૂટી', 'ગઈ', 'જે', 'આજ', 'સુધી', 'સ', 'ધ', 'ાઈ', 'નથી'], ['૧૦૦', 'ઉઘરા', 'વી', 'રહ્યાં', 'છે'], ['‘', 'પતિ', 'પત્ની', 'ઓર', 'વો', 'હ', '’', 'માં', 'ભૂમિ', 'કાર્તિક', 'ની', 'પત્ની', 'બની', 'છે', 'જ્યારે', 'અનન્ય', 'ા', 'તેની', 'ગર્લફ્રેન્ડ', 'ના', 'રોલમાં', 'જોવા', 'મળી', 'રહી', 'છે'], [')', '-', 'આ', 'કિસ્સાઓમાં', 'એન્ટિબાયોટિક્સ', 'સાથે', 'સારવાર', 'જરૂર', 'છે'], ['જો', 'શૌચાલય', 'ભૂમિ', 'તિ', 'ખેંચા', 'તું'], ['સતા', 'ર', 'મોર', 'ી', '(', 'સ', 'ાવર', 'કુંડ', 'લા'], ['આંતરડાના', 'અવરોધ', 'ના', 'માત્ર', 'ત્રણ', 'સ્વરૂપો', 'છે'], ['સૌરાષ્ટ્રમાં', 'રાજકોટ'], ['સમૂહ', 'ગીત', 'સૂચવે', 'છે', 'કે', 'તે', 'સો', 'થો', 'સ', 'અર', 'ટાયર', '્સ', 'િયસ', 'ને', 'ફોન', 'કરે', 'છે'], ['આવી', 'ઘટનામાં', 'છેતરપિંડી', 'કરનાર', 'વ્યક્તિ', 'મોટે', 'ભાગે', 'પરિચિત', 'અથવા', 'તો', 'સંબંધી', 'હોય', 'છે', 'એ', 'વાત', 'વધારે', 'આઘાત', 'જનક', 'હોય', 'છે'], ['મોટાભાગના', 'વિપક્ષી', 'દળો', 'એ', '23', 'મે', 'બાદ', 'બેઠક', 'માટે', 'સંમતિ', 'દર્શાવી', 'છે'], ['જયારે', 'સાય', 'લા', 'નજીક', 'આવેલા', 'હર', 'ણીયા', 'ગામના', 'વન', 'રાજ', 'ભાઇ', 'અમર', 'ાભાઇ', 'ખા', 'ચર', 'ની', '', 'વાડીમાં', 'ઘોડ', 'ી', 'પાસ', 'ાનો', 'જુગાર', 'રમા', 'તો', 'હોવાની', 'બાતમીના', 'આધારે', 'આર', 'આર', 'સેલ', 'ના', 'સ્ટાફ', 'ે', 'દરોડ', 'ો', 'પાડી', 'જુગાર', 'રમતા', 'રાજકોટ', 'મે', 'હુલ', 'નગરના', 'મન', 'દીપ', 'હસ', 'મુખ', 'વેક', 'રીયા'], ['એન્ટિ', 'ક્ર', 'ાઇ', 'સ્ટ', 'આજે', 'જીવંત', 'છે']]\n"
          ]
        }
      ],
      "source": [
        "# Indic Bert for question 3\n",
        "\n",
        "final_cleaned_tokens_indicbert_Q3=[]\n",
        "\n",
        "for tokens in indicBert_list_Q3:\n",
        "  cleaned_tokens_Q3=[]\n",
        "  for token in tokens:\n",
        "    if token !='' and token not in punctuation and token !='[CLS]' and token != '[SEP]' :\n",
        "      if token.startswith('▁'):\n",
        "        cleaned_tokens_Q3.append(token[1:])\n",
        "      else:\n",
        "          cleaned_tokens_Q3.append(token)\n",
        "  final_cleaned_tokens_indicbert_Q3.append(cleaned_tokens_Q3)\n",
        "print(final_cleaned_tokens_indicbert_Q3)"
      ]
    },
    {
      "cell_type": "code",
      "execution_count": null,
      "id": "60C-kzkvGTjq",
      "metadata": {
        "colab": {
          "base_uri": "https://localhost:8080/"
        },
        "id": "60C-kzkvGTjq",
        "outputId": "9695f3a8-0841-4c5f-9bb0-0636c033c075"
      },
      "outputs": [
        {
          "name": "stdout",
          "output_type": "stream",
          "text": [
            "*** White space tokenizer ***\n",
            "Unigram tokens freq [('છે.', 178482), ('અને', 151509), ('છે', 85214), ('આ', 78426), ('માટે', 74470), ('કે', 66147), ('એક', 58518), ('તે', 55611), ('પણ', 52790), ('પર', 46481), ('સાથે', 41610), ('છે,', 39966), ('કરી', 38986), ('જ', 37023), ('જે', 28405), ('તો', 27867), ('તમે', 25758), ('હતી.', 22541), ('કરવામાં', 20525), ('આવે', 20071)]\n",
            "Bigram tokens freq [('છે કે', 20421), ('છે અને', 14262), ('છે. આ', 12278), ('શકે છે.', 9572), ('આવે છે.', 9429), ('કરવા માટે', 9424), ('કરે છે.', 8519), ('થાય છે.', 6206), ('કારણ કે', 5668), ('હોય છે.', 5559), ('કરવામાં આવે', 5311), ('કરવામાં આવી', 4972), ('શકો છો.', 4893), ('કેવી રીતે', 4881), ('કરી શકો', 4599), ('છે, અને', 4479), ('રહી છે.', 4236), ('આવે છે', 4213), ('છે જે', 4182), ('કરે છે', 4140)]\n",
            "Bigram Syllables freq [('અ ને', 156377), ('ક ર', 98216), ('મા ટે', 83965), ('ર વા', 72806), ('એ ક', 68544), ('પ ર', 66756), ('પ ણ', 59242), ('વા મા', 57603), ('ક રી', 56344), ('કા ર', 48020), ('સા થે', 45704), ('તે મ', 42872), ('ત મા', 40429), ('સ મ', 33564), ('હ તી', 32933), ('ન થી', 32356), ('સ ર', 31732), ('ઉ પ', 29628), ('આ વે', 28206), ('ત મે', 26152)]\n",
            "Bigram Character freq [('ર્ અ', 933782), ('અ ર્', 856288), ('અ ન્', 740690), ('ક્ અ', 628714), ('મ્ આ', 578634), ('આ ર્', 436837), ('પ્ અ', 419131), ('મ્ અ', 410518), ('અ મ્', 405502), ('સ્ અ', 404345), ('વ્ આ', 403416), ('ન્ અ', 383007), ('ન્ એ', 374190), ('અ ત્', 357387), ('અ વ્', 352507), ('ત્ અ', 347306), ('ન્ આ', 338880), ('છ્ એ', 322609), ('વ્ અ', 322164), ('ય્ અ', 280835)]\n"
          ]
        }
      ],
      "source": [
        "# WHITE SPACE TOKENIZER\n",
        "\n",
        "from nltk.tokenize import WhitespaceTokenizer\n",
        "\n",
        "tk = WhitespaceTokenizer()\n",
        "\n",
        "\n",
        "print('*** White space tokenizer ***')\n",
        "with open('gu_100.txt' , 'r', encoding='utf-8') as file:\n",
        "    text = file.read()\n",
        "ws_token = tk.tokenize(text)\n",
        "\n",
        "\n",
        "ws_freq =  []\n",
        "for token in ws_token:\n",
        "  if token !='' and token not in punctuation :\n",
        "    if token.startswith('▁'):\n",
        "      ws_freq.append(token[1:])\n",
        "    else:\n",
        "        ws_freq.append(token)\n",
        "\n",
        "ws_freq_count = {}\n",
        "i=0\n",
        "\n",
        "while i < len(ws_token):\n",
        "        ch = ws_token[i]\n",
        "        ws_freq_count[ch] = ws_freq_count.get(ch, 0) + 1\n",
        "        i=i+1\n",
        "\n",
        "ws_freq_count_sort = [(token, count) for token, count in ws_freq_count.items()]\n",
        "ws_freq_count_sort.sort(key=lambda x: x[1], reverse=True)\n",
        "print(\"Unigram tokens freq\",ws_freq_count_sort[:20])\n",
        "\n",
        "# Bigram tokens\n",
        "list_of_ws_bigram_tokens = bigram_token(ws_freq)\n",
        "# print(\"Bigram tokens\",list_of_ws_bigram_tokens[:20])\n",
        "\n",
        "# Bigram tokens frequency\n",
        "list_of_ws_bigram_tokens_freq = bigram_token_frequency(list_of_ws_bigram_tokens)\n",
        "print(\"Bigram tokens freq\",list_of_ws_bigram_tokens_freq[:20])\n",
        "\n",
        "# Bigram Syllables Frequency\n",
        "list_of_ws_bigram_syllable_freq = bigram_syllable(ws_freq)\n",
        "print(\"Bigram Syllables freq\",list_of_ws_bigram_syllable_freq[:20])\n",
        "\n",
        "# Bigram Character Frequency\n",
        "list_of_ws_chars_freq = bigram_char(ws_freq)\n",
        "print(\"Bigram Character freq\",list_of_ws_chars_freq[:20])"
      ]
    },
    {
      "cell_type": "code",
      "execution_count": null,
      "id": "x67xYzDXzZ-9",
      "metadata": {
        "colab": {
          "base_uri": "https://localhost:8080/"
        },
        "id": "x67xYzDXzZ-9",
        "outputId": "bdb9a87e-d242-4d8d-84df-ee56a76dbbf2"
      },
      "outputs": [
        {
          "name": "stdout",
          "output_type": "stream",
          "text": [
            "*** White space tokenizer ***\n",
            "[['સુપ્રીમ', 'કોર્ટે', 'પોતાના', 'ચૂકાદામાં', 'બદલાવ', 'કરતા', 'કહ્યું', 'કે', 'રાજ્ય', 'સરકાર', 'ફડાકડા', 'ફોડવા', 'માટેનો', 'સમય', 'નક્કી', 'કરી', 'શકે', 'છે.'], ['સુનિલે', 'લખ્યું', 'છે', 'કે'], ['અર્થાત્\\u200dભગવાન', 'શ્રીકૃષ્ણ', 'પુરુષોત્તમનો', 'અવતાર', 'છે.'], ['સુરત', 'કલેક્ટર', 'કચેરીના', 'સુત્રોના', 'જણાવ્યા', 'પ્રમાણે', 'હાલની', 'સ્થિતિમાં', 'મહા', 'વાવાઝોડું', 'દીવ'], ['કળવા', 'પણ', 'ન', 'દે', 'ત્રીજાને', 'કે', 'તેણે', 'જે', 'ઉધારી', 'કરી', 'છે', 'એની', 'તેને', 'ખબર', 'છે.'], ['જો', 'ઘરમાં', 'ઉધઇ', 'થઇ', 'જાય', 'તો', 'તે', 'મોંઘામાં', 'ફર્નીચરને', 'પણ', 'ચપટીમાં', 'બરબાદ', 'કરી', 'દે', 'છે.', 'એવામાં', 'તેનાથી', 'છૂટકારો', 'મેળવવો', 'મુશ્કેલ…'], ['પ્રદેશ', 'ઇન્સ્યુલેટર', 'છે.'], ['સ્ટાઇલિશ', 'બ્લાઉઝ', '2018'], ['માર્કેટ', 'વેલ્યુની', 'દ્રષ્ટિએ', 'કોટક', 'મહિન્દ્રા', 'બેંક', 'એચડીએફસી', 'બાદ', 'બીજા', 'નંબરની.', 'SBIએ', 'એફડીના', 'વ્યાજ', 'દરમાં', '0.25', 'ટકા', 'સુધીનો.'], ['શ્રેષ્ઠવાર', 'ગુરુવાર', 'છે.'], ['કેટલાક', 'સ્ટારબક્સ', 'સ્ટોર્સ', 'ઇવોલ્યુશન', 'બ્રાન્ડ', 'નાસ્તાઓ', 'પણ', 'વહન', 'કરે', 'છે.'], ['1', 'લી', 'અને', '4', 'થી', 'બેડરૂમ', 'માં', 'ડબલ', 'બેડ', 'બે', 'એક', 'લીધું', 'છે.'], ['પરંતુ', 'એ', 'પછી', 'થોડા', 'સમયમાં', 'તેમના', 'અવસાન', 'સાથે', 'રાજકારણ', 'અને', 'રચનાત્મક', 'કાર્ય', 'વચ્ચેની', 'કડી', 'કાયમ', 'માટે', 'તૂટી', 'ગઈ', 'જે', 'આજ', 'સુધી', 'સધાઈ', 'નથી.'], ['૧૦૦', 'ઉઘરાવી', 'રહ્યાં', 'છે.'], ['‘પતિ', 'પત્ની', 'ઓર', 'વોહ’માં', 'ભૂમિ', 'કાર્તિકની', 'પત્ની', 'બની', 'છે', 'જ્યારે', 'અનન્યા', 'તેની', 'ગર્લફ્રેન્ડના', 'રોલમાં', 'જોવા', 'મળી', 'રહી', 'છે.'], ['આ', 'કિસ્સાઓમાં', 'એન્ટિબાયોટિક્સ', 'સાથે', 'સારવાર', 'જરૂર', 'છે.'], ['જો', 'શૌચાલય', 'ભૂમિતિ', 'ખેંચાતું'], ['સતાર', 'મોરી', '(સાવરકુંડલા)'], ['આંતરડાના', 'અવરોધના', 'માત્ર', 'ત્રણ', 'સ્વરૂપો', 'છે:'], ['સૌરાષ્ટ્રમાં', 'રાજકોટ'], ['સમૂહગીત', 'સૂચવે', 'છે', 'કે', 'તે', 'સોથોસઅર', 'ટાયર્સિયસને', 'ફોન', 'કરે', 'છે.'], ['આવી', 'ઘટનામાં', 'છેતરપિંડી', 'કરનાર', 'વ્યક્તિ', 'મોટે', 'ભાગે', 'પરિચિત', 'અથવા', 'તો', 'સંબંધી', 'હોય', 'છે', 'એ', 'વાત', 'વધારે', 'આઘાતજનક', 'હોય', 'છે.'], ['મોટાભાગના', 'વિપક્ષી', 'દળોએ', '23', 'મે', 'બાદ', 'બેઠક', 'માટે', 'સંમતિ', 'દર્શાવી', 'છે.'], ['જયારે', 'સાયલા', 'નજીક', 'આવેલા', 'હરણીયા', 'ગામના', 'વનરાજભાઇ', 'અમરાભાઇ', 'ખાચરની', 'વાડીમાં', 'ઘોડીપાસાનો', 'જુગાર', 'રમાતો', 'હોવાની', 'બાતમીના', 'આધારે', 'આરઆર', 'સેલના', 'સ્ટાફે', 'દરોડો', 'પાડી', 'જુગાર', 'રમતા', 'રાજકોટ', 'મેહુલનગરના', 'મનદીપ', 'હસમુખ', 'વેકરીયા'], ['એન્ટિક્રાઇસ્ટ', 'આજે', 'જીવંત', 'છે?']]\n"
          ]
        }
      ],
      "source": [
        "# WHITE SPACE TOKENIZER for Question 3\n",
        "\n",
        "from nltk.tokenize import WhitespaceTokenizer\n",
        "\n",
        "tk = WhitespaceTokenizer()\n",
        "\n",
        "print('*** White space tokenizer ***')\n",
        "\n",
        "punctuation = '''!()-[]{};:'\"\\, <>./?@#$%^&*_~'''\n",
        "\n",
        "list_of_ws_Q3 = []\n",
        "with open('Q3_questions.txt', \"r\", encoding=\"utf-8\") as file:\n",
        "    for line in file:\n",
        "        tokens = tk.tokenize(line.strip())\n",
        "        list_of_ws_Q3.append(tokens)\n",
        "\n",
        "# Storing Answer in form of list of list where inner list stores tokens for 1 sentences\n",
        "\n",
        "final_cleaned_tokens_ws_Q3=[]\n",
        "\n",
        "for tokens in list_of_ws_Q3:\n",
        "  cleaned_tokens_Q3=[]\n",
        "  for token in tokens:\n",
        "    if token !='' and token not in punctuation :\n",
        "      if token.startswith('▁'):\n",
        "        cleaned_tokens_Q3.append(token[1:])\n",
        "      else:\n",
        "          cleaned_tokens_Q3.append(token)\n",
        "  final_cleaned_tokens_ws_Q3.append(cleaned_tokens_Q3)\n",
        "print(final_cleaned_tokens_ws_Q3)\n"
      ]
    },
    {
      "cell_type": "code",
      "execution_count": null,
      "id": "HbmTG5G6GvA2",
      "metadata": {
        "id": "HbmTG5G6GvA2"
      },
      "outputs": [],
      "source": [
        "# m-BERT for max_length = 1k\n",
        "\n",
        "from transformers import BertTokenizer, BertModel\n",
        "\n",
        "# Load pre-trained tokenizer\n",
        "tokenizer = BertTokenizer.from_pretrained('bert-base-multilingual-cased',max_len = 1000)\n",
        "\n",
        "print('*** m-Bert tokenizer ***')\n",
        "with open('gu_100.txt', 'r', encoding='utf-8') as file:\n",
        "    text_1k = file.read()\n",
        "tokens_1k = tokenizer.tokenize(text_1k)\n",
        "print(tokens_1k[:200])"
      ]
    },
    {
      "cell_type": "code",
      "execution_count": null,
      "id": "ffduJpeTIlKJ",
      "metadata": {
        "colab": {
          "base_uri": "https://localhost:8080/"
        },
        "id": "ffduJpeTIlKJ",
        "outputId": "50e20f13-d589-4ec0-cfe0-f9310d28e1e7"
      },
      "outputs": [
        {
          "name": "stdout",
          "output_type": "stream",
          "text": [
            "Unigram tokens freq [('ર', 726633), ('સ', 704144), ('મ', 683027), ('ક', 649642), ('પ', 624156), ('ા', 597880), ('ો', 580944), ('ે', 498472), ('િ', 455953), ('વ', 442840), ('ન', 440317), ('જ', 423183), ('લ', 383647), ('ી', 333884), ('ત', 333560), ('બ', 322287), ('છે', 321025), ('દ', 307605), ('્', 294539), ('હ', 286944)]\n",
            "Bigram tokens freq [('પ ્ર', 109266), ('વ િ', 95872), ('મ ે', 87313), ('ત મ', 68850), ('ર ્', 54493), ('સ ં', 51370), ('સ મ', 50013), ('સ ્', 49783), ('પ ો', 49127), ('ક ્', 47070), ('્ થ', 46468), ('ન િ', 44957), ('ક ર', 44652), ('જ ો', 44371), ('ર ા', 42642), ('મ ો', 42427), ('સ ર', 41470), ('પ ા', 41361), ('ા જ', 40151), ('મ ા', 38873)]\n",
            "Bigram Syllables freq [('અ ને', 156298), ('પ ર', 99945), ('મા ટે', 83902), ('એ ક', 76282), ('ક ર', 67544), ('વા મા', 55350), ('ર વા', 55337), ('પ ણ', 53867), ('ક રી', 50986), ('તે મ', 47219), ('કા ર', 45828), ('સા થે', 45217), ('હ તી', 32761), ('ન થી', 30447), ('વા ર', 28982), ('આ વે', 28186), ('ર ણ', 24979), ('હ તા', 23380), ('હો ય', 22624), ('હ તો', 21947)]\n",
            "Bigram Character freq [('ર્ અ', 1591758), ('ક્ અ', 1030111), ('મ્ અ', 869185), ('સ્ અ', 852688), ('પ્ અ', 810256), ('ન્ અ', 628773), ('વ્ અ', 594341), ('ત્ અ', 590295), ('જ્ અ', 434663), ('લ્ અ', 423574), ('મ્ આ', 413067), ('ટ્ અ', 400094), ('ય્ અ', 398812), ('ગ્ અ', 384654), ('હ્ અ', 384602), ('અ ર્', 367383), ('ન્ એ', 361896), ('વ્ આ', 345026), ('બ્ અ', 337054), ('દ્ અ', 325436)]\n"
          ]
        }
      ],
      "source": [
        "# m-BERT for max_length = 1k\n",
        "\n",
        "mb_1k=[]\n",
        "for token in tokens_1k:\n",
        "  temp=''\n",
        "  for char in token:\n",
        "    if (char == '#'):\n",
        "      continue\n",
        "    temp = temp + char\n",
        "  mb_1k.append(temp)\n",
        "\n",
        "mb_freq_1k =  []\n",
        "for token in mb_1k:\n",
        "  if token !='' and token not in punctuation :\n",
        "    if token.startswith('▁'):\n",
        "      mb_freq_1k.append(token[1:])\n",
        "    else:\n",
        "        mb_freq_1k.append(token)\n",
        "\n",
        "\n",
        "mb_freq_count_1k = {}\n",
        "i=0\n",
        "\n",
        "while i < len(mb_freq_1k):\n",
        "        ch = mb_freq_1k[i]\n",
        "        mb_freq_count_1k[ch] = mb_freq_count_1k.get(ch, 0) + 1\n",
        "        i=i+1\n",
        "\n",
        "mb_freq_count_sort_1k = [(token, count) for token, count in mb_freq_count_1k.items()]\n",
        "mb_freq_count_sort_1k.sort(key=lambda x: x[1], reverse=True)\n",
        "print(\"Unigram tokens freq\",mb_freq_count_sort_1k[:20])\n",
        "\n",
        "# Bigram tokens\n",
        "list_of_mbert_bigram_tokens_1k = bigram_token(mb_freq_1k)\n",
        "# print(\"Bigram tokens\",list_of_mbert_bigram_tokens_1k[:20])\n",
        "\n",
        "# Bigram tokens frequency\n",
        "list_of_mbert_bigram_tokens_freq_1k = bigram_token_frequency(list_of_mbert_bigram_tokens_1k)\n",
        "print(\"Bigram tokens freq\",list_of_mbert_bigram_tokens_freq_1k[:20])\n",
        "\n",
        "# Bigram Syllables Frequency\n",
        "list_of_mbert_bigram_syllable_freq_1k = bigram_syllable(mb_freq_1k)\n",
        "print(\"Bigram Syllables freq\",list_of_mbert_bigram_syllable_freq_1k[:20])\n",
        "\n",
        "# Bigram Character Frequency\n",
        "list_of_mbert_chars_freq_1k = bigram_char(mb_freq_1k)\n",
        "print(\"Bigram Character freq\",list_of_mbert_chars_freq_1k[:20])"
      ]
    },
    {
      "cell_type": "code",
      "execution_count": null,
      "id": "GLa5gifFI4WT",
      "metadata": {
        "colab": {
          "base_uri": "https://localhost:8080/"
        },
        "id": "GLa5gifFI4WT",
        "outputId": "a90c7885-fe57-4916-8e76-815c039dd029"
      },
      "outputs": [
        {
          "name": "stdout",
          "output_type": "stream",
          "text": [
            "*** m-Bert tokenizer ***\n",
            "[['સ', '##ુ', '##પ', '##્રી', '##મ', 'ક', '##ો', '##ર', '##્ટ', '##ે', 'પ', '##ો', '##તા', '##ના', 'ચ', '##ૂ', '##કા', '##દા', '##માં', 'બ', '##દ', '##લા', '##વ', 'કરતા', 'ક', '##હ', '##્યું', 'કે', 'ર', '##ા', '##જ', '##્ય', 'સ', '##ર', '##કાર', 'ફ', '##ડા', '##ક', '##ડા', 'ફ', '##ો', '##ડ', '##વા', 'માટે', '##નો', 'સ', '##મ', '##ય', 'ન', '##ક', '##્ક', '##ી', 'કરી', 'શકે', 'છે', '.'], ['સ', '##ુ', '##ન', '##િ', '##લે', 'લ', '##ખ', '##્યું', 'છે', 'કે'], ['અ', '##ર', '##્', '##થ', '##ાત', '##્', '##ભ', '##ગ', '##વા', '##ન', 'શ', '##્રી', '##ક', '##ૃ', '##ષ', '##્ણ', 'પ', '##ુ', '##ર', '##ુ', '##ષ', '##ો', '##ત', '##્ત', '##મ', '##નો', 'અ', '##વતા', '##ર', 'છે', '.'], ['સ', '##ુ', '##ર', '##ત', 'ક', '##લે', '##ક', '##્ટ', '##ર', 'ક', '##ચ', '##ે', '##રી', '##ના', 'સ', '##ુ', '##ત', '##્ર', '##ો', '##ના', 'જ', '##ણા', '##વ', '##્યા', 'પ', '##્ર', '##મ', '##ાણ', '##ે', 'હ', '##ા', '##લ', '##ની', 'સ', '##્', '##થ', '##િત', '##િ', '##માં', 'મ', '##હ', '##ા', 'વ', '##ા', '##વા', '##ઝ', '##ો', '##ડ', '##ું', 'દ', '##ી', '##વ'], ['ક', '##ળ', '##વા', 'પણ', 'ન', 'દ', '##ે', 'ત', '##્રી', '##જા', '##ને', 'કે', 'તે', '##ણે', 'જે', 'ઉ', '##ધ', '##ારી', 'કરી', 'છે', 'એ', '##ની', 'તેને', 'ખ', '##બર', 'છે', '.'], ['જ', '##ો', 'ઘ', '##ર', '##માં', 'ઉ', '##ધ', '##ઇ', 'થ', '##ઇ', 'જ', '##ાય', 'તો', 'તે', 'મ', '##ો', '##ં', '##ઘ', '##ામાં', 'ફ', '##ર', '##્ન', '##ી', '##ચ', '##ર', '##ને', 'પણ', 'ચ', '##પ', '##ટી', '##માં', 'બ', '##ર', '##બ', '##ા', '##દ', 'કરી', 'દ', '##ે', 'છે', '.', 'એવા', '##માં', 'તેના', '##થી', 'છ', '##ૂ', '##ટ', '##કાર', '##ો', 'મ', '##ે', '##ળ', '##વ', '##વો', 'મ', '##ુ', '##શ', '##્ક', '##ેલ', '[UNK]'], ['પ', '##્ર', '##દ', '##ેશ', 'ઇ', '##ન', '##્સ', '##્ય', '##ુ', '##લે', '##ટર', 'છે', '.'], ['સ', '##્ટ', '##ા', '##ઇ', '##લ', '##િ', '##શ', 'બ', '##્', '##લા', '##ઉ', '##ઝ', '2018'], ['મ', '##ાર', '##્ક', '##ે', '##ટ', 'વ', '##ેલ', '##્ય', '##ુ', '##ની', 'દ', '##્ર', '##ષ', '##્ટ', '##િ', '##એ', 'ક', '##ો', '##ટ', '##ક', 'મ', '##હ', '##િ', '##ન', '##્', '##દ', '##્ર', '##ા', 'બે', '##ં', '##ક', 'એ', '##ચ', '##ડી', '##એ', '##ફ', '##સી', 'બાદ', 'બ', '##ી', '##જા', 'ન', '##ં', '##બર', '##ની', '.', '.', '.', 'SB', '##I', '##એ', 'એ', '##ફ', '##ડી', '##ના', 'વ', '##્યા', '##જ', 'દ', '##ર', '##માં', '0', '.', '25', 'ટ', '##કા', 'સુધી', '##નો', '.'], ['શ', '##્ર', '##ે', '##ષ', '##્', '##ઠ', '##વાર', 'ગ', '##ુ', '##ર', '##ુ', '##વાર', 'છે', '.'], ['કેટલાક', 'સ', '##્ટ', '##ાર', '##બ', '##ક', '##્સ', 'સ', '##્ટ', '##ો', '##ર', '##્સ', 'ઇ', '##વો', '##લ', '##્ય', '##ુ', '##શન', 'બ', '##્ર', '##ાન', '##્ડ', 'ના', '##સ', '##્ત', '##ા', '##ઓ', 'પણ', 'વ', '##હ', '##ન', 'કરે', 'છે', '.'], ['1', 'લ', '##ી', 'અને', '4', 'થી', 'બે', '##ડ', '##ર', '##ૂ', '##મ', 'માં', 'ડ', '##બ', '##લ', 'બે', '##ડ', 'બે', 'એક', 'લ', '##ી', '##ધ', '##ું', 'છે', '.'], ['પરંતુ', 'એ', 'પછી', 'થ', '##ો', '##ડા', 'સ', '##મ', '##ય', '##માં', 'તેમના', 'અ', '##વ', '##સ', '##ાન', 'સાથે', 'ર', '##ા', '##જ', '##કાર', '##ણ', 'અને', 'ર', '##ચ', '##ના', '##ત', '##્મ', '##ક', 'ક', '##ાર', '##્ય', 'વ', '##ચ', '##્ચ', '##ે', '##ની', 'ક', '##ડી', 'ક', '##ાય', '##મ', 'માટે', 'ત', '##ૂ', '##ટી', 'ગ', '##ઈ', 'જે', 'આ', '##જ', 'સુધી', 'સ', '##ધ', '##ા', '##ઈ', 'નથી', '.'], ['૧', '##૦', '##૦', 'ઉ', '##ઘ', '##રા', '##વી', 'ર', '##હ', '##્યાં', 'છે', '.'], ['[UNK]', 'પ', '##તિ', 'પ', '##ત', '##્ન', '##ી', 'ઓ', '##ર', 'વ', '##ો', '##હ', '[UNK]', 'માં', 'ભ', '##ૂ', '##મ', '##િ', 'ક', '##ાર', '##્તિ', '##ક', '##ની', 'પ', '##ત', '##્ન', '##ી', 'બ', '##ની', 'છે', 'જ્યારે', 'અ', '##ન', '##ન', '##્યા', 'તેની', 'ગ', '##ર', '##્', '##લ', '##ફ', '##્ર', '##ે', '##ન', '##્ડ', '##ના', 'ર', '##ો', '##લ', '##માં', 'જ', '##ોવા', 'મ', '##ળી', 'ર', '##હી', 'છે', '.'], [')', '-', 'આ', 'ક', '##િ', '##સ', '##્સ', '##ા', '##ઓ', '##માં', 'એ', '##ન્ટ', '##િ', '##બ', '##ાય', '##ો', '##ટ', '##િક', '##્સ', 'સાથે', 'સ', '##ાર', '##વાર', 'જ', '##ર', '##ૂર', 'છે', '.'], ['જ', '##ો', 'શ', '##ૌ', '##ચ', '##ા', '##લ', '##ય', 'ભ', '##ૂ', '##મ', '##િત', '##િ', 'ખ', '##ે', '##ં', '##ચ', '##ાત', '##ું'], ['સ', '##તા', '##ર', 'મ', '##ો', '##રી', '(', 'સ', '##ા', '##વર', '##ક', '##ું', '##ડ', '##લા', ')'], ['આ', '##ંત', '##ર', '##ડા', '##ના', 'અ', '##વર', '##ો', '##ધ', '##ના', 'મ', '##ાત્ર', 'ત', '##્રણ', 'સ', '##્વ', '##ર', '##ૂ', '##પ', '##ો', 'છે', ':'], ['સૌરાષ્ટ્ર', '##માં', 'ર', '##ા', '##જ', '##કો', '##ટ'], ['સ', '##મ', '##ૂ', '##હ', '##ગ', '##ી', '##ત', 'સ', '##ૂ', '##ચ', '##વે', 'છે', 'કે', 'તે', 'સ', '##ો', '##થ', '##ો', '##સ', '##અ', '##ર', 'ટ', '##ાય', '##ર', '##્સ', '##િ', '##ય', '##સ', '##ને', 'ફ', '##ો', '##ન', 'કરે', 'છે', '.'], ['આવી', 'ઘ', '##ટ', '##ના', '##માં', 'છે', '##ત', '##ર', '##પ', '##િ', '##ં', '##ડી', 'ક', '##ર', '##ના', '##ર', 'વ', '##્ય', '##ક', '##્તિ', 'મ', '##ો', '##ટ', '##ે', 'ભ', '##ાગ', '##ે', 'પર', '##િ', '##ચ', '##િત', 'અથવા', 'તો', 'સ', '##ં', '##બ', '##ં', '##ધી', 'હોય', 'છે', 'એ', 'વ', '##ાત', 'વ', '##ધ', '##ારે', 'આ', '##ઘ', '##ાત', '##જ', '##ન', '##ક', 'હોય', 'છે', '.'], ['મોટા', '##ભ', '##ાગ', '##ના', 'વ', '##િ', '##પ', '##ક', '##્', '##ષ', '##ી', 'દ', '##ળ', '##ો', '##એ', '23', 'મ', '##ે', 'બાદ', 'બે', '##ઠ', '##ક', 'માટે', 'સ', '##ં', '##મ', '##તિ', 'દ', '##ર', '##્', '##શ', '##ા', '##વી', 'છે', '.'], ['જ', '##યા', '##રે', 'સ', '##ાય', '##લા', 'ન', '##જી', '##ક', 'આવેલા', 'હ', '##રણ', '##ી', '##યા', 'ગામના', 'વ', '##ન', '##રા', '##જ', '##ભ', '##ા', '##ઇ', 'અ', '##મ', '##રા', '##ભ', '##ા', '##ઇ', 'ખ', '##ા', '##ચ', '##ર', '##ની', 'વ', '##ા', '##ડી', '##માં', 'ઘ', '##ો', '##ડી', '##પ', '##ાસ', '##ાન', '##ો', 'જ', '##ુ', '##ગ', '##ાર', 'ર', '##મ', '##ાત', '##ો', 'હ', '##ોવા', '##ની', 'બ', '##ાત', '##મી', '##ના', 'આ', '##ધ', '##ારે', 'આ', '##ર', '##આ', '##ર', 'સ', '##ેલ', '##ના', 'સ', '##્ટ', '##ા', '##ફ', '##ે', 'દ', '##રો', '##ડ', '##ો', 'પ', '##ા', '##ડી', 'જ', '##ુ', '##ગ', '##ાર', 'ર', '##મ', '##તા', 'ર', '##ા', '##જ', '##કો', '##ટ', 'મ', '##ે', '##હ', '##ુ', '##લ', '##નગર', '##ના', 'મ', '##ન', '##દી', '##પ', 'હ', '##સ', '##મ', '##ુ', '##ખ', 'વ', '##ે', '##ક', '##રી', '##યા'], ['એ', '##ન્ટ', '##િક', '##્ર', '##ા', '##ઇ', '##સ્ટ', 'આ', '##જ', '##ે', 'જ', '##ી', '##વ', '##ંત', 'છે', '?']]\n"
          ]
        }
      ],
      "source": [
        "# m-BERT for max_length = 2k\n",
        "\n",
        "from transformers import BertTokenizer, BertModel\n",
        "\n",
        "# Load pre-trained tokenizer\n",
        "tokenizer = BertTokenizer.from_pretrained('bert-base-multilingual-cased',max_len = 2000)\n",
        "\n",
        "print('*** m-Bert tokenizer ***')\n",
        "with open('gu_100.txt', 'r', encoding='utf-8') as file:\n",
        "    text_2k = file.read()\n",
        "tokens_2k = tokenizer.tokenize(text_2k)\n",
        "\n",
        "list_of_mbert_Q3 = []\n",
        "with open('Q3_questions.txt', \"r\", encoding=\"utf-8\") as file:\n",
        "    for line in file:\n",
        "        tokens = tokenizer.tokenize(line.strip())\n",
        "        list_of_mbert_Q3.append(tokens)\n",
        "print(list_of_mbert_Q3[:100])\n"
      ]
    },
    {
      "cell_type": "code",
      "execution_count": null,
      "id": "PnKFwwWJTrrw",
      "metadata": {
        "colab": {
          "base_uri": "https://localhost:8080/",
          "height": 183,
          "referenced_widgets": [
            "371e8e4233a6415d8ff772e441a7a90d",
            "093f1941385240e3bc7c73885bd6acec",
            "04400636d7a44856a1d136695d4334aa",
            "82895d1e54b748c3ac330c5dc26889a4",
            "6c79959e88194a57aca68a0129efa790",
            "e1241a12a98f46058fbf6413178240ca",
            "e43aed80dd5349e7871fdf19e166010b",
            "2e94d67e8a8e496c81da646816c0c685",
            "df7972dfe833458b8a83895996f642eb",
            "c1ec3229aad3479cb11055f4e1c0bfef",
            "9e33abc5baa04c1c90e700222525a028",
            "211a3c96bd6a43d7b465db63e2767e91",
            "7383e41625034f5da6987fa02efd631e",
            "270a146589aa4a459100c1fbed648fa5",
            "2aa0e5a7151140baa31d25218179026c",
            "ab5485cc4e6d46159e1672710d487b17",
            "693b713f5fd24be78b5b6a9e683a3d74",
            "e2924a66be4e464cb03050c2cff1190a",
            "d89f6141b5174dff88ff28ce8e96e6a6",
            "4968c9d157b3470b9fd9e3b2ced26a77",
            "9823d573f3cf4ef69cb497c667efd694",
            "66a1565e238a4d07a70428f56efbc488",
            "04a87f99b32a422f9dfe4f4fe78c217c",
            "9c51fc01fe6e43afb0a16a79dbcec7f7",
            "80e1769369f04c12bff334caf6d764c9",
            "0f9feff285a441d59faf8a65d7bef96f",
            "f4749bc236a24ac99579106b22734bd5",
            "31f33035bd4549fbbca312fd92854e2e",
            "6cace41051614f30bafa066328c26425",
            "5d458f336d344653bc9f53f27005b0c9",
            "0af93d756bb24e3a871aa2a976464512",
            "aa452f5de5d8434883f2b6e897b71711",
            "e8b16e8932294623a4d5c68a3b1b5b4e",
            "0cac947cef3c4b16b2b9de52ae77e859",
            "9ad01d1f549240eab24cf0fa3d96f914",
            "1e7d3a4706da4d2187e8646111b960a5",
            "73750964811a46718455dec433039d75",
            "8935f0fc5fb64d38bb57ab0941736906",
            "385340f83b114b27ab5d45d6a8ded671",
            "61da01a937174cc3a138fdcac27a6f1b",
            "8b175e6740304ca898be38edc33aab9b",
            "c43095e8f44e400ba3cb77bd5e62aaf4",
            "76cc0f3dc24d422e8df61df6e1a39ffe",
            "8a9f2e13ad464586865358724106b3c8"
          ]
        },
        "id": "PnKFwwWJTrrw",
        "outputId": "3b1563cf-9b8c-47cf-ba6d-494bbcd923fd"
      },
      "outputs": [
        {
          "data": {
            "application/vnd.jupyter.widget-view+json": {
              "model_id": "371e8e4233a6415d8ff772e441a7a90d",
              "version_major": 2,
              "version_minor": 0
            },
            "text/plain": [
              "tokenizer_config.json:   0%|          | 0.00/29.0 [00:00<?, ?B/s]"
            ]
          },
          "metadata": {},
          "output_type": "display_data"
        },
        {
          "data": {
            "application/vnd.jupyter.widget-view+json": {
              "model_id": "211a3c96bd6a43d7b465db63e2767e91",
              "version_major": 2,
              "version_minor": 0
            },
            "text/plain": [
              "vocab.txt:   0%|          | 0.00/996k [00:00<?, ?B/s]"
            ]
          },
          "metadata": {},
          "output_type": "display_data"
        },
        {
          "data": {
            "application/vnd.jupyter.widget-view+json": {
              "model_id": "04a87f99b32a422f9dfe4f4fe78c217c",
              "version_major": 2,
              "version_minor": 0
            },
            "text/plain": [
              "tokenizer.json:   0%|          | 0.00/1.96M [00:00<?, ?B/s]"
            ]
          },
          "metadata": {},
          "output_type": "display_data"
        },
        {
          "data": {
            "application/vnd.jupyter.widget-view+json": {
              "model_id": "0cac947cef3c4b16b2b9de52ae77e859",
              "version_major": 2,
              "version_minor": 0
            },
            "text/plain": [
              "config.json:   0%|          | 0.00/625 [00:00<?, ?B/s]"
            ]
          },
          "metadata": {},
          "output_type": "display_data"
        },
        {
          "name": "stdout",
          "output_type": "stream",
          "text": [
            "[['સ', '##ુ', '##પ', '##્રી', '##મ', 'ક', '##ો', '##ર', '##્ટ', '##ે', 'પ', '##ો', '##તા', '##ના', 'ચ', '##ૂ', '##કા', '##દા', '##માં', 'બ', '##દ', '##લા', '##વ', 'કરતા', 'ક', '##હ', '##્યું', 'કે', 'ર', '##ા', '##જ', '##્ય', 'સ', '##ર', '##કાર', 'ફ', '##ડા', '##ક', '##ડા', 'ફ', '##ો', '##ડ', '##વા', 'માટે', '##નો', 'સ', '##મ', '##ય', 'ન', '##ક', '##્ક', '##ી', 'કરી', 'શકે', 'છે', '.'], ['સ', '##ુ', '##ન', '##િ', '##લે', 'લ', '##ખ', '##્યું', 'છે', 'કે'], ['અ', '##ર', '##્', '##થ', '##ાત', '##્', '##ભ', '##ગ', '##વા', '##ન', 'શ', '##્રી', '##ક', '##ૃ', '##ષ', '##્ણ', 'પ', '##ુ', '##ર', '##ુ', '##ષ', '##ો', '##ત', '##્ત', '##મ', '##નો', 'અ', '##વતા', '##ર', 'છે', '.'], ['સ', '##ુ', '##ર', '##ત', 'ક', '##લે', '##ક', '##્ટ', '##ર', 'ક', '##ચ', '##ે', '##રી', '##ના', 'સ', '##ુ', '##ત', '##્ર', '##ો', '##ના', 'જ', '##ણા', '##વ', '##્યા', 'પ', '##્ર', '##મ', '##ાણ', '##ે', 'હ', '##ા', '##લ', '##ની', 'સ', '##્', '##થ', '##િત', '##િ', '##માં', 'મ', '##હ', '##ા', 'વ', '##ા', '##વા', '##ઝ', '##ો', '##ડ', '##ું', 'દ', '##ી', '##વ'], ['ક', '##ળ', '##વા', 'પણ', 'ન', 'દ', '##ે', 'ત', '##્રી', '##જા', '##ને', 'કે', 'તે', '##ણે', 'જે', 'ઉ', '##ધ', '##ારી', 'કરી', 'છે', 'એ', '##ની', 'તેને', 'ખ', '##બર', 'છે', '.'], ['જ', '##ો', 'ઘ', '##ર', '##માં', 'ઉ', '##ધ', '##ઇ', 'થ', '##ઇ', 'જ', '##ાય', 'તો', 'તે', 'મ', '##ો', '##ં', '##ઘ', '##ામાં', 'ફ', '##ર', '##્ન', '##ી', '##ચ', '##ર', '##ને', 'પણ', 'ચ', '##પ', '##ટી', '##માં', 'બ', '##ર', '##બ', '##ા', '##દ', 'કરી', 'દ', '##ે', 'છે', '.', 'એવા', '##માં', 'તેના', '##થી', 'છ', '##ૂ', '##ટ', '##કાર', '##ો', 'મ', '##ે', '##ળ', '##વ', '##વો', 'મ', '##ુ', '##શ', '##્ક', '##ેલ', '[UNK]'], ['પ', '##્ર', '##દ', '##ેશ', 'ઇ', '##ન', '##્સ', '##્ય', '##ુ', '##લે', '##ટર', 'છે', '.'], ['સ', '##્ટ', '##ા', '##ઇ', '##લ', '##િ', '##શ', 'બ', '##્', '##લા', '##ઉ', '##ઝ', '2018'], ['મ', '##ાર', '##્ક', '##ે', '##ટ', 'વ', '##ેલ', '##્ય', '##ુ', '##ની', 'દ', '##્ર', '##ષ', '##્ટ', '##િ', '##એ', 'ક', '##ો', '##ટ', '##ક', 'મ', '##હ', '##િ', '##ન', '##્', '##દ', '##્ર', '##ા', 'બે', '##ં', '##ક', 'એ', '##ચ', '##ડી', '##એ', '##ફ', '##સી', 'બાદ', 'બ', '##ી', '##જા', 'ન', '##ં', '##બર', '##ની', '.', '.', '.', 'SB', '##I', '##એ', 'એ', '##ફ', '##ડી', '##ના', 'વ', '##્યા', '##જ', 'દ', '##ર', '##માં', '0', '.', '25', 'ટ', '##કા', 'સુધી', '##નો', '.'], ['શ', '##્ર', '##ે', '##ષ', '##્', '##ઠ', '##વાર', 'ગ', '##ુ', '##ર', '##ુ', '##વાર', 'છે', '.'], ['કેટલાક', 'સ', '##્ટ', '##ાર', '##બ', '##ક', '##્સ', 'સ', '##્ટ', '##ો', '##ર', '##્સ', 'ઇ', '##વો', '##લ', '##્ય', '##ુ', '##શન', 'બ', '##્ર', '##ાન', '##્ડ', 'ના', '##સ', '##્ત', '##ા', '##ઓ', 'પણ', 'વ', '##હ', '##ન', 'કરે', 'છે', '.'], ['1', 'લ', '##ી', 'અને', '4', 'થી', 'બે', '##ડ', '##ર', '##ૂ', '##મ', 'માં', 'ડ', '##બ', '##લ', 'બે', '##ડ', 'બે', 'એક', 'લ', '##ી', '##ધ', '##ું', 'છે', '.'], ['પરંતુ', 'એ', 'પછી', 'થ', '##ો', '##ડા', 'સ', '##મ', '##ય', '##માં', 'તેમના', 'અ', '##વ', '##સ', '##ાન', 'સાથે', 'ર', '##ા', '##જ', '##કાર', '##ણ', 'અને', 'ર', '##ચ', '##ના', '##ત', '##્મ', '##ક', 'ક', '##ાર', '##્ય', 'વ', '##ચ', '##્ચ', '##ે', '##ની', 'ક', '##ડી', 'ક', '##ાય', '##મ', 'માટે', 'ત', '##ૂ', '##ટી', 'ગ', '##ઈ', 'જે', 'આ', '##જ', 'સુધી', 'સ', '##ધ', '##ા', '##ઈ', 'નથી', '.'], ['૧', '##૦', '##૦', 'ઉ', '##ઘ', '##રા', '##વી', 'ર', '##હ', '##્યાં', 'છે', '.'], ['[UNK]', 'પ', '##તિ', 'પ', '##ત', '##્ન', '##ી', 'ઓ', '##ર', 'વ', '##ો', '##હ', '[UNK]', 'માં', 'ભ', '##ૂ', '##મ', '##િ', 'ક', '##ાર', '##્તિ', '##ક', '##ની', 'પ', '##ત', '##્ન', '##ી', 'બ', '##ની', 'છે', 'જ્યારે', 'અ', '##ન', '##ન', '##્યા', 'તેની', 'ગ', '##ર', '##્', '##લ', '##ફ', '##્ર', '##ે', '##ન', '##્ડ', '##ના', 'ર', '##ો', '##લ', '##માં', 'જ', '##ોવા', 'મ', '##ળી', 'ર', '##હી', 'છે', '.'], [')', '-', 'આ', 'ક', '##િ', '##સ', '##્સ', '##ા', '##ઓ', '##માં', 'એ', '##ન્ટ', '##િ', '##બ', '##ાય', '##ો', '##ટ', '##િક', '##્સ', 'સાથે', 'સ', '##ાર', '##વાર', 'જ', '##ર', '##ૂર', 'છે', '.'], ['જ', '##ો', 'શ', '##ૌ', '##ચ', '##ા', '##લ', '##ય', 'ભ', '##ૂ', '##મ', '##િત', '##િ', 'ખ', '##ે', '##ં', '##ચ', '##ાત', '##ું'], ['સ', '##તા', '##ર', 'મ', '##ો', '##રી', '(', 'સ', '##ા', '##વર', '##ક', '##ું', '##ડ', '##લા', ')'], ['આ', '##ંત', '##ર', '##ડા', '##ના', 'અ', '##વર', '##ો', '##ધ', '##ના', 'મ', '##ાત્ર', 'ત', '##્રણ', 'સ', '##્વ', '##ર', '##ૂ', '##પ', '##ો', 'છે', ':'], ['સૌરાષ્ટ્ર', '##માં', 'ર', '##ા', '##જ', '##કો', '##ટ'], ['સ', '##મ', '##ૂ', '##હ', '##ગ', '##ી', '##ત', 'સ', '##ૂ', '##ચ', '##વે', 'છે', 'કે', 'તે', 'સ', '##ો', '##થ', '##ો', '##સ', '##અ', '##ર', 'ટ', '##ાય', '##ર', '##્સ', '##િ', '##ય', '##સ', '##ને', 'ફ', '##ો', '##ન', 'કરે', 'છે', '.'], ['આવી', 'ઘ', '##ટ', '##ના', '##માં', 'છે', '##ત', '##ર', '##પ', '##િ', '##ં', '##ડી', 'ક', '##ર', '##ના', '##ર', 'વ', '##્ય', '##ક', '##્તિ', 'મ', '##ો', '##ટ', '##ે', 'ભ', '##ાગ', '##ે', 'પર', '##િ', '##ચ', '##િત', 'અથવા', 'તો', 'સ', '##ં', '##બ', '##ં', '##ધી', 'હોય', 'છે', 'એ', 'વ', '##ાત', 'વ', '##ધ', '##ારે', 'આ', '##ઘ', '##ાત', '##જ', '##ન', '##ક', 'હોય', 'છે', '.'], ['મોટા', '##ભ', '##ાગ', '##ના', 'વ', '##િ', '##પ', '##ક', '##્', '##ષ', '##ી', 'દ', '##ળ', '##ો', '##એ', '23', 'મ', '##ે', 'બાદ', 'બે', '##ઠ', '##ક', 'માટે', 'સ', '##ં', '##મ', '##તિ', 'દ', '##ર', '##્', '##શ', '##ા', '##વી', 'છે', '.'], ['જ', '##યા', '##રે', 'સ', '##ાય', '##લા', 'ન', '##જી', '##ક', 'આવેલા', 'હ', '##રણ', '##ી', '##યા', 'ગામના', 'વ', '##ન', '##રા', '##જ', '##ભ', '##ા', '##ઇ', 'અ', '##મ', '##રા', '##ભ', '##ા', '##ઇ', 'ખ', '##ા', '##ચ', '##ર', '##ની', 'વ', '##ા', '##ડી', '##માં', 'ઘ', '##ો', '##ડી', '##પ', '##ાસ', '##ાન', '##ો', 'જ', '##ુ', '##ગ', '##ાર', 'ર', '##મ', '##ાત', '##ો', 'હ', '##ોવા', '##ની', 'બ', '##ાત', '##મી', '##ના', 'આ', '##ધ', '##ારે', 'આ', '##ર', '##આ', '##ર', 'સ', '##ેલ', '##ના', 'સ', '##્ટ', '##ા', '##ફ', '##ે', 'દ', '##રો', '##ડ', '##ો', 'પ', '##ા', '##ડી', 'જ', '##ુ', '##ગ', '##ાર', 'ર', '##મ', '##તા', 'ર', '##ા', '##જ', '##કો', '##ટ', 'મ', '##ે', '##હ', '##ુ', '##લ', '##નગર', '##ના', 'મ', '##ન', '##દી', '##પ', 'હ', '##સ', '##મ', '##ુ', '##ખ', 'વ', '##ે', '##ક', '##રી', '##યા'], ['એ', '##ન્ટ', '##િક', '##્ર', '##ા', '##ઇ', '##સ્ટ', 'આ', '##જ', '##ે', 'જ', '##ી', '##વ', '##ંત', 'છે', '?']]\n"
          ]
        }
      ],
      "source": [
        "from transformers import BertTokenizer, BertModel\n",
        "\n",
        "# Load pre-trained tokenizer\n",
        "tokenizer = BertTokenizer.from_pretrained('bert-base-multilingual-cased',max_len = 2000)\n",
        "\n",
        "list_of_mbert_Q3 = []\n",
        "with open('Q3_questions.txt', \"r\", encoding=\"utf-8\") as file:\n",
        "    for line in file:\n",
        "        tokens = tokenizer.tokenize(line.strip())\n",
        "        list_of_mbert_Q3.append(tokens)\n",
        "print(list_of_mbert_Q3[:100])"
      ]
    },
    {
      "cell_type": "code",
      "execution_count": null,
      "id": "AbVgm5n2LChx",
      "metadata": {
        "colab": {
          "base_uri": "https://localhost:8080/"
        },
        "id": "AbVgm5n2LChx",
        "outputId": "46fae082-eb6a-4786-a4ce-ebd398c036d3"
      },
      "outputs": [
        {
          "name": "stdout",
          "output_type": "stream",
          "text": [
            "Unigram tokens freq [('ર', 726633), ('સ', 704144), ('મ', 683027), ('ક', 649642), ('પ', 624156), ('ા', 597880), ('ો', 580944), ('ે', 498472), ('િ', 455953), ('વ', 442840), ('ન', 440317), ('જ', 423183), ('લ', 383647), ('ી', 333884), ('ત', 333560), ('બ', 322287), ('છે', 321025), ('દ', 307605), ('્', 294539), ('હ', 286944)]\n",
            "Bigram tokens freq [('પ ્ર', 109266), ('વ િ', 95872), ('મ ે', 87313), ('ત મ', 68850), ('ર ્', 54493), ('સ ં', 51370), ('સ મ', 50013), ('સ ્', 49783), ('પ ો', 49127), ('ક ્', 47070), ('્ થ', 46468), ('ન િ', 44957), ('ક ર', 44652), ('જ ો', 44371), ('ર ા', 42642), ('મ ો', 42427), ('સ ર', 41470), ('પ ા', 41361), ('ા જ', 40151), ('મ ા', 38873)]\n",
            "Bigram Syllables freq [('અ ને', 156298), ('પ ર', 99945), ('મા ટે', 83902), ('એ ક', 76282), ('ક ર', 67544), ('વા મા', 55350), ('ર વા', 55337), ('પ ણ', 53867), ('ક રી', 50986), ('તે મ', 47219), ('કા ર', 45828), ('સા થે', 45217), ('હ તી', 32761), ('ન થી', 30447), ('વા ર', 28982), ('આ વે', 28186), ('ર ણ', 24979), ('હ તા', 23380), ('હો ય', 22624), ('હ તો', 21947)]\n",
            "Bigram Character freq [('ર્ અ', 1591758), ('ક્ અ', 1030111), ('મ્ અ', 869185), ('સ્ અ', 852688), ('પ્ અ', 810256), ('ન્ અ', 628773), ('વ્ અ', 594341), ('ત્ અ', 590295), ('જ્ અ', 434663), ('લ્ અ', 423574), ('મ્ આ', 413067), ('ટ્ અ', 400094), ('ય્ અ', 398812), ('ગ્ અ', 384654), ('હ્ અ', 384602), ('અ ર્', 367383), ('ન્ એ', 361896), ('વ્ આ', 345026), ('બ્ અ', 337054), ('દ્ અ', 325436)]\n"
          ]
        }
      ],
      "source": [
        "# m-BERT for max_length = 2k\n",
        "\n",
        "mb_2k=[]\n",
        "for token in tokens_2k:\n",
        "  temp=''\n",
        "  for char in token:\n",
        "    if (char == '#'):\n",
        "      continue\n",
        "    temp = temp + char\n",
        "  mb_2k.append(temp)\n",
        "\n",
        "\n",
        "mb_freq_2k =  []\n",
        "for token in mb_2k:\n",
        "  if token !='' and token not in punctuation :\n",
        "    if token.startswith('▁'):\n",
        "      mb_freq_2k.append(token[1:])\n",
        "    else:\n",
        "        mb_freq_2k.append(token)\n",
        "\n",
        "mb_freq_count_2k = {}\n",
        "i=0\n",
        "\n",
        "while i < len(mb_freq_2k):\n",
        "        ch = mb_freq_2k[i]\n",
        "        mb_freq_count_2k[ch] = mb_freq_count_2k.get(ch, 0) + 1\n",
        "        i=i+1\n",
        "\n",
        "mb_freq_count_sort_2k = [(token, count) for token, count in mb_freq_count_2k.items()]\n",
        "mb_freq_count_sort_2k.sort(key=lambda x: x[1], reverse=True)\n",
        "print(\"Unigram tokens freq\",mb_freq_count_sort_2k[:20])\n",
        "\n",
        "# Bigram tokens\n",
        "list_of_mbert_bigram_tokens_2k = bigram_token(mb_freq_2k)\n",
        "# print(\"Bigram tokens\",list_of_mbert_bigram_tokens_2k[:20])\n",
        "\n",
        "# Bigram tokens frequency\n",
        "list_of_mbert_bigram_tokens_freq_2k = bigram_token_frequency(list_of_mbert_bigram_tokens_2k)\n",
        "print(\"Bigram tokens freq\",list_of_mbert_bigram_tokens_freq_2k[:20])\n",
        "\n",
        "# Bigram Syllables Frequency\n",
        "list_of_mbert_bigram_syllable_freq_2k = bigram_syllable(mb_freq_2k)\n",
        "print(\"Bigram Syllables freq\",list_of_mbert_bigram_syllable_freq_2k[:20])\n",
        "\n",
        "# Bigram Character Frequency\n",
        "list_of_mbert_chars_freq_2k = bigram_char(mb_freq_2k)\n",
        "print(\"Bigram Character freq\",list_of_mbert_chars_freq_2k[:20])"
      ]
    },
    {
      "cell_type": "code",
      "execution_count": null,
      "id": "hDTs0fId0-Da",
      "metadata": {
        "colab": {
          "base_uri": "https://localhost:8080/"
        },
        "id": "hDTs0fId0-Da",
        "outputId": "2f5ec9eb-45f2-4760-b1ee-15eb9479ac44"
      },
      "outputs": [
        {
          "name": "stdout",
          "output_type": "stream",
          "text": [
            "[['સ', 'ુ', 'પ', '્રી', 'મ', 'ક', 'ો', 'ર', '્ટ', 'ે', 'પ', 'ો', 'તા', 'ના', 'ચ', 'ૂ', 'કા', 'દા', 'માં', 'બ', 'દ', 'લા', 'વ', 'કરતા', 'ક', 'હ', '્યું', 'કે', 'ર', 'ા', 'જ', '્ય', 'સ', 'ર', 'કાર', 'ફ', 'ડા', 'ક', 'ડા', 'ફ', 'ો', 'ડ', 'વા', 'માટે', 'નો', 'સ', 'મ', 'ય', 'ન', 'ક', '્ક', 'ી', 'કરી', 'શકે', 'છે'], ['સ', 'ુ', 'ન', 'િ', 'લે', 'લ', 'ખ', '્યું', 'છે', 'કે'], ['અ', 'ર', '્', 'થ', 'ાત', '્', 'ભ', 'ગ', 'વા', 'ન', 'શ', '્રી', 'ક', 'ૃ', 'ષ', '્ણ', 'પ', 'ુ', 'ર', 'ુ', 'ષ', 'ો', 'ત', '્ત', 'મ', 'નો', 'અ', 'વતા', 'ર', 'છે'], ['સ', 'ુ', 'ર', 'ત', 'ક', 'લે', 'ક', '્ટ', 'ર', 'ક', 'ચ', 'ે', 'રી', 'ના', 'સ', 'ુ', 'ત', '્ર', 'ો', 'ના', 'જ', 'ણા', 'વ', '્યા', 'પ', '્ર', 'મ', 'ાણ', 'ે', 'હ', 'ા', 'લ', 'ની', 'સ', '્', 'થ', 'િત', 'િ', 'માં', 'મ', 'હ', 'ા', 'વ', 'ા', 'વા', 'ઝ', 'ો', 'ડ', 'ું', 'દ', 'ી', 'વ'], ['ક', 'ળ', 'વા', 'પણ', 'ન', 'દ', 'ે', 'ત', '્રી', 'જા', 'ને', 'કે', 'તે', 'ણે', 'જે', 'ઉ', 'ધ', 'ારી', 'કરી', 'છે', 'એ', 'ની', 'તેને', 'ખ', 'બર', 'છે'], ['જ', 'ો', 'ઘ', 'ર', 'માં', 'ઉ', 'ધ', 'ઇ', 'થ', 'ઇ', 'જ', 'ાય', 'તો', 'તે', 'મ', 'ો', 'ં', 'ઘ', 'ામાં', 'ફ', 'ર', '્ન', 'ી', 'ચ', 'ર', 'ને', 'પણ', 'ચ', 'પ', 'ટી', 'માં', 'બ', 'ર', 'બ', 'ા', 'દ', 'કરી', 'દ', 'ે', 'છે', 'એવા', 'માં', 'તેના', 'થી', 'છ', 'ૂ', 'ટ', 'કાર', 'ો', 'મ', 'ે', 'ળ', 'વ', 'વો', 'મ', 'ુ', 'શ', '્ક', 'ેલ', '[UNK]'], ['પ', '્ર', 'દ', 'ેશ', 'ઇ', 'ન', '્સ', '્ય', 'ુ', 'લે', 'ટર', 'છે'], ['સ', '્ટ', 'ા', 'ઇ', 'લ', 'િ', 'શ', 'બ', '્', 'લા', 'ઉ', 'ઝ', '2018'], ['મ', 'ાર', '્ક', 'ે', 'ટ', 'વ', 'ેલ', '્ય', 'ુ', 'ની', 'દ', '્ર', 'ષ', '્ટ', 'િ', 'એ', 'ક', 'ો', 'ટ', 'ક', 'મ', 'હ', 'િ', 'ન', '્', 'દ', '્ર', 'ા', 'બે', 'ં', 'ક', 'એ', 'ચ', 'ડી', 'એ', 'ફ', 'સી', 'બાદ', 'બ', 'ી', 'જા', 'ન', 'ં', 'બર', 'ની', 'SB', 'I', 'એ', 'એ', 'ફ', 'ડી', 'ના', 'વ', '્યા', 'જ', 'દ', 'ર', 'માં', '0', '25', 'ટ', 'કા', 'સુધી', 'નો'], ['શ', '્ર', 'ે', 'ષ', '્', 'ઠ', 'વાર', 'ગ', 'ુ', 'ર', 'ુ', 'વાર', 'છે'], ['કેટલાક', 'સ', '્ટ', 'ાર', 'બ', 'ક', '્સ', 'સ', '્ટ', 'ો', 'ર', '્સ', 'ઇ', 'વો', 'લ', '્ય', 'ુ', 'શન', 'બ', '્ર', 'ાન', '્ડ', 'ના', 'સ', '્ત', 'ા', 'ઓ', 'પણ', 'વ', 'હ', 'ન', 'કરે', 'છે'], ['1', 'લ', 'ી', 'અને', '4', 'થી', 'બે', 'ડ', 'ર', 'ૂ', 'મ', 'માં', 'ડ', 'બ', 'લ', 'બે', 'ડ', 'બે', 'એક', 'લ', 'ી', 'ધ', 'ું', 'છે'], ['પરંતુ', 'એ', 'પછી', 'થ', 'ો', 'ડા', 'સ', 'મ', 'ય', 'માં', 'તેમના', 'અ', 'વ', 'સ', 'ાન', 'સાથે', 'ર', 'ા', 'જ', 'કાર', 'ણ', 'અને', 'ર', 'ચ', 'ના', 'ત', '્મ', 'ક', 'ક', 'ાર', '્ય', 'વ', 'ચ', '્ચ', 'ે', 'ની', 'ક', 'ડી', 'ક', 'ાય', 'મ', 'માટે', 'ત', 'ૂ', 'ટી', 'ગ', 'ઈ', 'જે', 'આ', 'જ', 'સુધી', 'સ', 'ધ', 'ા', 'ઈ', 'નથી'], ['૧', '૦', '૦', 'ઉ', 'ઘ', 'રા', 'વી', 'ર', 'હ', '્યાં', 'છે'], ['[UNK]', 'પ', 'તિ', 'પ', 'ત', '્ન', 'ી', 'ઓ', 'ર', 'વ', 'ો', 'હ', '[UNK]', 'માં', 'ભ', 'ૂ', 'મ', 'િ', 'ક', 'ાર', '્તિ', 'ક', 'ની', 'પ', 'ત', '્ન', 'ી', 'બ', 'ની', 'છે', 'જ્યારે', 'અ', 'ન', 'ન', '્યા', 'તેની', 'ગ', 'ર', '્', 'લ', 'ફ', '્ર', 'ે', 'ન', '્ડ', 'ના', 'ર', 'ો', 'લ', 'માં', 'જ', 'ોવા', 'મ', 'ળી', 'ર', 'હી', 'છે'], ['આ', 'ક', 'િ', 'સ', '્સ', 'ા', 'ઓ', 'માં', 'એ', 'ન્ટ', 'િ', 'બ', 'ાય', 'ો', 'ટ', 'િક', '્સ', 'સાથે', 'સ', 'ાર', 'વાર', 'જ', 'ર', 'ૂર', 'છે'], ['જ', 'ો', 'શ', 'ૌ', 'ચ', 'ા', 'લ', 'ય', 'ભ', 'ૂ', 'મ', 'િત', 'િ', 'ખ', 'ે', 'ં', 'ચ', 'ાત', 'ું'], ['સ', 'તા', 'ર', 'મ', 'ો', 'રી', 'સ', 'ા', 'વર', 'ક', 'ું', 'ડ', 'લા'], ['આ', 'ંત', 'ર', 'ડા', 'ના', 'અ', 'વર', 'ો', 'ધ', 'ના', 'મ', 'ાત્ર', 'ત', '્રણ', 'સ', '્વ', 'ર', 'ૂ', 'પ', 'ો', 'છે'], ['સૌરાષ્ટ્ર', 'માં', 'ર', 'ા', 'જ', 'કો', 'ટ'], ['સ', 'મ', 'ૂ', 'હ', 'ગ', 'ી', 'ત', 'સ', 'ૂ', 'ચ', 'વે', 'છે', 'કે', 'તે', 'સ', 'ો', 'થ', 'ો', 'સ', 'અ', 'ર', 'ટ', 'ાય', 'ર', '્સ', 'િ', 'ય', 'સ', 'ને', 'ફ', 'ો', 'ન', 'કરે', 'છે'], ['આવી', 'ઘ', 'ટ', 'ના', 'માં', 'છે', 'ત', 'ર', 'પ', 'િ', 'ં', 'ડી', 'ક', 'ર', 'ના', 'ર', 'વ', '્ય', 'ક', '્તિ', 'મ', 'ો', 'ટ', 'ે', 'ભ', 'ાગ', 'ે', 'પર', 'િ', 'ચ', 'િત', 'અથવા', 'તો', 'સ', 'ં', 'બ', 'ં', 'ધી', 'હોય', 'છે', 'એ', 'વ', 'ાત', 'વ', 'ધ', 'ારે', 'આ', 'ઘ', 'ાત', 'જ', 'ન', 'ક', 'હોય', 'છે'], ['મોટા', 'ભ', 'ાગ', 'ના', 'વ', 'િ', 'પ', 'ક', '્', 'ષ', 'ી', 'દ', 'ળ', 'ો', 'એ', '23', 'મ', 'ે', 'બાદ', 'બે', 'ઠ', 'ક', 'માટે', 'સ', 'ં', 'મ', 'તિ', 'દ', 'ર', '્', 'શ', 'ા', 'વી', 'છે'], ['જ', 'યા', 'રે', 'સ', 'ાય', 'લા', 'ન', 'જી', 'ક', 'આવેલા', 'હ', 'રણ', 'ી', 'યા', 'ગામના', 'વ', 'ન', 'રા', 'જ', 'ભ', 'ા', 'ઇ', 'અ', 'મ', 'રા', 'ભ', 'ા', 'ઇ', 'ખ', 'ા', 'ચ', 'ર', 'ની', 'વ', 'ા', 'ડી', 'માં', 'ઘ', 'ો', 'ડી', 'પ', 'ાસ', 'ાન', 'ો', 'જ', 'ુ', 'ગ', 'ાર', 'ર', 'મ', 'ાત', 'ો', 'હ', 'ોવા', 'ની', 'બ', 'ાત', 'મી', 'ના', 'આ', 'ધ', 'ારે', 'આ', 'ર', 'આ', 'ર', 'સ', 'ેલ', 'ના', 'સ', '્ટ', 'ા', 'ફ', 'ે', 'દ', 'રો', 'ડ', 'ો', 'પ', 'ા', 'ડી', 'જ', 'ુ', 'ગ', 'ાર', 'ર', 'મ', 'તા', 'ર', 'ા', 'જ', 'કો', 'ટ', 'મ', 'ે', 'હ', 'ુ', 'લ', 'નગર', 'ના', 'મ', 'ન', 'દી', 'પ', 'હ', 'સ', 'મ', 'ુ', 'ખ', 'વ', 'ે', 'ક', 'રી', 'યા'], ['એ', 'ન્ટ', 'િક', '્ર', 'ા', 'ઇ', 'સ્ટ', 'આ', 'જ', 'ે', 'જ', 'ી', 'વ', 'ંત', 'છે']]\n"
          ]
        }
      ],
      "source": [
        "# m-BERT for max_length = 2k for Question 3\n",
        "\n",
        "mb_Q3=[]\n",
        "for tokens in list_of_mbert_Q3:\n",
        "  temp_list=[]\n",
        "  for token in tokens:\n",
        "    temp=''\n",
        "    for char in token:\n",
        "      if (char == '#'):\n",
        "        continue\n",
        "      temp = temp + char\n",
        "    temp_list.append(temp)\n",
        "  mb_Q3.append(temp_list)\n",
        "\n",
        "# Storing Answer in form of list of list where inner list stores tokens for 1 sentences\n",
        "\n",
        "final_cleaned_tokens_mbert_Q3=[]\n",
        "\n",
        "for tokens in mb_Q3:\n",
        "  cleaned_tokens_Q3=[]\n",
        "  for token in tokens:\n",
        "    if token !='' and token not in punctuation :\n",
        "      if token.startswith('▁'):\n",
        "        cleaned_tokens_Q3.append(token[1:])\n",
        "      else:\n",
        "          cleaned_tokens_Q3.append(token)\n",
        "  final_cleaned_tokens_mbert_Q3.append(cleaned_tokens_Q3)\n",
        "print(final_cleaned_tokens_mbert_Q3)\n"
      ]
    },
    {
      "cell_type": "markdown",
      "id": "-gT_uys3JUKs",
      "metadata": {
        "id": "-gT_uys3JUKs"
      },
      "source": [
        "# **Question 5**"
      ]
    },
    {
      "cell_type": "markdown",
      "id": "N-wBKPcy8_sm",
      "metadata": {
        "id": "N-wBKPcy8_sm"
      },
      "source": [
        "Question 5"
      ]
    },
    {
      "cell_type": "code",
      "execution_count": null,
      "id": "d5DQVOsJ9BiY",
      "metadata": {
        "id": "d5DQVOsJ9BiY"
      },
      "outputs": [],
      "source": [
        "ground_truth = [['સુપ્રીમ કોર્ટે', 'પોતાના ચૂકાદામાં', 'બદલાવ કરતા', 'કહ્યું', 'રાજ્ય સરકાર', 'ફડાકડા ફોડવા માટેનો', 'સમય નક્કી કરી શકે છે.'], ['સુનિલે', 'લખ્યું છે'], ['અર્થાત્\\u200dભગવાન શ્રીકૃષ્ણ', 'પુરુષોત્તમનો', 'અવતાર છે.'], ['સુરત કલેક્ટર', 'કચેરીના સુત્રોના', 'જણાવ્યા', 'પ્રમાણે', 'હાલની સ્થિતિમાં', 'મહા વાવાઝોડું', 'દીવ'], ['કળવા પણ ન દે', 'ત્રીજાને', 'કે', 'તેણે', 'ઉધારી કરી છે', 'એની', 'તેને', 'ખબર છે'], ['જો ઘરમાં ઉધઇ થઇ જાય', 'તો', 'તે', 'મોંઘામાં ફર્નીચરને' , 'પણ ચપટીમાં બરબાદ કરી દે છે.', 'એવામાં', 'તેનાથી', 'છૂટકારો', 'મેળવવો', 'મુશ્કેલ...'], ['પ્રદેશ ઇન્સ્યુલેટર છે'], ['સ્ટાઇલિશ બ્લાઉઝ 2018'], ['માર્કેટ વેલ્યુની દ્રષ્ટિએ', 'કોટક મહિન્દ્રા બેંક', 'એચડીએફસી બાદ', 'બીજા નંબરની', 'SBIએ', 'એફડીના વ્યાજ દરમાં', '0.25 ટકા સુધીનો'], ['શ્રેષ્ઠવાર ગુરુવાર છે.'], ['કેટલાક સ્ટારબક્સ સ્ટોર્સ', 'ઇવોલ્યુશન બ્રાન્ડ નાસ્તાઓ પણ વહન કરે છે'], ['1 લી અને 4 થી બેડરૂમ માં', 'ડબલ બેડ', 'બે એક લીધું છે'], ['પરંતુ એ પછી થોડા સમયમાં', 'તેમના અવસાન સાથે', 'રાજકારણ અને રચનાત્મક કાર્ય', 'વચ્ચેની કડી', 'કાયમ માટે', 'તૂટી ગઈ જે આજ સુધાઈ નથી'], ['૧૦૦ ઉઘરાવી રહ્યાં છે.'], ['પતિ પત્ની ઓર વોહ’માં', 'ભૂમિ કાર્તિકની પત્ની બની છે', 'જ્યારે અનન્યા તેની ગર્લફ્રેન્ડના રોલમાં', 'જોવા મળી રહી છે'], ['આ કિસ્સાઓમાં', 'એન્ટિબાયોટિક્સ સાથે', 'સારવાર જરૂર છે'], ['જો શૌચાલય ભૂમિતિ ખેંચાતું'], ['સતાર મોરી', '(સાવરકુંડલા)'], ['આંતરડાના અવરોધના', 'માત્ર રણ સ્વરૂપો'], ['સૌરાષ્ટ્રમાં રાજકોટ'], ['સમૂહગીત સૂચવે', 'તે સોથોસઅર ટાયર્સિયસને ફોન કરે છે.'], ['છેતરપિંડી કરનાર વ્યક્તિ', 'મોટે ભાગે પરિચિત અથવા તો સંબંધી હોય છે'], ['મોટાભાગના વિપક્ષી દળો', '23 મે બાદ', 'બેઠક માટે', 'સંમતિ દર્શાવી છે'], ['જયારે સાયલા નજીક આવેલા', 'હરણીયા ગામના વનરાજભાઇ અમરાભાઇ ખાચરની વાડીમાં', 'ઘોડીપાસાનો જુગાર રમાતો હોવાની બાતમીના', 'આધારે આરઆર સેલના સ્ટાફે', 'દરોડો પાડી જુગાર રમતા', 'રાજકોટ મેહુલનગરના મનદીપ હસમુખ વેકરીયા'], ['આજે જીવંત છે']]\n",
        "\n",
        "def metrics_calc(model_prediction):\n",
        "    total_precision = 0\n",
        "    total_recall = 0\n",
        "    total_fscore = 0\n",
        "\n",
        "    for ground_truth_tokens, pred_tokens in zip(ground_truth, model_prediction):\n",
        "        true_positives = len(set(pred_tokens).intersection(ground_truth_tokens))\n",
        "        total_predicted = len(pred_tokens)\n",
        "        total_actual = len(ground_truth_tokens)\n",
        "\n",
        "        precision = true_positives / total_predicted\n",
        "        recall = true_positives / total_actual\n",
        "\n",
        "        if precision + recall == 0:\n",
        "            fscore = 0\n",
        "        else:\n",
        "            fscore = 2 * (precision * recall) / (precision + recall)\n",
        "\n",
        "        total_precision += precision\n",
        "        total_recall += recall\n",
        "        total_fscore += fscore\n",
        "\n",
        "    total_sentences = len(ground_truth)\n",
        "    avg_precision = total_precision / total_sentences\n",
        "    avg_recall = total_recall / total_sentences\n",
        "    avg_fscore = total_fscore / total_sentences\n",
        "\n",
        "    return avg_precision, avg_recall, avg_fscore\n",
        "\n",
        "\n"
      ]
    },
    {
      "cell_type": "code",
      "execution_count": null,
      "id": "2cLEGlWkUMgS",
      "metadata": {
        "colab": {
          "base_uri": "https://localhost:8080/"
        },
        "id": "2cLEGlWkUMgS",
        "outputId": "d53f71d1-85c9-4fe1-afdb-5c85e61cf5e3"
      },
      "outputs": [
        {
          "name": "stdout",
          "output_type": "stream",
          "text": [
            "Precision: 0.055893217893217884\n",
            "Recall: 0.1051904761904762\n",
            "F-score: 0.07274184198223468\n"
          ]
        }
      ],
      "source": [
        "# BPE Calculations\n",
        "\n",
        "precision, recall, fscore = metrics_calc( final_cleaned_tokens_Q3)\n",
        "print(\"Precision:\", precision)\n",
        "print(\"Recall:\", recall)\n",
        "print(\"F-score:\", fscore)\n"
      ]
    },
    {
      "cell_type": "code",
      "execution_count": null,
      "id": "adrbAd_wWmIN",
      "metadata": {
        "colab": {
          "base_uri": "https://localhost:8080/"
        },
        "id": "adrbAd_wWmIN",
        "outputId": "bbbc2212-cdfe-427f-86fa-182ba201449e"
      },
      "outputs": [
        {
          "name": "stdout",
          "output_type": "stream",
          "text": [
            "Precision: 0.0020046082949308755\n",
            "Recall: 0.009000000000000001\n",
            "F-score: 0.0032634032634032634\n"
          ]
        }
      ],
      "source": [
        "# Unigram Calculation\n",
        "\n",
        "precision, recall, fscore = metrics_calc( final_cleaned_tokens_unigram_Q3)\n",
        "print(\"Precision:\", precision)\n",
        "print(\"Recall:\", recall)\n",
        "print(\"F-score:\", fscore)"
      ]
    },
    {
      "cell_type": "code",
      "execution_count": null,
      "id": "qey0gUUfW0Se",
      "metadata": {
        "colab": {
          "base_uri": "https://localhost:8080/"
        },
        "id": "qey0gUUfW0Se",
        "outputId": "e95d0393-7b93-433a-9b18-b8f5cc3e5aad"
      },
      "outputs": [
        {
          "name": "stdout",
          "output_type": "stream",
          "text": [
            "Precision: 0.0020046082949308755\n",
            "Recall: 0.009000000000000001\n",
            "F-score: 0.0032634032634032634\n"
          ]
        }
      ],
      "source": [
        "# IndicBert Calculation\n",
        "\n",
        "precision, recall, fscore = metrics_calc( final_cleaned_tokens_unigram_Q3)\n",
        "print(\"Precision:\", precision)\n",
        "print(\"Recall:\", recall)\n",
        "print(\"F-score:\", fscore)\n"
      ]
    },
    {
      "cell_type": "code",
      "execution_count": null,
      "id": "66nyJ6fZW5Bq",
      "metadata": {
        "colab": {
          "base_uri": "https://localhost:8080/"
        },
        "id": "66nyJ6fZW5Bq",
        "outputId": "c58a1fa6-4298-46ff-bcff-825ebb51a286"
      },
      "outputs": [
        {
          "name": "stdout",
          "output_type": "stream",
          "text": [
            "Precision: 0.00441025641025641\n",
            "Recall: 0.018000000000000002\n",
            "F-score: 0.006991596638655462\n"
          ]
        }
      ],
      "source": [
        "# m-Bert Calculation\n",
        "\n",
        "precision, recall, fscore = metrics_calc( final_cleaned_tokens_mbert_Q3)\n",
        "print(\"Precision:\", precision)\n",
        "print(\"Recall:\", recall)\n",
        "print(\"F-score:\", fscore)"
      ]
    },
    {
      "cell_type": "code",
      "execution_count": null,
      "id": "c11ef8e0",
      "metadata": {
        "id": "c11ef8e0"
      },
      "outputs": [],
      "source": [
        "# White space tokenizer calculation\n",
        "\n",
        "precision, recall, fscore = metrics_calc( final_cleaned_tokens_ws_Q3)\n",
        "print(\"Precision:\", precision)\n",
        "print(\"Recall:\", recall)\n",
        "print(\"F-score:\", fscore)"
      ]
    },
    {
      "cell_type": "markdown",
      "source": [
        "# **Question 6**"
      ],
      "metadata": {
        "id": "ZlKkegOl7pVP"
      },
      "id": "ZlKkegOl7pVP"
    },
    {
      "cell_type": "markdown",
      "source": [
        "I learned from this comparison is that,\n",
        "If human being forms word groups from sentences, it divides sentences into word groups such that each word group has semantic unit.\n",
        "But the Tokenizers divides the sentences into word groups based on its algorithm.\n",
        "For example, BPE tokenization starts with a vocabulary of characters or subwords and iteratively merges the most frequent pairs of tokens to create a new vocabulary. This process continues until the desired vocabulary size is reached.\n",
        "\n",
        "In Tokenizers vocabulary, each word is breaked into seperate characters or even matras are seprated to form one token.\n",
        "While human being even forms one word group which may contain more than one words in it.\n",
        "For example, as Sir discussed in the class \"kha_raha_hai\" is one word group according to us. But tokenizers will divide it into multiple tokens.\n",
        "Tokenizers do not consider sematics of tokens while dividing it into tokens.\n",
        "\n",
        "We do not divide it into matras and break the words to form one token.\n",
        "So, because of this accuracy is very low. vocabulary size of tokenizers is very large compared to our vocabulary.\n",
        "There are not many tokens which match in both vocabularies."
      ],
      "metadata": {
        "id": "k4RzFSRK7m4x"
      },
      "id": "k4RzFSRK7m4x"
    }
  ],
  "metadata": {
    "colab": {
      "provenance": []
    },
    "kernelspec": {
      "display_name": "Python 3 (ipykernel)",
      "language": "python",
      "name": "python3"
    },
    "language_info": {
      "codemirror_mode": {
        "name": "ipython",
        "version": 3
      },
      "file_extension": ".py",
      "mimetype": "text/x-python",
      "name": "python",
      "nbconvert_exporter": "python",
      "pygments_lexer": "ipython3",
      "version": "3.11.5"
    },
    "widgets": {
      "application/vnd.jupyter.widget-state+json": {
        "04400636d7a44856a1d136695d4334aa": {
          "model_module": "@jupyter-widgets/controls",
          "model_module_version": "1.5.0",
          "model_name": "FloatProgressModel",
          "state": {
            "_dom_classes": [],
            "_model_module": "@jupyter-widgets/controls",
            "_model_module_version": "1.5.0",
            "_model_name": "FloatProgressModel",
            "_view_count": null,
            "_view_module": "@jupyter-widgets/controls",
            "_view_module_version": "1.5.0",
            "_view_name": "ProgressView",
            "bar_style": "success",
            "description": "",
            "description_tooltip": null,
            "layout": "IPY_MODEL_2e94d67e8a8e496c81da646816c0c685",
            "max": 29,
            "min": 0,
            "orientation": "horizontal",
            "style": "IPY_MODEL_df7972dfe833458b8a83895996f642eb",
            "value": 29
          }
        },
        "04a87f99b32a422f9dfe4f4fe78c217c": {
          "model_module": "@jupyter-widgets/controls",
          "model_module_version": "1.5.0",
          "model_name": "HBoxModel",
          "state": {
            "_dom_classes": [],
            "_model_module": "@jupyter-widgets/controls",
            "_model_module_version": "1.5.0",
            "_model_name": "HBoxModel",
            "_view_count": null,
            "_view_module": "@jupyter-widgets/controls",
            "_view_module_version": "1.5.0",
            "_view_name": "HBoxView",
            "box_style": "",
            "children": [
              "IPY_MODEL_9c51fc01fe6e43afb0a16a79dbcec7f7",
              "IPY_MODEL_80e1769369f04c12bff334caf6d764c9",
              "IPY_MODEL_0f9feff285a441d59faf8a65d7bef96f"
            ],
            "layout": "IPY_MODEL_f4749bc236a24ac99579106b22734bd5"
          }
        },
        "093f1941385240e3bc7c73885bd6acec": {
          "model_module": "@jupyter-widgets/controls",
          "model_module_version": "1.5.0",
          "model_name": "HTMLModel",
          "state": {
            "_dom_classes": [],
            "_model_module": "@jupyter-widgets/controls",
            "_model_module_version": "1.5.0",
            "_model_name": "HTMLModel",
            "_view_count": null,
            "_view_module": "@jupyter-widgets/controls",
            "_view_module_version": "1.5.0",
            "_view_name": "HTMLView",
            "description": "",
            "description_tooltip": null,
            "layout": "IPY_MODEL_e1241a12a98f46058fbf6413178240ca",
            "placeholder": "​",
            "style": "IPY_MODEL_e43aed80dd5349e7871fdf19e166010b",
            "value": "tokenizer_config.json: 100%"
          }
        },
        "0ab5808659c0446a92e2e588a2c1ec22": {
          "model_module": "@jupyter-widgets/base",
          "model_module_version": "1.2.0",
          "model_name": "LayoutModel",
          "state": {
            "_model_module": "@jupyter-widgets/base",
            "_model_module_version": "1.2.0",
            "_model_name": "LayoutModel",
            "_view_count": null,
            "_view_module": "@jupyter-widgets/base",
            "_view_module_version": "1.2.0",
            "_view_name": "LayoutView",
            "align_content": null,
            "align_items": null,
            "align_self": null,
            "border": null,
            "bottom": null,
            "display": null,
            "flex": null,
            "flex_flow": null,
            "grid_area": null,
            "grid_auto_columns": null,
            "grid_auto_flow": null,
            "grid_auto_rows": null,
            "grid_column": null,
            "grid_gap": null,
            "grid_row": null,
            "grid_template_areas": null,
            "grid_template_columns": null,
            "grid_template_rows": null,
            "height": null,
            "justify_content": null,
            "justify_items": null,
            "left": null,
            "margin": null,
            "max_height": null,
            "max_width": null,
            "min_height": null,
            "min_width": null,
            "object_fit": null,
            "object_position": null,
            "order": null,
            "overflow": null,
            "overflow_x": null,
            "overflow_y": null,
            "padding": null,
            "right": null,
            "top": null,
            "visibility": null,
            "width": null
          }
        },
        "0af93d756bb24e3a871aa2a976464512": {
          "model_module": "@jupyter-widgets/controls",
          "model_module_version": "1.5.0",
          "model_name": "ProgressStyleModel",
          "state": {
            "_model_module": "@jupyter-widgets/controls",
            "_model_module_version": "1.5.0",
            "_model_name": "ProgressStyleModel",
            "_view_count": null,
            "_view_module": "@jupyter-widgets/base",
            "_view_module_version": "1.2.0",
            "_view_name": "StyleView",
            "bar_color": null,
            "description_width": ""
          }
        },
        "0cac947cef3c4b16b2b9de52ae77e859": {
          "model_module": "@jupyter-widgets/controls",
          "model_module_version": "1.5.0",
          "model_name": "HBoxModel",
          "state": {
            "_dom_classes": [],
            "_model_module": "@jupyter-widgets/controls",
            "_model_module_version": "1.5.0",
            "_model_name": "HBoxModel",
            "_view_count": null,
            "_view_module": "@jupyter-widgets/controls",
            "_view_module_version": "1.5.0",
            "_view_name": "HBoxView",
            "box_style": "",
            "children": [
              "IPY_MODEL_9ad01d1f549240eab24cf0fa3d96f914",
              "IPY_MODEL_1e7d3a4706da4d2187e8646111b960a5",
              "IPY_MODEL_73750964811a46718455dec433039d75"
            ],
            "layout": "IPY_MODEL_8935f0fc5fb64d38bb57ab0941736906"
          }
        },
        "0f9feff285a441d59faf8a65d7bef96f": {
          "model_module": "@jupyter-widgets/controls",
          "model_module_version": "1.5.0",
          "model_name": "HTMLModel",
          "state": {
            "_dom_classes": [],
            "_model_module": "@jupyter-widgets/controls",
            "_model_module_version": "1.5.0",
            "_model_name": "HTMLModel",
            "_view_count": null,
            "_view_module": "@jupyter-widgets/controls",
            "_view_module_version": "1.5.0",
            "_view_name": "HTMLView",
            "description": "",
            "description_tooltip": null,
            "layout": "IPY_MODEL_aa452f5de5d8434883f2b6e897b71711",
            "placeholder": "​",
            "style": "IPY_MODEL_e8b16e8932294623a4d5c68a3b1b5b4e",
            "value": " 1.96M/1.96M [00:00&lt;00:00, 42.8MB/s]"
          }
        },
        "15b3e0d4813e4f5d91a8af3f8328591b": {
          "model_module": "@jupyter-widgets/controls",
          "model_module_version": "1.5.0",
          "model_name": "DescriptionStyleModel",
          "state": {
            "_model_module": "@jupyter-widgets/controls",
            "_model_module_version": "1.5.0",
            "_model_name": "DescriptionStyleModel",
            "_view_count": null,
            "_view_module": "@jupyter-widgets/base",
            "_view_module_version": "1.2.0",
            "_view_name": "StyleView",
            "description_width": ""
          }
        },
        "1e7d3a4706da4d2187e8646111b960a5": {
          "model_module": "@jupyter-widgets/controls",
          "model_module_version": "1.5.0",
          "model_name": "FloatProgressModel",
          "state": {
            "_dom_classes": [],
            "_model_module": "@jupyter-widgets/controls",
            "_model_module_version": "1.5.0",
            "_model_name": "FloatProgressModel",
            "_view_count": null,
            "_view_module": "@jupyter-widgets/controls",
            "_view_module_version": "1.5.0",
            "_view_name": "ProgressView",
            "bar_style": "success",
            "description": "",
            "description_tooltip": null,
            "layout": "IPY_MODEL_8b175e6740304ca898be38edc33aab9b",
            "max": 625,
            "min": 0,
            "orientation": "horizontal",
            "style": "IPY_MODEL_c43095e8f44e400ba3cb77bd5e62aaf4",
            "value": 625
          }
        },
        "211a3c96bd6a43d7b465db63e2767e91": {
          "model_module": "@jupyter-widgets/controls",
          "model_module_version": "1.5.0",
          "model_name": "HBoxModel",
          "state": {
            "_dom_classes": [],
            "_model_module": "@jupyter-widgets/controls",
            "_model_module_version": "1.5.0",
            "_model_name": "HBoxModel",
            "_view_count": null,
            "_view_module": "@jupyter-widgets/controls",
            "_view_module_version": "1.5.0",
            "_view_name": "HBoxView",
            "box_style": "",
            "children": [
              "IPY_MODEL_7383e41625034f5da6987fa02efd631e",
              "IPY_MODEL_270a146589aa4a459100c1fbed648fa5",
              "IPY_MODEL_2aa0e5a7151140baa31d25218179026c"
            ],
            "layout": "IPY_MODEL_ab5485cc4e6d46159e1672710d487b17"
          }
        },
        "25d8ad5b8d8b405d860e7c136386484c": {
          "model_module": "@jupyter-widgets/controls",
          "model_module_version": "1.5.0",
          "model_name": "HBoxModel",
          "state": {
            "_dom_classes": [],
            "_model_module": "@jupyter-widgets/controls",
            "_model_module_version": "1.5.0",
            "_model_name": "HBoxModel",
            "_view_count": null,
            "_view_module": "@jupyter-widgets/controls",
            "_view_module_version": "1.5.0",
            "_view_name": "HBoxView",
            "box_style": "",
            "children": [
              "IPY_MODEL_ac92223f5e32493c9673296a10dd4133",
              "IPY_MODEL_52309c420933405cb78db5f441bae2c7",
              "IPY_MODEL_c91fd6d79f404f1da0762bf503e5f61d"
            ],
            "layout": "IPY_MODEL_974b77df2d6744a4baa05daaf4025751"
          }
        },
        "270a146589aa4a459100c1fbed648fa5": {
          "model_module": "@jupyter-widgets/controls",
          "model_module_version": "1.5.0",
          "model_name": "FloatProgressModel",
          "state": {
            "_dom_classes": [],
            "_model_module": "@jupyter-widgets/controls",
            "_model_module_version": "1.5.0",
            "_model_name": "FloatProgressModel",
            "_view_count": null,
            "_view_module": "@jupyter-widgets/controls",
            "_view_module_version": "1.5.0",
            "_view_name": "ProgressView",
            "bar_style": "success",
            "description": "",
            "description_tooltip": null,
            "layout": "IPY_MODEL_d89f6141b5174dff88ff28ce8e96e6a6",
            "max": 995526,
            "min": 0,
            "orientation": "horizontal",
            "style": "IPY_MODEL_4968c9d157b3470b9fd9e3b2ced26a77",
            "value": 995526
          }
        },
        "2aa0e5a7151140baa31d25218179026c": {
          "model_module": "@jupyter-widgets/controls",
          "model_module_version": "1.5.0",
          "model_name": "HTMLModel",
          "state": {
            "_dom_classes": [],
            "_model_module": "@jupyter-widgets/controls",
            "_model_module_version": "1.5.0",
            "_model_name": "HTMLModel",
            "_view_count": null,
            "_view_module": "@jupyter-widgets/controls",
            "_view_module_version": "1.5.0",
            "_view_name": "HTMLView",
            "description": "",
            "description_tooltip": null,
            "layout": "IPY_MODEL_9823d573f3cf4ef69cb497c667efd694",
            "placeholder": "​",
            "style": "IPY_MODEL_66a1565e238a4d07a70428f56efbc488",
            "value": " 996k/996k [00:00&lt;00:00, 22.8MB/s]"
          }
        },
        "2e94d67e8a8e496c81da646816c0c685": {
          "model_module": "@jupyter-widgets/base",
          "model_module_version": "1.2.0",
          "model_name": "LayoutModel",
          "state": {
            "_model_module": "@jupyter-widgets/base",
            "_model_module_version": "1.2.0",
            "_model_name": "LayoutModel",
            "_view_count": null,
            "_view_module": "@jupyter-widgets/base",
            "_view_module_version": "1.2.0",
            "_view_name": "LayoutView",
            "align_content": null,
            "align_items": null,
            "align_self": null,
            "border": null,
            "bottom": null,
            "display": null,
            "flex": null,
            "flex_flow": null,
            "grid_area": null,
            "grid_auto_columns": null,
            "grid_auto_flow": null,
            "grid_auto_rows": null,
            "grid_column": null,
            "grid_gap": null,
            "grid_row": null,
            "grid_template_areas": null,
            "grid_template_columns": null,
            "grid_template_rows": null,
            "height": null,
            "justify_content": null,
            "justify_items": null,
            "left": null,
            "margin": null,
            "max_height": null,
            "max_width": null,
            "min_height": null,
            "min_width": null,
            "object_fit": null,
            "object_position": null,
            "order": null,
            "overflow": null,
            "overflow_x": null,
            "overflow_y": null,
            "padding": null,
            "right": null,
            "top": null,
            "visibility": null,
            "width": null
          }
        },
        "31f33035bd4549fbbca312fd92854e2e": {
          "model_module": "@jupyter-widgets/base",
          "model_module_version": "1.2.0",
          "model_name": "LayoutModel",
          "state": {
            "_model_module": "@jupyter-widgets/base",
            "_model_module_version": "1.2.0",
            "_model_name": "LayoutModel",
            "_view_count": null,
            "_view_module": "@jupyter-widgets/base",
            "_view_module_version": "1.2.0",
            "_view_name": "LayoutView",
            "align_content": null,
            "align_items": null,
            "align_self": null,
            "border": null,
            "bottom": null,
            "display": null,
            "flex": null,
            "flex_flow": null,
            "grid_area": null,
            "grid_auto_columns": null,
            "grid_auto_flow": null,
            "grid_auto_rows": null,
            "grid_column": null,
            "grid_gap": null,
            "grid_row": null,
            "grid_template_areas": null,
            "grid_template_columns": null,
            "grid_template_rows": null,
            "height": null,
            "justify_content": null,
            "justify_items": null,
            "left": null,
            "margin": null,
            "max_height": null,
            "max_width": null,
            "min_height": null,
            "min_width": null,
            "object_fit": null,
            "object_position": null,
            "order": null,
            "overflow": null,
            "overflow_x": null,
            "overflow_y": null,
            "padding": null,
            "right": null,
            "top": null,
            "visibility": null,
            "width": null
          }
        },
        "371e8e4233a6415d8ff772e441a7a90d": {
          "model_module": "@jupyter-widgets/controls",
          "model_module_version": "1.5.0",
          "model_name": "HBoxModel",
          "state": {
            "_dom_classes": [],
            "_model_module": "@jupyter-widgets/controls",
            "_model_module_version": "1.5.0",
            "_model_name": "HBoxModel",
            "_view_count": null,
            "_view_module": "@jupyter-widgets/controls",
            "_view_module_version": "1.5.0",
            "_view_name": "HBoxView",
            "box_style": "",
            "children": [
              "IPY_MODEL_093f1941385240e3bc7c73885bd6acec",
              "IPY_MODEL_04400636d7a44856a1d136695d4334aa",
              "IPY_MODEL_82895d1e54b748c3ac330c5dc26889a4"
            ],
            "layout": "IPY_MODEL_6c79959e88194a57aca68a0129efa790"
          }
        },
        "37fe4137afa8485ba8c9b3cf018e0f4b": {
          "model_module": "@jupyter-widgets/controls",
          "model_module_version": "1.5.0",
          "model_name": "ProgressStyleModel",
          "state": {
            "_model_module": "@jupyter-widgets/controls",
            "_model_module_version": "1.5.0",
            "_model_name": "ProgressStyleModel",
            "_view_count": null,
            "_view_module": "@jupyter-widgets/base",
            "_view_module_version": "1.2.0",
            "_view_name": "StyleView",
            "bar_color": null,
            "description_width": ""
          }
        },
        "385340f83b114b27ab5d45d6a8ded671": {
          "model_module": "@jupyter-widgets/base",
          "model_module_version": "1.2.0",
          "model_name": "LayoutModel",
          "state": {
            "_model_module": "@jupyter-widgets/base",
            "_model_module_version": "1.2.0",
            "_model_name": "LayoutModel",
            "_view_count": null,
            "_view_module": "@jupyter-widgets/base",
            "_view_module_version": "1.2.0",
            "_view_name": "LayoutView",
            "align_content": null,
            "align_items": null,
            "align_self": null,
            "border": null,
            "bottom": null,
            "display": null,
            "flex": null,
            "flex_flow": null,
            "grid_area": null,
            "grid_auto_columns": null,
            "grid_auto_flow": null,
            "grid_auto_rows": null,
            "grid_column": null,
            "grid_gap": null,
            "grid_row": null,
            "grid_template_areas": null,
            "grid_template_columns": null,
            "grid_template_rows": null,
            "height": null,
            "justify_content": null,
            "justify_items": null,
            "left": null,
            "margin": null,
            "max_height": null,
            "max_width": null,
            "min_height": null,
            "min_width": null,
            "object_fit": null,
            "object_position": null,
            "order": null,
            "overflow": null,
            "overflow_x": null,
            "overflow_y": null,
            "padding": null,
            "right": null,
            "top": null,
            "visibility": null,
            "width": null
          }
        },
        "3fbf94dcbb8a4110bf8c7bdded9b6228": {
          "model_module": "@jupyter-widgets/base",
          "model_module_version": "1.2.0",
          "model_name": "LayoutModel",
          "state": {
            "_model_module": "@jupyter-widgets/base",
            "_model_module_version": "1.2.0",
            "_model_name": "LayoutModel",
            "_view_count": null,
            "_view_module": "@jupyter-widgets/base",
            "_view_module_version": "1.2.0",
            "_view_name": "LayoutView",
            "align_content": null,
            "align_items": null,
            "align_self": null,
            "border": null,
            "bottom": null,
            "display": null,
            "flex": null,
            "flex_flow": null,
            "grid_area": null,
            "grid_auto_columns": null,
            "grid_auto_flow": null,
            "grid_auto_rows": null,
            "grid_column": null,
            "grid_gap": null,
            "grid_row": null,
            "grid_template_areas": null,
            "grid_template_columns": null,
            "grid_template_rows": null,
            "height": null,
            "justify_content": null,
            "justify_items": null,
            "left": null,
            "margin": null,
            "max_height": null,
            "max_width": null,
            "min_height": null,
            "min_width": null,
            "object_fit": null,
            "object_position": null,
            "order": null,
            "overflow": null,
            "overflow_x": null,
            "overflow_y": null,
            "padding": null,
            "right": null,
            "top": null,
            "visibility": null,
            "width": null
          }
        },
        "4968c9d157b3470b9fd9e3b2ced26a77": {
          "model_module": "@jupyter-widgets/controls",
          "model_module_version": "1.5.0",
          "model_name": "ProgressStyleModel",
          "state": {
            "_model_module": "@jupyter-widgets/controls",
            "_model_module_version": "1.5.0",
            "_model_name": "ProgressStyleModel",
            "_view_count": null,
            "_view_module": "@jupyter-widgets/base",
            "_view_module_version": "1.2.0",
            "_view_name": "StyleView",
            "bar_color": null,
            "description_width": ""
          }
        },
        "4c4b7ac593fb437ebc095d8b80e04c9d": {
          "model_module": "@jupyter-widgets/controls",
          "model_module_version": "1.5.0",
          "model_name": "DescriptionStyleModel",
          "state": {
            "_model_module": "@jupyter-widgets/controls",
            "_model_module_version": "1.5.0",
            "_model_name": "DescriptionStyleModel",
            "_view_count": null,
            "_view_module": "@jupyter-widgets/base",
            "_view_module_version": "1.2.0",
            "_view_name": "StyleView",
            "description_width": ""
          }
        },
        "4e68064977284fcda4603e4581428c16": {
          "model_module": "@jupyter-widgets/base",
          "model_module_version": "1.2.0",
          "model_name": "LayoutModel",
          "state": {
            "_model_module": "@jupyter-widgets/base",
            "_model_module_version": "1.2.0",
            "_model_name": "LayoutModel",
            "_view_count": null,
            "_view_module": "@jupyter-widgets/base",
            "_view_module_version": "1.2.0",
            "_view_name": "LayoutView",
            "align_content": null,
            "align_items": null,
            "align_self": null,
            "border": null,
            "bottom": null,
            "display": null,
            "flex": null,
            "flex_flow": null,
            "grid_area": null,
            "grid_auto_columns": null,
            "grid_auto_flow": null,
            "grid_auto_rows": null,
            "grid_column": null,
            "grid_gap": null,
            "grid_row": null,
            "grid_template_areas": null,
            "grid_template_columns": null,
            "grid_template_rows": null,
            "height": null,
            "justify_content": null,
            "justify_items": null,
            "left": null,
            "margin": null,
            "max_height": null,
            "max_width": null,
            "min_height": null,
            "min_width": null,
            "object_fit": null,
            "object_position": null,
            "order": null,
            "overflow": null,
            "overflow_x": null,
            "overflow_y": null,
            "padding": null,
            "right": null,
            "top": null,
            "visibility": null,
            "width": null
          }
        },
        "52309c420933405cb78db5f441bae2c7": {
          "model_module": "@jupyter-widgets/controls",
          "model_module_version": "1.5.0",
          "model_name": "FloatProgressModel",
          "state": {
            "_dom_classes": [],
            "_model_module": "@jupyter-widgets/controls",
            "_model_module_version": "1.5.0",
            "_model_name": "FloatProgressModel",
            "_view_count": null,
            "_view_module": "@jupyter-widgets/controls",
            "_view_module_version": "1.5.0",
            "_view_name": "ProgressView",
            "bar_style": "success",
            "description": "",
            "description_tooltip": null,
            "layout": "IPY_MODEL_4e68064977284fcda4603e4581428c16",
            "max": 507,
            "min": 0,
            "orientation": "horizontal",
            "style": "IPY_MODEL_597c5b68f3364027b5304b4986c669d6",
            "value": 507
          }
        },
        "597c5b68f3364027b5304b4986c669d6": {
          "model_module": "@jupyter-widgets/controls",
          "model_module_version": "1.5.0",
          "model_name": "ProgressStyleModel",
          "state": {
            "_model_module": "@jupyter-widgets/controls",
            "_model_module_version": "1.5.0",
            "_model_name": "ProgressStyleModel",
            "_view_count": null,
            "_view_module": "@jupyter-widgets/base",
            "_view_module_version": "1.2.0",
            "_view_name": "StyleView",
            "bar_color": null,
            "description_width": ""
          }
        },
        "5d458f336d344653bc9f53f27005b0c9": {
          "model_module": "@jupyter-widgets/base",
          "model_module_version": "1.2.0",
          "model_name": "LayoutModel",
          "state": {
            "_model_module": "@jupyter-widgets/base",
            "_model_module_version": "1.2.0",
            "_model_name": "LayoutModel",
            "_view_count": null,
            "_view_module": "@jupyter-widgets/base",
            "_view_module_version": "1.2.0",
            "_view_name": "LayoutView",
            "align_content": null,
            "align_items": null,
            "align_self": null,
            "border": null,
            "bottom": null,
            "display": null,
            "flex": null,
            "flex_flow": null,
            "grid_area": null,
            "grid_auto_columns": null,
            "grid_auto_flow": null,
            "grid_auto_rows": null,
            "grid_column": null,
            "grid_gap": null,
            "grid_row": null,
            "grid_template_areas": null,
            "grid_template_columns": null,
            "grid_template_rows": null,
            "height": null,
            "justify_content": null,
            "justify_items": null,
            "left": null,
            "margin": null,
            "max_height": null,
            "max_width": null,
            "min_height": null,
            "min_width": null,
            "object_fit": null,
            "object_position": null,
            "order": null,
            "overflow": null,
            "overflow_x": null,
            "overflow_y": null,
            "padding": null,
            "right": null,
            "top": null,
            "visibility": null,
            "width": null
          }
        },
        "61da01a937174cc3a138fdcac27a6f1b": {
          "model_module": "@jupyter-widgets/controls",
          "model_module_version": "1.5.0",
          "model_name": "DescriptionStyleModel",
          "state": {
            "_model_module": "@jupyter-widgets/controls",
            "_model_module_version": "1.5.0",
            "_model_name": "DescriptionStyleModel",
            "_view_count": null,
            "_view_module": "@jupyter-widgets/base",
            "_view_module_version": "1.2.0",
            "_view_name": "StyleView",
            "description_width": ""
          }
        },
        "66a1565e238a4d07a70428f56efbc488": {
          "model_module": "@jupyter-widgets/controls",
          "model_module_version": "1.5.0",
          "model_name": "DescriptionStyleModel",
          "state": {
            "_model_module": "@jupyter-widgets/controls",
            "_model_module_version": "1.5.0",
            "_model_name": "DescriptionStyleModel",
            "_view_count": null,
            "_view_module": "@jupyter-widgets/base",
            "_view_module_version": "1.2.0",
            "_view_name": "StyleView",
            "description_width": ""
          }
        },
        "693b713f5fd24be78b5b6a9e683a3d74": {
          "model_module": "@jupyter-widgets/base",
          "model_module_version": "1.2.0",
          "model_name": "LayoutModel",
          "state": {
            "_model_module": "@jupyter-widgets/base",
            "_model_module_version": "1.2.0",
            "_model_name": "LayoutModel",
            "_view_count": null,
            "_view_module": "@jupyter-widgets/base",
            "_view_module_version": "1.2.0",
            "_view_name": "LayoutView",
            "align_content": null,
            "align_items": null,
            "align_self": null,
            "border": null,
            "bottom": null,
            "display": null,
            "flex": null,
            "flex_flow": null,
            "grid_area": null,
            "grid_auto_columns": null,
            "grid_auto_flow": null,
            "grid_auto_rows": null,
            "grid_column": null,
            "grid_gap": null,
            "grid_row": null,
            "grid_template_areas": null,
            "grid_template_columns": null,
            "grid_template_rows": null,
            "height": null,
            "justify_content": null,
            "justify_items": null,
            "left": null,
            "margin": null,
            "max_height": null,
            "max_width": null,
            "min_height": null,
            "min_width": null,
            "object_fit": null,
            "object_position": null,
            "order": null,
            "overflow": null,
            "overflow_x": null,
            "overflow_y": null,
            "padding": null,
            "right": null,
            "top": null,
            "visibility": null,
            "width": null
          }
        },
        "6c79959e88194a57aca68a0129efa790": {
          "model_module": "@jupyter-widgets/base",
          "model_module_version": "1.2.0",
          "model_name": "LayoutModel",
          "state": {
            "_model_module": "@jupyter-widgets/base",
            "_model_module_version": "1.2.0",
            "_model_name": "LayoutModel",
            "_view_count": null,
            "_view_module": "@jupyter-widgets/base",
            "_view_module_version": "1.2.0",
            "_view_name": "LayoutView",
            "align_content": null,
            "align_items": null,
            "align_self": null,
            "border": null,
            "bottom": null,
            "display": null,
            "flex": null,
            "flex_flow": null,
            "grid_area": null,
            "grid_auto_columns": null,
            "grid_auto_flow": null,
            "grid_auto_rows": null,
            "grid_column": null,
            "grid_gap": null,
            "grid_row": null,
            "grid_template_areas": null,
            "grid_template_columns": null,
            "grid_template_rows": null,
            "height": null,
            "justify_content": null,
            "justify_items": null,
            "left": null,
            "margin": null,
            "max_height": null,
            "max_width": null,
            "min_height": null,
            "min_width": null,
            "object_fit": null,
            "object_position": null,
            "order": null,
            "overflow": null,
            "overflow_x": null,
            "overflow_y": null,
            "padding": null,
            "right": null,
            "top": null,
            "visibility": null,
            "width": null
          }
        },
        "6cace41051614f30bafa066328c26425": {
          "model_module": "@jupyter-widgets/controls",
          "model_module_version": "1.5.0",
          "model_name": "DescriptionStyleModel",
          "state": {
            "_model_module": "@jupyter-widgets/controls",
            "_model_module_version": "1.5.0",
            "_model_name": "DescriptionStyleModel",
            "_view_count": null,
            "_view_module": "@jupyter-widgets/base",
            "_view_module_version": "1.2.0",
            "_view_name": "StyleView",
            "description_width": ""
          }
        },
        "73750964811a46718455dec433039d75": {
          "model_module": "@jupyter-widgets/controls",
          "model_module_version": "1.5.0",
          "model_name": "HTMLModel",
          "state": {
            "_dom_classes": [],
            "_model_module": "@jupyter-widgets/controls",
            "_model_module_version": "1.5.0",
            "_model_name": "HTMLModel",
            "_view_count": null,
            "_view_module": "@jupyter-widgets/controls",
            "_view_module_version": "1.5.0",
            "_view_name": "HTMLView",
            "description": "",
            "description_tooltip": null,
            "layout": "IPY_MODEL_76cc0f3dc24d422e8df61df6e1a39ffe",
            "placeholder": "​",
            "style": "IPY_MODEL_8a9f2e13ad464586865358724106b3c8",
            "value": " 625/625 [00:00&lt;00:00, 22.0kB/s]"
          }
        },
        "7383e41625034f5da6987fa02efd631e": {
          "model_module": "@jupyter-widgets/controls",
          "model_module_version": "1.5.0",
          "model_name": "HTMLModel",
          "state": {
            "_dom_classes": [],
            "_model_module": "@jupyter-widgets/controls",
            "_model_module_version": "1.5.0",
            "_model_name": "HTMLModel",
            "_view_count": null,
            "_view_module": "@jupyter-widgets/controls",
            "_view_module_version": "1.5.0",
            "_view_name": "HTMLView",
            "description": "",
            "description_tooltip": null,
            "layout": "IPY_MODEL_693b713f5fd24be78b5b6a9e683a3d74",
            "placeholder": "​",
            "style": "IPY_MODEL_e2924a66be4e464cb03050c2cff1190a",
            "value": "vocab.txt: 100%"
          }
        },
        "76cc0f3dc24d422e8df61df6e1a39ffe": {
          "model_module": "@jupyter-widgets/base",
          "model_module_version": "1.2.0",
          "model_name": "LayoutModel",
          "state": {
            "_model_module": "@jupyter-widgets/base",
            "_model_module_version": "1.2.0",
            "_model_name": "LayoutModel",
            "_view_count": null,
            "_view_module": "@jupyter-widgets/base",
            "_view_module_version": "1.2.0",
            "_view_name": "LayoutView",
            "align_content": null,
            "align_items": null,
            "align_self": null,
            "border": null,
            "bottom": null,
            "display": null,
            "flex": null,
            "flex_flow": null,
            "grid_area": null,
            "grid_auto_columns": null,
            "grid_auto_flow": null,
            "grid_auto_rows": null,
            "grid_column": null,
            "grid_gap": null,
            "grid_row": null,
            "grid_template_areas": null,
            "grid_template_columns": null,
            "grid_template_rows": null,
            "height": null,
            "justify_content": null,
            "justify_items": null,
            "left": null,
            "margin": null,
            "max_height": null,
            "max_width": null,
            "min_height": null,
            "min_width": null,
            "object_fit": null,
            "object_position": null,
            "order": null,
            "overflow": null,
            "overflow_x": null,
            "overflow_y": null,
            "padding": null,
            "right": null,
            "top": null,
            "visibility": null,
            "width": null
          }
        },
        "80e1769369f04c12bff334caf6d764c9": {
          "model_module": "@jupyter-widgets/controls",
          "model_module_version": "1.5.0",
          "model_name": "FloatProgressModel",
          "state": {
            "_dom_classes": [],
            "_model_module": "@jupyter-widgets/controls",
            "_model_module_version": "1.5.0",
            "_model_name": "FloatProgressModel",
            "_view_count": null,
            "_view_module": "@jupyter-widgets/controls",
            "_view_module_version": "1.5.0",
            "_view_name": "ProgressView",
            "bar_style": "success",
            "description": "",
            "description_tooltip": null,
            "layout": "IPY_MODEL_5d458f336d344653bc9f53f27005b0c9",
            "max": 1961828,
            "min": 0,
            "orientation": "horizontal",
            "style": "IPY_MODEL_0af93d756bb24e3a871aa2a976464512",
            "value": 1961828
          }
        },
        "82895d1e54b748c3ac330c5dc26889a4": {
          "model_module": "@jupyter-widgets/controls",
          "model_module_version": "1.5.0",
          "model_name": "HTMLModel",
          "state": {
            "_dom_classes": [],
            "_model_module": "@jupyter-widgets/controls",
            "_model_module_version": "1.5.0",
            "_model_name": "HTMLModel",
            "_view_count": null,
            "_view_module": "@jupyter-widgets/controls",
            "_view_module_version": "1.5.0",
            "_view_name": "HTMLView",
            "description": "",
            "description_tooltip": null,
            "layout": "IPY_MODEL_c1ec3229aad3479cb11055f4e1c0bfef",
            "placeholder": "​",
            "style": "IPY_MODEL_9e33abc5baa04c1c90e700222525a028",
            "value": " 29.0/29.0 [00:00&lt;00:00, 1.59kB/s]"
          }
        },
        "8935f0fc5fb64d38bb57ab0941736906": {
          "model_module": "@jupyter-widgets/base",
          "model_module_version": "1.2.0",
          "model_name": "LayoutModel",
          "state": {
            "_model_module": "@jupyter-widgets/base",
            "_model_module_version": "1.2.0",
            "_model_name": "LayoutModel",
            "_view_count": null,
            "_view_module": "@jupyter-widgets/base",
            "_view_module_version": "1.2.0",
            "_view_name": "LayoutView",
            "align_content": null,
            "align_items": null,
            "align_self": null,
            "border": null,
            "bottom": null,
            "display": null,
            "flex": null,
            "flex_flow": null,
            "grid_area": null,
            "grid_auto_columns": null,
            "grid_auto_flow": null,
            "grid_auto_rows": null,
            "grid_column": null,
            "grid_gap": null,
            "grid_row": null,
            "grid_template_areas": null,
            "grid_template_columns": null,
            "grid_template_rows": null,
            "height": null,
            "justify_content": null,
            "justify_items": null,
            "left": null,
            "margin": null,
            "max_height": null,
            "max_width": null,
            "min_height": null,
            "min_width": null,
            "object_fit": null,
            "object_position": null,
            "order": null,
            "overflow": null,
            "overflow_x": null,
            "overflow_y": null,
            "padding": null,
            "right": null,
            "top": null,
            "visibility": null,
            "width": null
          }
        },
        "8a9f2e13ad464586865358724106b3c8": {
          "model_module": "@jupyter-widgets/controls",
          "model_module_version": "1.5.0",
          "model_name": "DescriptionStyleModel",
          "state": {
            "_model_module": "@jupyter-widgets/controls",
            "_model_module_version": "1.5.0",
            "_model_name": "DescriptionStyleModel",
            "_view_count": null,
            "_view_module": "@jupyter-widgets/base",
            "_view_module_version": "1.2.0",
            "_view_name": "StyleView",
            "description_width": ""
          }
        },
        "8b175e6740304ca898be38edc33aab9b": {
          "model_module": "@jupyter-widgets/base",
          "model_module_version": "1.2.0",
          "model_name": "LayoutModel",
          "state": {
            "_model_module": "@jupyter-widgets/base",
            "_model_module_version": "1.2.0",
            "_model_name": "LayoutModel",
            "_view_count": null,
            "_view_module": "@jupyter-widgets/base",
            "_view_module_version": "1.2.0",
            "_view_name": "LayoutView",
            "align_content": null,
            "align_items": null,
            "align_self": null,
            "border": null,
            "bottom": null,
            "display": null,
            "flex": null,
            "flex_flow": null,
            "grid_area": null,
            "grid_auto_columns": null,
            "grid_auto_flow": null,
            "grid_auto_rows": null,
            "grid_column": null,
            "grid_gap": null,
            "grid_row": null,
            "grid_template_areas": null,
            "grid_template_columns": null,
            "grid_template_rows": null,
            "height": null,
            "justify_content": null,
            "justify_items": null,
            "left": null,
            "margin": null,
            "max_height": null,
            "max_width": null,
            "min_height": null,
            "min_width": null,
            "object_fit": null,
            "object_position": null,
            "order": null,
            "overflow": null,
            "overflow_x": null,
            "overflow_y": null,
            "padding": null,
            "right": null,
            "top": null,
            "visibility": null,
            "width": null
          }
        },
        "961fe2f24b6b41edb2c7c20f9f876a0f": {
          "model_module": "@jupyter-widgets/base",
          "model_module_version": "1.2.0",
          "model_name": "LayoutModel",
          "state": {
            "_model_module": "@jupyter-widgets/base",
            "_model_module_version": "1.2.0",
            "_model_name": "LayoutModel",
            "_view_count": null,
            "_view_module": "@jupyter-widgets/base",
            "_view_module_version": "1.2.0",
            "_view_name": "LayoutView",
            "align_content": null,
            "align_items": null,
            "align_self": null,
            "border": null,
            "bottom": null,
            "display": null,
            "flex": null,
            "flex_flow": null,
            "grid_area": null,
            "grid_auto_columns": null,
            "grid_auto_flow": null,
            "grid_auto_rows": null,
            "grid_column": null,
            "grid_gap": null,
            "grid_row": null,
            "grid_template_areas": null,
            "grid_template_columns": null,
            "grid_template_rows": null,
            "height": null,
            "justify_content": null,
            "justify_items": null,
            "left": null,
            "margin": null,
            "max_height": null,
            "max_width": null,
            "min_height": null,
            "min_width": null,
            "object_fit": null,
            "object_position": null,
            "order": null,
            "overflow": null,
            "overflow_x": null,
            "overflow_y": null,
            "padding": null,
            "right": null,
            "top": null,
            "visibility": null,
            "width": null
          }
        },
        "974b77df2d6744a4baa05daaf4025751": {
          "model_module": "@jupyter-widgets/base",
          "model_module_version": "1.2.0",
          "model_name": "LayoutModel",
          "state": {
            "_model_module": "@jupyter-widgets/base",
            "_model_module_version": "1.2.0",
            "_model_name": "LayoutModel",
            "_view_count": null,
            "_view_module": "@jupyter-widgets/base",
            "_view_module_version": "1.2.0",
            "_view_name": "LayoutView",
            "align_content": null,
            "align_items": null,
            "align_self": null,
            "border": null,
            "bottom": null,
            "display": null,
            "flex": null,
            "flex_flow": null,
            "grid_area": null,
            "grid_auto_columns": null,
            "grid_auto_flow": null,
            "grid_auto_rows": null,
            "grid_column": null,
            "grid_gap": null,
            "grid_row": null,
            "grid_template_areas": null,
            "grid_template_columns": null,
            "grid_template_rows": null,
            "height": null,
            "justify_content": null,
            "justify_items": null,
            "left": null,
            "margin": null,
            "max_height": null,
            "max_width": null,
            "min_height": null,
            "min_width": null,
            "object_fit": null,
            "object_position": null,
            "order": null,
            "overflow": null,
            "overflow_x": null,
            "overflow_y": null,
            "padding": null,
            "right": null,
            "top": null,
            "visibility": null,
            "width": null
          }
        },
        "9823d573f3cf4ef69cb497c667efd694": {
          "model_module": "@jupyter-widgets/base",
          "model_module_version": "1.2.0",
          "model_name": "LayoutModel",
          "state": {
            "_model_module": "@jupyter-widgets/base",
            "_model_module_version": "1.2.0",
            "_model_name": "LayoutModel",
            "_view_count": null,
            "_view_module": "@jupyter-widgets/base",
            "_view_module_version": "1.2.0",
            "_view_name": "LayoutView",
            "align_content": null,
            "align_items": null,
            "align_self": null,
            "border": null,
            "bottom": null,
            "display": null,
            "flex": null,
            "flex_flow": null,
            "grid_area": null,
            "grid_auto_columns": null,
            "grid_auto_flow": null,
            "grid_auto_rows": null,
            "grid_column": null,
            "grid_gap": null,
            "grid_row": null,
            "grid_template_areas": null,
            "grid_template_columns": null,
            "grid_template_rows": null,
            "height": null,
            "justify_content": null,
            "justify_items": null,
            "left": null,
            "margin": null,
            "max_height": null,
            "max_width": null,
            "min_height": null,
            "min_width": null,
            "object_fit": null,
            "object_position": null,
            "order": null,
            "overflow": null,
            "overflow_x": null,
            "overflow_y": null,
            "padding": null,
            "right": null,
            "top": null,
            "visibility": null,
            "width": null
          }
        },
        "9ad01d1f549240eab24cf0fa3d96f914": {
          "model_module": "@jupyter-widgets/controls",
          "model_module_version": "1.5.0",
          "model_name": "HTMLModel",
          "state": {
            "_dom_classes": [],
            "_model_module": "@jupyter-widgets/controls",
            "_model_module_version": "1.5.0",
            "_model_name": "HTMLModel",
            "_view_count": null,
            "_view_module": "@jupyter-widgets/controls",
            "_view_module_version": "1.5.0",
            "_view_name": "HTMLView",
            "description": "",
            "description_tooltip": null,
            "layout": "IPY_MODEL_385340f83b114b27ab5d45d6a8ded671",
            "placeholder": "​",
            "style": "IPY_MODEL_61da01a937174cc3a138fdcac27a6f1b",
            "value": "config.json: 100%"
          }
        },
        "9c51fc01fe6e43afb0a16a79dbcec7f7": {
          "model_module": "@jupyter-widgets/controls",
          "model_module_version": "1.5.0",
          "model_name": "HTMLModel",
          "state": {
            "_dom_classes": [],
            "_model_module": "@jupyter-widgets/controls",
            "_model_module_version": "1.5.0",
            "_model_name": "HTMLModel",
            "_view_count": null,
            "_view_module": "@jupyter-widgets/controls",
            "_view_module_version": "1.5.0",
            "_view_name": "HTMLView",
            "description": "",
            "description_tooltip": null,
            "layout": "IPY_MODEL_31f33035bd4549fbbca312fd92854e2e",
            "placeholder": "​",
            "style": "IPY_MODEL_6cace41051614f30bafa066328c26425",
            "value": "tokenizer.json: 100%"
          }
        },
        "9e33abc5baa04c1c90e700222525a028": {
          "model_module": "@jupyter-widgets/controls",
          "model_module_version": "1.5.0",
          "model_name": "DescriptionStyleModel",
          "state": {
            "_model_module": "@jupyter-widgets/controls",
            "_model_module_version": "1.5.0",
            "_model_name": "DescriptionStyleModel",
            "_view_count": null,
            "_view_module": "@jupyter-widgets/base",
            "_view_module_version": "1.2.0",
            "_view_name": "StyleView",
            "description_width": ""
          }
        },
        "aa452f5de5d8434883f2b6e897b71711": {
          "model_module": "@jupyter-widgets/base",
          "model_module_version": "1.2.0",
          "model_name": "LayoutModel",
          "state": {
            "_model_module": "@jupyter-widgets/base",
            "_model_module_version": "1.2.0",
            "_model_name": "LayoutModel",
            "_view_count": null,
            "_view_module": "@jupyter-widgets/base",
            "_view_module_version": "1.2.0",
            "_view_name": "LayoutView",
            "align_content": null,
            "align_items": null,
            "align_self": null,
            "border": null,
            "bottom": null,
            "display": null,
            "flex": null,
            "flex_flow": null,
            "grid_area": null,
            "grid_auto_columns": null,
            "grid_auto_flow": null,
            "grid_auto_rows": null,
            "grid_column": null,
            "grid_gap": null,
            "grid_row": null,
            "grid_template_areas": null,
            "grid_template_columns": null,
            "grid_template_rows": null,
            "height": null,
            "justify_content": null,
            "justify_items": null,
            "left": null,
            "margin": null,
            "max_height": null,
            "max_width": null,
            "min_height": null,
            "min_width": null,
            "object_fit": null,
            "object_position": null,
            "order": null,
            "overflow": null,
            "overflow_x": null,
            "overflow_y": null,
            "padding": null,
            "right": null,
            "top": null,
            "visibility": null,
            "width": null
          }
        },
        "ab5485cc4e6d46159e1672710d487b17": {
          "model_module": "@jupyter-widgets/base",
          "model_module_version": "1.2.0",
          "model_name": "LayoutModel",
          "state": {
            "_model_module": "@jupyter-widgets/base",
            "_model_module_version": "1.2.0",
            "_model_name": "LayoutModel",
            "_view_count": null,
            "_view_module": "@jupyter-widgets/base",
            "_view_module_version": "1.2.0",
            "_view_name": "LayoutView",
            "align_content": null,
            "align_items": null,
            "align_self": null,
            "border": null,
            "bottom": null,
            "display": null,
            "flex": null,
            "flex_flow": null,
            "grid_area": null,
            "grid_auto_columns": null,
            "grid_auto_flow": null,
            "grid_auto_rows": null,
            "grid_column": null,
            "grid_gap": null,
            "grid_row": null,
            "grid_template_areas": null,
            "grid_template_columns": null,
            "grid_template_rows": null,
            "height": null,
            "justify_content": null,
            "justify_items": null,
            "left": null,
            "margin": null,
            "max_height": null,
            "max_width": null,
            "min_height": null,
            "min_width": null,
            "object_fit": null,
            "object_position": null,
            "order": null,
            "overflow": null,
            "overflow_x": null,
            "overflow_y": null,
            "padding": null,
            "right": null,
            "top": null,
            "visibility": null,
            "width": null
          }
        },
        "ac92223f5e32493c9673296a10dd4133": {
          "model_module": "@jupyter-widgets/controls",
          "model_module_version": "1.5.0",
          "model_name": "HTMLModel",
          "state": {
            "_dom_classes": [],
            "_model_module": "@jupyter-widgets/controls",
            "_model_module_version": "1.5.0",
            "_model_name": "HTMLModel",
            "_view_count": null,
            "_view_module": "@jupyter-widgets/controls",
            "_view_module_version": "1.5.0",
            "_view_name": "HTMLView",
            "description": "",
            "description_tooltip": null,
            "layout": "IPY_MODEL_961fe2f24b6b41edb2c7c20f9f876a0f",
            "placeholder": "​",
            "style": "IPY_MODEL_da0478f8361040cf8e12ff57722129e8",
            "value": "config.json: 100%"
          }
        },
        "ae4600d968094423a76a5cf92129adab": {
          "model_module": "@jupyter-widgets/controls",
          "model_module_version": "1.5.0",
          "model_name": "HBoxModel",
          "state": {
            "_dom_classes": [],
            "_model_module": "@jupyter-widgets/controls",
            "_model_module_version": "1.5.0",
            "_model_name": "HBoxModel",
            "_view_count": null,
            "_view_module": "@jupyter-widgets/controls",
            "_view_module_version": "1.5.0",
            "_view_name": "HBoxView",
            "box_style": "",
            "children": [
              "IPY_MODEL_c35486407e81445bb6bb61b04e1fa145",
              "IPY_MODEL_f44fae2d12e64a878b391cb1a78a06b6",
              "IPY_MODEL_f63146eba1104c7b8eaf177981544458"
            ],
            "layout": "IPY_MODEL_e0bd41bb925547ec95b49f64ffc99f81"
          }
        },
        "bc87219ee330449da09de3c37d8d7b12": {
          "model_module": "@jupyter-widgets/controls",
          "model_module_version": "1.5.0",
          "model_name": "DescriptionStyleModel",
          "state": {
            "_model_module": "@jupyter-widgets/controls",
            "_model_module_version": "1.5.0",
            "_model_name": "DescriptionStyleModel",
            "_view_count": null,
            "_view_module": "@jupyter-widgets/base",
            "_view_module_version": "1.2.0",
            "_view_name": "StyleView",
            "description_width": ""
          }
        },
        "c1ec3229aad3479cb11055f4e1c0bfef": {
          "model_module": "@jupyter-widgets/base",
          "model_module_version": "1.2.0",
          "model_name": "LayoutModel",
          "state": {
            "_model_module": "@jupyter-widgets/base",
            "_model_module_version": "1.2.0",
            "_model_name": "LayoutModel",
            "_view_count": null,
            "_view_module": "@jupyter-widgets/base",
            "_view_module_version": "1.2.0",
            "_view_name": "LayoutView",
            "align_content": null,
            "align_items": null,
            "align_self": null,
            "border": null,
            "bottom": null,
            "display": null,
            "flex": null,
            "flex_flow": null,
            "grid_area": null,
            "grid_auto_columns": null,
            "grid_auto_flow": null,
            "grid_auto_rows": null,
            "grid_column": null,
            "grid_gap": null,
            "grid_row": null,
            "grid_template_areas": null,
            "grid_template_columns": null,
            "grid_template_rows": null,
            "height": null,
            "justify_content": null,
            "justify_items": null,
            "left": null,
            "margin": null,
            "max_height": null,
            "max_width": null,
            "min_height": null,
            "min_width": null,
            "object_fit": null,
            "object_position": null,
            "order": null,
            "overflow": null,
            "overflow_x": null,
            "overflow_y": null,
            "padding": null,
            "right": null,
            "top": null,
            "visibility": null,
            "width": null
          }
        },
        "c35486407e81445bb6bb61b04e1fa145": {
          "model_module": "@jupyter-widgets/controls",
          "model_module_version": "1.5.0",
          "model_name": "HTMLModel",
          "state": {
            "_dom_classes": [],
            "_model_module": "@jupyter-widgets/controls",
            "_model_module_version": "1.5.0",
            "_model_name": "HTMLModel",
            "_view_count": null,
            "_view_module": "@jupyter-widgets/controls",
            "_view_module_version": "1.5.0",
            "_view_name": "HTMLView",
            "description": "",
            "description_tooltip": null,
            "layout": "IPY_MODEL_fc088646b0814afa9bd28f9c07e39f07",
            "placeholder": "​",
            "style": "IPY_MODEL_bc87219ee330449da09de3c37d8d7b12",
            "value": "spiece.model: 100%"
          }
        },
        "c43095e8f44e400ba3cb77bd5e62aaf4": {
          "model_module": "@jupyter-widgets/controls",
          "model_module_version": "1.5.0",
          "model_name": "ProgressStyleModel",
          "state": {
            "_model_module": "@jupyter-widgets/controls",
            "_model_module_version": "1.5.0",
            "_model_name": "ProgressStyleModel",
            "_view_count": null,
            "_view_module": "@jupyter-widgets/base",
            "_view_module_version": "1.2.0",
            "_view_name": "StyleView",
            "bar_color": null,
            "description_width": ""
          }
        },
        "c91fd6d79f404f1da0762bf503e5f61d": {
          "model_module": "@jupyter-widgets/controls",
          "model_module_version": "1.5.0",
          "model_name": "HTMLModel",
          "state": {
            "_dom_classes": [],
            "_model_module": "@jupyter-widgets/controls",
            "_model_module_version": "1.5.0",
            "_model_name": "HTMLModel",
            "_view_count": null,
            "_view_module": "@jupyter-widgets/controls",
            "_view_module_version": "1.5.0",
            "_view_name": "HTMLView",
            "description": "",
            "description_tooltip": null,
            "layout": "IPY_MODEL_cff7299cff4d436aa92a39458af240c2",
            "placeholder": "​",
            "style": "IPY_MODEL_4c4b7ac593fb437ebc095d8b80e04c9d",
            "value": " 507/507 [00:00&lt;00:00, 29.6kB/s]"
          }
        },
        "cff7299cff4d436aa92a39458af240c2": {
          "model_module": "@jupyter-widgets/base",
          "model_module_version": "1.2.0",
          "model_name": "LayoutModel",
          "state": {
            "_model_module": "@jupyter-widgets/base",
            "_model_module_version": "1.2.0",
            "_model_name": "LayoutModel",
            "_view_count": null,
            "_view_module": "@jupyter-widgets/base",
            "_view_module_version": "1.2.0",
            "_view_name": "LayoutView",
            "align_content": null,
            "align_items": null,
            "align_self": null,
            "border": null,
            "bottom": null,
            "display": null,
            "flex": null,
            "flex_flow": null,
            "grid_area": null,
            "grid_auto_columns": null,
            "grid_auto_flow": null,
            "grid_auto_rows": null,
            "grid_column": null,
            "grid_gap": null,
            "grid_row": null,
            "grid_template_areas": null,
            "grid_template_columns": null,
            "grid_template_rows": null,
            "height": null,
            "justify_content": null,
            "justify_items": null,
            "left": null,
            "margin": null,
            "max_height": null,
            "max_width": null,
            "min_height": null,
            "min_width": null,
            "object_fit": null,
            "object_position": null,
            "order": null,
            "overflow": null,
            "overflow_x": null,
            "overflow_y": null,
            "padding": null,
            "right": null,
            "top": null,
            "visibility": null,
            "width": null
          }
        },
        "d89f6141b5174dff88ff28ce8e96e6a6": {
          "model_module": "@jupyter-widgets/base",
          "model_module_version": "1.2.0",
          "model_name": "LayoutModel",
          "state": {
            "_model_module": "@jupyter-widgets/base",
            "_model_module_version": "1.2.0",
            "_model_name": "LayoutModel",
            "_view_count": null,
            "_view_module": "@jupyter-widgets/base",
            "_view_module_version": "1.2.0",
            "_view_name": "LayoutView",
            "align_content": null,
            "align_items": null,
            "align_self": null,
            "border": null,
            "bottom": null,
            "display": null,
            "flex": null,
            "flex_flow": null,
            "grid_area": null,
            "grid_auto_columns": null,
            "grid_auto_flow": null,
            "grid_auto_rows": null,
            "grid_column": null,
            "grid_gap": null,
            "grid_row": null,
            "grid_template_areas": null,
            "grid_template_columns": null,
            "grid_template_rows": null,
            "height": null,
            "justify_content": null,
            "justify_items": null,
            "left": null,
            "margin": null,
            "max_height": null,
            "max_width": null,
            "min_height": null,
            "min_width": null,
            "object_fit": null,
            "object_position": null,
            "order": null,
            "overflow": null,
            "overflow_x": null,
            "overflow_y": null,
            "padding": null,
            "right": null,
            "top": null,
            "visibility": null,
            "width": null
          }
        },
        "da0478f8361040cf8e12ff57722129e8": {
          "model_module": "@jupyter-widgets/controls",
          "model_module_version": "1.5.0",
          "model_name": "DescriptionStyleModel",
          "state": {
            "_model_module": "@jupyter-widgets/controls",
            "_model_module_version": "1.5.0",
            "_model_name": "DescriptionStyleModel",
            "_view_count": null,
            "_view_module": "@jupyter-widgets/base",
            "_view_module_version": "1.2.0",
            "_view_name": "StyleView",
            "description_width": ""
          }
        },
        "df7972dfe833458b8a83895996f642eb": {
          "model_module": "@jupyter-widgets/controls",
          "model_module_version": "1.5.0",
          "model_name": "ProgressStyleModel",
          "state": {
            "_model_module": "@jupyter-widgets/controls",
            "_model_module_version": "1.5.0",
            "_model_name": "ProgressStyleModel",
            "_view_count": null,
            "_view_module": "@jupyter-widgets/base",
            "_view_module_version": "1.2.0",
            "_view_name": "StyleView",
            "bar_color": null,
            "description_width": ""
          }
        },
        "e0bd41bb925547ec95b49f64ffc99f81": {
          "model_module": "@jupyter-widgets/base",
          "model_module_version": "1.2.0",
          "model_name": "LayoutModel",
          "state": {
            "_model_module": "@jupyter-widgets/base",
            "_model_module_version": "1.2.0",
            "_model_name": "LayoutModel",
            "_view_count": null,
            "_view_module": "@jupyter-widgets/base",
            "_view_module_version": "1.2.0",
            "_view_name": "LayoutView",
            "align_content": null,
            "align_items": null,
            "align_self": null,
            "border": null,
            "bottom": null,
            "display": null,
            "flex": null,
            "flex_flow": null,
            "grid_area": null,
            "grid_auto_columns": null,
            "grid_auto_flow": null,
            "grid_auto_rows": null,
            "grid_column": null,
            "grid_gap": null,
            "grid_row": null,
            "grid_template_areas": null,
            "grid_template_columns": null,
            "grid_template_rows": null,
            "height": null,
            "justify_content": null,
            "justify_items": null,
            "left": null,
            "margin": null,
            "max_height": null,
            "max_width": null,
            "min_height": null,
            "min_width": null,
            "object_fit": null,
            "object_position": null,
            "order": null,
            "overflow": null,
            "overflow_x": null,
            "overflow_y": null,
            "padding": null,
            "right": null,
            "top": null,
            "visibility": null,
            "width": null
          }
        },
        "e1241a12a98f46058fbf6413178240ca": {
          "model_module": "@jupyter-widgets/base",
          "model_module_version": "1.2.0",
          "model_name": "LayoutModel",
          "state": {
            "_model_module": "@jupyter-widgets/base",
            "_model_module_version": "1.2.0",
            "_model_name": "LayoutModel",
            "_view_count": null,
            "_view_module": "@jupyter-widgets/base",
            "_view_module_version": "1.2.0",
            "_view_name": "LayoutView",
            "align_content": null,
            "align_items": null,
            "align_self": null,
            "border": null,
            "bottom": null,
            "display": null,
            "flex": null,
            "flex_flow": null,
            "grid_area": null,
            "grid_auto_columns": null,
            "grid_auto_flow": null,
            "grid_auto_rows": null,
            "grid_column": null,
            "grid_gap": null,
            "grid_row": null,
            "grid_template_areas": null,
            "grid_template_columns": null,
            "grid_template_rows": null,
            "height": null,
            "justify_content": null,
            "justify_items": null,
            "left": null,
            "margin": null,
            "max_height": null,
            "max_width": null,
            "min_height": null,
            "min_width": null,
            "object_fit": null,
            "object_position": null,
            "order": null,
            "overflow": null,
            "overflow_x": null,
            "overflow_y": null,
            "padding": null,
            "right": null,
            "top": null,
            "visibility": null,
            "width": null
          }
        },
        "e2924a66be4e464cb03050c2cff1190a": {
          "model_module": "@jupyter-widgets/controls",
          "model_module_version": "1.5.0",
          "model_name": "DescriptionStyleModel",
          "state": {
            "_model_module": "@jupyter-widgets/controls",
            "_model_module_version": "1.5.0",
            "_model_name": "DescriptionStyleModel",
            "_view_count": null,
            "_view_module": "@jupyter-widgets/base",
            "_view_module_version": "1.2.0",
            "_view_name": "StyleView",
            "description_width": ""
          }
        },
        "e43aed80dd5349e7871fdf19e166010b": {
          "model_module": "@jupyter-widgets/controls",
          "model_module_version": "1.5.0",
          "model_name": "DescriptionStyleModel",
          "state": {
            "_model_module": "@jupyter-widgets/controls",
            "_model_module_version": "1.5.0",
            "_model_name": "DescriptionStyleModel",
            "_view_count": null,
            "_view_module": "@jupyter-widgets/base",
            "_view_module_version": "1.2.0",
            "_view_name": "StyleView",
            "description_width": ""
          }
        },
        "e8b16e8932294623a4d5c68a3b1b5b4e": {
          "model_module": "@jupyter-widgets/controls",
          "model_module_version": "1.5.0",
          "model_name": "DescriptionStyleModel",
          "state": {
            "_model_module": "@jupyter-widgets/controls",
            "_model_module_version": "1.5.0",
            "_model_name": "DescriptionStyleModel",
            "_view_count": null,
            "_view_module": "@jupyter-widgets/base",
            "_view_module_version": "1.2.0",
            "_view_name": "StyleView",
            "description_width": ""
          }
        },
        "f44fae2d12e64a878b391cb1a78a06b6": {
          "model_module": "@jupyter-widgets/controls",
          "model_module_version": "1.5.0",
          "model_name": "FloatProgressModel",
          "state": {
            "_dom_classes": [],
            "_model_module": "@jupyter-widgets/controls",
            "_model_module_version": "1.5.0",
            "_model_name": "FloatProgressModel",
            "_view_count": null,
            "_view_module": "@jupyter-widgets/controls",
            "_view_module_version": "1.5.0",
            "_view_name": "ProgressView",
            "bar_style": "success",
            "description": "",
            "description_tooltip": null,
            "layout": "IPY_MODEL_3fbf94dcbb8a4110bf8c7bdded9b6228",
            "max": 5646064,
            "min": 0,
            "orientation": "horizontal",
            "style": "IPY_MODEL_37fe4137afa8485ba8c9b3cf018e0f4b",
            "value": 5646064
          }
        },
        "f4749bc236a24ac99579106b22734bd5": {
          "model_module": "@jupyter-widgets/base",
          "model_module_version": "1.2.0",
          "model_name": "LayoutModel",
          "state": {
            "_model_module": "@jupyter-widgets/base",
            "_model_module_version": "1.2.0",
            "_model_name": "LayoutModel",
            "_view_count": null,
            "_view_module": "@jupyter-widgets/base",
            "_view_module_version": "1.2.0",
            "_view_name": "LayoutView",
            "align_content": null,
            "align_items": null,
            "align_self": null,
            "border": null,
            "bottom": null,
            "display": null,
            "flex": null,
            "flex_flow": null,
            "grid_area": null,
            "grid_auto_columns": null,
            "grid_auto_flow": null,
            "grid_auto_rows": null,
            "grid_column": null,
            "grid_gap": null,
            "grid_row": null,
            "grid_template_areas": null,
            "grid_template_columns": null,
            "grid_template_rows": null,
            "height": null,
            "justify_content": null,
            "justify_items": null,
            "left": null,
            "margin": null,
            "max_height": null,
            "max_width": null,
            "min_height": null,
            "min_width": null,
            "object_fit": null,
            "object_position": null,
            "order": null,
            "overflow": null,
            "overflow_x": null,
            "overflow_y": null,
            "padding": null,
            "right": null,
            "top": null,
            "visibility": null,
            "width": null
          }
        },
        "f63146eba1104c7b8eaf177981544458": {
          "model_module": "@jupyter-widgets/controls",
          "model_module_version": "1.5.0",
          "model_name": "HTMLModel",
          "state": {
            "_dom_classes": [],
            "_model_module": "@jupyter-widgets/controls",
            "_model_module_version": "1.5.0",
            "_model_name": "HTMLModel",
            "_view_count": null,
            "_view_module": "@jupyter-widgets/controls",
            "_view_module_version": "1.5.0",
            "_view_name": "HTMLView",
            "description": "",
            "description_tooltip": null,
            "layout": "IPY_MODEL_0ab5808659c0446a92e2e588a2c1ec22",
            "placeholder": "​",
            "style": "IPY_MODEL_15b3e0d4813e4f5d91a8af3f8328591b",
            "value": " 5.65M/5.65M [00:00&lt;00:00, 36.9MB/s]"
          }
        },
        "fc088646b0814afa9bd28f9c07e39f07": {
          "model_module": "@jupyter-widgets/base",
          "model_module_version": "1.2.0",
          "model_name": "LayoutModel",
          "state": {
            "_model_module": "@jupyter-widgets/base",
            "_model_module_version": "1.2.0",
            "_model_name": "LayoutModel",
            "_view_count": null,
            "_view_module": "@jupyter-widgets/base",
            "_view_module_version": "1.2.0",
            "_view_name": "LayoutView",
            "align_content": null,
            "align_items": null,
            "align_self": null,
            "border": null,
            "bottom": null,
            "display": null,
            "flex": null,
            "flex_flow": null,
            "grid_area": null,
            "grid_auto_columns": null,
            "grid_auto_flow": null,
            "grid_auto_rows": null,
            "grid_column": null,
            "grid_gap": null,
            "grid_row": null,
            "grid_template_areas": null,
            "grid_template_columns": null,
            "grid_template_rows": null,
            "height": null,
            "justify_content": null,
            "justify_items": null,
            "left": null,
            "margin": null,
            "max_height": null,
            "max_width": null,
            "min_height": null,
            "min_width": null,
            "object_fit": null,
            "object_position": null,
            "order": null,
            "overflow": null,
            "overflow_x": null,
            "overflow_y": null,
            "padding": null,
            "right": null,
            "top": null,
            "visibility": null,
            "width": null
          }
        }
      }
    }
  },
  "nbformat": 4,
  "nbformat_minor": 5
}