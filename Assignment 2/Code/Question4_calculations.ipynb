{
  "cells": [
    {
      "cell_type": "code",
      "execution_count": 9,
      "id": "93af4323-72bc-49a0-b2a5-ac121076d717",
      "metadata": {
        "id": "93af4323-72bc-49a0-b2a5-ac121076d717"
      },
      "outputs": [],
      "source": [
        "# Read the data from the file   Manual Answers\n",
        "with open(\"Q1_ans_manually.txt\", \"r\") as file:\n",
        "    data = file.read()\n",
        "lines = data.split(\"\\n\")\n",
        "list_of_manual_ans = [line.split() for line in lines]\n",
        "\n",
        "for i in range(len(list_of_manual_ans)):\n",
        "    for j in range(len(list_of_manual_ans[i])):\n",
        "        if list_of_manual_ans[i][j] == 'B-MISC' or list_of_manual_ans[i][j] == 'I-MISC':\n",
        "            list_of_manual_ans[i][j] = 'MISC'\n",
        "        elif list_of_manual_ans[i][j] == 'B-PER' or list_of_manual_ans[i][j] == 'I-PER':\n",
        "            list_of_manual_ans[i][j] = 'PER'\n",
        "        elif list_of_manual_ans[i][j] == 'B-ORG' or list_of_manual_ans[i][j] == 'I-ORG':\n",
        "            list_of_manual_ans[i][j] = 'ORG'\n",
        "        elif list_of_manual_ans[i][j] == 'B-LOC' or list_of_manual_ans[i][j] == 'I-LOC':\n",
        "            list_of_manual_ans[i][j] = 'LOC'\n",
        "\n",
        "# print(list_of_manual_ans)\n"
      ]
    },
    {
      "cell_type": "code",
      "execution_count": 10,
      "id": "63f34dd6-486d-400d-b0e9-18f3eace83d5",
      "metadata": {
        "id": "63f34dd6-486d-400d-b0e9-18f3eace83d5"
      },
      "outputs": [],
      "source": [
        "# Read the data from the file  ChatGPT Answers\n",
        "with open(\"Q1_chatgpt_ans.txt\", \"r\") as file:\n",
        "    data = file.read()\n",
        "lines = data.split(\"\\n\")\n",
        "list_of_chatgpt_ans = [line.split() for line in lines]\n",
        "\n",
        "for i in range(len(list_of_chatgpt_ans)):\n",
        "    for j in range(len(list_of_chatgpt_ans[i])):\n",
        "        if list_of_chatgpt_ans[i][j] == 'B-MISC' or list_of_chatgpt_ans[i][j] == 'I-MISC':\n",
        "            list_of_chatgpt_ans[i][j] = 'MISC'\n",
        "        elif list_of_chatgpt_ans[i][j] == 'B-PER' or list_of_chatgpt_ans[i][j] == 'I-PER':\n",
        "            list_of_chatgpt_ans[i][j] = 'PER'\n",
        "        elif list_of_chatgpt_ans[i][j] == 'B-ORG' or list_of_chatgpt_ans[i][j] == 'I-ORG':\n",
        "            list_of_chatgpt_ans[i][j] = 'ORG'\n",
        "        elif list_of_chatgpt_ans[i][j] == 'B-LOC' or list_of_chatgpt_ans[i][j] == 'I-LOC':\n",
        "            list_of_chatgpt_ans[i][j] = 'LOC'\n",
        "\n",
        "# print(list_of_chatgpt_ans)"
      ]
    },
    {
      "cell_type": "code",
      "execution_count": 11,
      "id": "5e71e98d-3f8c-4224-bb61-1fa66d61ca05",
      "metadata": {
        "id": "5e71e98d-3f8c-4224-bb61-1fa66d61ca05"
      },
      "outputs": [],
      "source": [
        "# IndicBert Model Predicted Answers\n",
        "Q1_indicbert_ans = [['O', 'O', 'O', 'O', 'B-ORG', 'I-ORG', 'I-ORG', 'O', 'B-LOC', 'O', 'O', 'O', 'O', 'O', 'O', 'O', 'O'], ['O', 'O', 'O', 'O', 'O', 'O', 'O', 'O', 'O', 'B-LOC', 'O', 'I-ORG', 'I-ORG', 'O', 'O', 'O', 'O', 'B-PER', 'I-PER', 'I-PER', 'O', 'O', 'O', 'O'], ['O', 'O', 'O', 'O', 'O', 'O', 'O', 'O', 'O', 'O', 'O', 'O', 'O', 'O', 'O', 'O', 'O', 'O', 'O', 'O'], ['O', 'O', 'O', 'B-LOC', 'I-LOC', 'O', 'B-PER', 'O', 'O', 'O', 'O'], ['O', 'O', 'O', 'B-PER', 'I-PER', 'O', 'O', 'O', 'O', 'O'], ['O', 'B-LOC', 'O', 'B-PER', 'I-PER', 'O', 'O', 'O', 'O', 'O', 'O'], ['O', 'O', 'O', 'O', 'O', 'O', 'O', 'O', 'O', 'O', 'O', 'O', 'O', 'O', 'O'], ['O', 'O', 'O', 'O', 'O', 'O', 'O', 'O', 'O', 'O', 'O', 'O', 'O', 'O', 'O', 'O', 'O', 'O', 'O'], ['B-ORG', 'O', 'O', 'O', 'O', 'O', 'O', 'O', 'O', 'O', 'O', 'O', 'O', 'O', 'O', 'O'], ['O', 'O', 'O', 'O', 'O', 'O', 'B-PER', 'I-PER', 'I-PER', 'O', 'O', 'O', 'O', 'O', 'O', 'O', 'O', 'I-PER', 'O', 'O', 'O', 'O', 'O', 'O', 'B-LOC', 'O', 'O', 'O'], ['O', 'O', 'O', 'O', 'O', 'O', 'O', 'O', 'O', 'O'], ['O', 'O', 'O', 'O', 'O', 'O', 'O', 'O', 'O', 'O'], ['O', 'O', 'B-PER', 'I-PER', 'O', 'O', 'O', 'O', 'O', 'O', 'O'], ['B-ORG', 'I-ORG', 'O', 'O', 'O', 'O', 'O', 'O', 'O', 'O'], ['O', 'O', 'O', 'O', 'O', 'O', 'O', 'O', 'O', 'O', 'O'], ['O', 'O', 'O', 'O', 'O', 'O', 'O', 'O', 'O', 'O', 'O'], ['B-LOC', 'O', 'O', 'O', 'O', 'O', 'O', 'O', 'O', 'O', 'O', 'O', 'O', 'O', 'O', 'O'], ['O', 'O', 'O', 'O', 'O', 'O', 'O', 'O', 'O', 'O', 'O', 'O', 'O'], ['O', 'O', 'O', 'O', 'O', 'O', 'O', 'O', 'O', 'O', 'O', 'O', 'O', 'O', 'O', 'O', 'O', 'O', 'O', 'O'], ['O', 'O', 'O', 'O', 'O', 'O', 'O', 'O', 'O', 'O', 'O', 'O'], ['B-PER', 'O', 'O', 'B-ORG', 'O', 'B-ORG', 'I-ORG', 'O', 'O', 'O'], ['B-PER', 'O', 'O', 'O', 'O', 'O', 'O', 'O', 'O', 'O', 'O', 'O', 'O', 'O', 'O', 'O', 'O', 'O', 'O', 'O', 'O', 'O'], ['O', 'O', 'O', 'O', 'O', 'O', 'O', 'O', 'O', 'O', 'O', 'O', 'O', 'O', 'O', 'O', 'O', 'O', 'O'], ['O', 'O', 'I-ORG', 'B-ORG', 'O', 'O', 'O', 'O', 'O', 'B-ORG', 'O', 'O', 'O', 'O', 'O', 'O', 'O', 'O', 'O', 'O', 'O', 'O', 'O', 'O', 'O', 'O', 'B-ORG', 'I-ORG', 'O', 'O', 'O', 'B-PER', 'I-PER', 'O', 'O', 'O', 'O'], ['O', 'O', 'O', 'B-ORG', 'I-ORG', 'O', 'O', 'O', 'O', 'O', 'O', 'O', 'O', 'O', 'O', 'O', 'O', 'O', 'O', 'O', 'O', 'O', 'O', 'O', 'O', 'O', 'B-PER', 'I-PER']]\n",
        "\n",
        "\n",
        "for i in range(len(Q1_indicbert_ans)):\n",
        "    for j in range(len(Q1_indicbert_ans[i])):\n",
        "        if Q1_indicbert_ans[i][j] == 'B-MISC' or Q1_indicbert_ans[i][j] == 'I-MISC':\n",
        "            Q1_indicbert_ans[i][j] = 'MISC'\n",
        "        elif Q1_indicbert_ans[i][j] == 'B-PER' or Q1_indicbert_ans[i][j] == 'I-PER':\n",
        "            Q1_indicbert_ans[i][j] = 'PER'\n",
        "        elif Q1_indicbert_ans[i][j] == 'B-ORG' or Q1_indicbert_ans[i][j] == 'I-ORG':\n",
        "            Q1_indicbert_ans[i][j] = 'ORG'\n",
        "        elif Q1_indicbert_ans[i][j] == 'B-LOC' or Q1_indicbert_ans[i][j] == 'I-LOC':\n",
        "            Q1_indicbert_ans[i][j] = 'LOC'\n",
        "\n",
        "# print(Q1_indicbert_ans)"
      ]
    },
    {
      "cell_type": "code",
      "execution_count": 12,
      "id": "33fa9c3b-d1ef-412f-be56-270c6573d9a8",
      "metadata": {
        "id": "33fa9c3b-d1ef-412f-be56-270c6573d9a8"
      },
      "outputs": [],
      "source": [
        "# IndicBert Model Predicted Answers\n",
        "Q1_indicNer_ans = [['O', 'O', 'O', 'O', 'B-ORG', 'I-ORG', 'I-ORG', 'O', 'B-LOC', 'I-ORG', 'O', 'O', 'O', 'O', 'O', 'O', 'O'], ['O', 'O', 'O', 'O', 'O', 'O', 'O', 'O', 'O', 'B-ORG', 'I-ORG', 'I-ORG', 'I-ORG', 'O', 'O', 'O', 'O', 'B-PER', 'I-PER', 'O', 'O', 'O', 'O', 'O'], ['O', 'O', 'O', 'O', 'O', 'O', 'O', 'O', 'O', 'O', 'O', 'O', 'O', 'O', 'O', 'O', 'O', 'O', 'O', 'O'], ['B-PER', 'O', 'O', 'B-LOC', 'O', 'O', 'O', 'O', 'O', 'O', 'O'], ['O', 'O', 'O', 'B-PER', 'I-PER', 'I-PER', 'O', 'O', 'O', 'O'], ['O', 'B-LOC', 'O', 'B-LOC', 'I-LOC', 'O', 'O', 'O', 'O', 'O', 'O'], ['B-PER', 'O', 'O', 'O', 'O', 'O', 'O', 'O', 'O', 'O', 'O', 'O', 'O', 'O', 'O'], ['O', 'O', 'O', 'O', 'O', 'O', 'O', 'O', 'O', 'O', 'O', 'O', 'O', 'B-ORG', 'O', 'O', 'O', 'O', 'O'], ['B-ORG', 'O', 'O', 'O', 'O', 'B-PER', 'O', 'B-PER', 'O', 'O', 'O', 'O', 'O', 'O', 'O', 'O'], ['O', 'B-LOC', 'O', 'O', 'B-LOC', 'O', 'O', 'I-PER', 'I-PER', 'O', 'O', 'O', 'O', 'O', 'O', 'O', 'B-ORG', 'O', 'O', 'O', 'O', 'O', 'O', 'B-LOC', 'O', 'B-PER', 'I-PER', 'O'], ['O', 'O', 'O', 'B-PER', 'O', 'O', 'O', 'O', 'O', 'O'], ['O', 'O', 'O', 'O', 'O', 'O', 'O', 'O', 'O', 'O'], ['B-LOC', 'O', 'O', 'O', 'O', 'O', 'O', 'O', 'B-PER', 'O', 'O'], ['B-ORG', 'I-ORG', 'O', 'O', 'O', 'O', 'O', 'O', 'O', 'O'], ['O', 'O', 'O', 'O', 'O', 'O', 'O', 'O', 'O', 'O', 'O'], ['O', 'O', 'O', 'O', 'O', 'O', 'O', 'O', 'O', 'O', 'O'], ['B-LOC', 'O', 'O', 'O', 'O', 'O', 'O', 'O', 'O', 'O', 'O', 'O', 'O', 'O', 'O', 'O'], ['O', 'O', 'O', 'O', 'O', 'O', 'O', 'O', 'O', 'O', 'O', 'O', 'O'], ['O', 'O', 'O', 'B-PER', 'O', 'O', 'O', 'O', 'O', 'O', 'O', 'O', 'O', 'O', 'O', 'O', 'O', 'O', 'O', 'O'], ['O', 'O', 'O', 'O', 'O', 'O', 'O', 'O', 'O', 'O', 'O', 'O'], ['O', 'O', 'O', 'B-ORG', 'O', 'B-ORG', 'I-ORG', 'O', 'O', 'O'], ['B-PER', 'I-PER', 'O', 'O', 'O', 'O', 'O', 'O', 'B-ORG', 'I-ORG', 'O', 'O', 'O', 'B-PER', 'O', 'O', 'O', 'O', 'O', 'O', 'O', 'O'], ['O', 'O', 'O', 'O', 'O', 'O', 'O', 'O', 'O', 'O', 'O', 'O', 'O', 'O', 'O', 'O', 'O', 'O', 'O'], ['O', 'O', 'O', 'O', 'O', 'O', 'O', 'O', 'O', 'O', 'O', 'B-ORG', 'O', 'O', 'O', 'O', 'O', 'O', 'O', 'O', 'O', 'O', 'O', 'O', 'O', 'B-ORG', 'I-ORG', 'I-ORG', 'I-ORG', 'I-ORG', 'O', 'O', 'O', 'B-PER', 'I-PER', 'O', 'O'], ['O', 'O', 'O', 'B-ORG', 'I-ORG', 'O', 'O', 'O', 'O', 'O', 'O', 'O', 'O', 'O', 'O', 'O', 'O', 'O', 'O', 'O', 'O', 'O', 'O', 'O', 'O', 'O', 'O', 'B-PER']]\n",
        "\n",
        "for i in range(len(Q1_indicNer_ans)):\n",
        "    for j in range(len(Q1_indicNer_ans[i])):\n",
        "        if Q1_indicNer_ans[i][j] == 'B-MISC' or Q1_indicNer_ans[i][j] == 'I-MISC':\n",
        "            Q1_indicNer_ans[i][j] = 'MISC'\n",
        "        elif Q1_indicNer_ans[i][j] == 'B-PER' or Q1_indicNer_ans[i][j] == 'I-PER':\n",
        "            Q1_indicNer_ans[i][j] = 'PER'\n",
        "        elif Q1_indicNer_ans[i][j] == 'B-ORG' or Q1_indicNer_ans[i][j] == 'I-ORG':\n",
        "            Q1_indicNer_ans[i][j] = 'ORG'\n",
        "        elif Q1_indicNer_ans[i][j] == 'B-LOC' or Q1_indicNer_ans[i][j] == 'I-LOC':\n",
        "            Q1_indicNer_ans[i][j] = 'LOC'\n",
        "\n",
        "# print(Q1_indicNer_ans)"
      ]
    },
    {
      "cell_type": "code",
      "execution_count": 13,
      "id": "a76fe182-f0fc-40b4-985d-d83a1a168c4e",
      "metadata": {
        "id": "a76fe182-f0fc-40b4-985d-d83a1a168c4e"
      },
      "outputs": [],
      "source": [
        "def calculate_metrics(manual_labels, model_labels):\n",
        "    classes = ['PER', 'LOC', 'ORG', 'MISC', 'O']\n",
        "    results = {}\n",
        "\n",
        "    for class_name in classes:\n",
        "        true_positives = 0\n",
        "        false_positives = 0\n",
        "        false_negatives = 0\n",
        "\n",
        "        for manual_sent, model_sent in zip(manual_labels, model_labels):\n",
        "            for manual, predicted in zip(manual_sent, model_sent):\n",
        "                if manual == class_name and predicted == class_name:\n",
        "                    true_positives += 1\n",
        "                elif manual != class_name and predicted == class_name:\n",
        "                    false_positives += 1\n",
        "                elif manual == class_name and predicted != class_name:\n",
        "                    false_negatives += 1\n",
        "\n",
        "        precision = true_positives / (true_positives + false_positives) if (true_positives + false_positives) != 0 else 0\n",
        "        recall = true_positives / (true_positives + false_negatives) if (true_positives + false_negatives) != 0 else 0\n",
        "        f1_score = 2 * precision * recall / (precision + recall) if (precision + recall) != 0 else 0\n",
        "\n",
        "        results[class_name] = {'precision': precision, 'recall': recall, 'f1_score': f1_score}\n",
        "\n",
        "    # Calculate macro-F1 score\n",
        "    macro_f1_score = sum(results[class_name]['f1_score'] for class_name in classes) / len(classes)\n",
        "\n",
        "    return results, macro_f1_score\n"
      ]
    },
    {
      "cell_type": "code",
      "execution_count": 14,
      "id": "801e7383-dc97-4d48-aa88-0a04221c09f2",
      "metadata": {
        "colab": {
          "base_uri": "https://localhost:8080/"
        },
        "id": "801e7383-dc97-4d48-aa88-0a04221c09f2",
        "outputId": "5699b383-7b4e-4016-b8cd-67898b635316"
      },
      "outputs": [
        {
          "name": "stdout",
          "output_type": "stream",
          "text": [
            "Precision, Recall, and F1-score for each class:\n",
            "PER: Precision = 0.7727272727272727, Recall = 0.85, F1-score = 0.8095238095238095\n",
            "LOC: Precision = 1.0, Recall = 0.5555555555555556, F1-score = 0.7142857142857143\n",
            "ORG: Precision = 0.7619047619047619, Recall = 0.5517241379310345, F1-score = 0.64\n",
            "MISC: Precision = 0.6666666666666666, Recall = 0.21428571428571427, F1-score = 0.3243243243243243\n",
            "O: Precision = 0.8820058997050148, Recall = 0.9771241830065359, F1-score = 0.9271317829457365\n",
            "\n",
            "Macro-F1 score: 0.6830531262159169\n"
          ]
        }
      ],
      "source": [
        "# Comparison of Manual Answer with ChatGPT answers\n",
        "\n",
        "results, macro_f1_score = calculate_metrics(list_of_manual_ans,list_of_chatgpt_ans )\n",
        "\n",
        "print(\"Precision, Recall, and F1-score for each class:\")\n",
        "for class_name, parameters in results.items():\n",
        "    print(f\"{class_name}: Precision = {parameters['precision']}, Recall = {parameters['recall']}, F1-score = {parameters['f1_score']}\")\n",
        "\n",
        "print(\"\\nMacro-F1 score:\", macro_f1_score)"
      ]
    },
    {
      "cell_type": "code",
      "execution_count": 15,
      "id": "5e011e6e-ab50-4dbb-a297-2249306169c9",
      "metadata": {
        "colab": {
          "base_uri": "https://localhost:8080/"
        },
        "id": "5e011e6e-ab50-4dbb-a297-2249306169c9",
        "outputId": "bcc353c9-2875-4569-d0aa-8bcfb8e2c296"
      },
      "outputs": [
        {
          "name": "stdout",
          "output_type": "stream",
          "text": [
            "Precision, Recall, and F1-score for each class:\n",
            "PER: Precision = 0.65, Recall = 0.65, F1-score = 0.65\n",
            "LOC: Precision = 0.5714285714285714, Recall = 0.2222222222222222, F1-score = 0.32\n",
            "ORG: Precision = 0.6666666666666666, Recall = 0.41379310344827586, F1-score = 0.5106382978723404\n",
            "MISC: Precision = 0, Recall = 0.0, F1-score = 0\n",
            "O: Precision = 0.8410958904109589, Recall = 0.9746031746031746, F1-score = 0.9029411764705881\n",
            "\n",
            "Macro-F1 score: 0.47671589486858573\n"
          ]
        }
      ],
      "source": [
        "# Comparison of Manual Answer with IndicBert answers\n",
        "\n",
        "results, macro_f1_score = calculate_metrics(list_of_manual_ans,Q1_indicbert_ans )\n",
        "\n",
        "print(\"Precision, Recall, and F1-score for each class:\")\n",
        "for class_name, parameters in results.items():\n",
        "    print(f\"{class_name}: Precision = {parameters['precision']}, Recall = {parameters['recall']}, F1-score = {parameters['f1_score']}\")\n",
        "\n",
        "print(\"\\nMacro-F1 score:\", macro_f1_score)"
      ]
    },
    {
      "cell_type": "code",
      "execution_count": 16,
      "id": "C89sBxUpwuSh",
      "metadata": {
        "colab": {
          "base_uri": "https://localhost:8080/"
        },
        "id": "C89sBxUpwuSh",
        "outputId": "e7199a2c-6fca-4ef1-cf00-0a731ad92a26"
      },
      "outputs": [
        {
          "name": "stdout",
          "output_type": "stream",
          "text": [
            "Precision, Recall, and F1-score for each class:\n",
            "PER: Precision = 0.5, Recall = 0.55, F1-score = 0.5238095238095238\n",
            "LOC: Precision = 0.9, Recall = 0.5, F1-score = 0.6428571428571429\n",
            "ORG: Precision = 0.7307692307692307, Recall = 0.6551724137931034, F1-score = 0.6909090909090909\n",
            "MISC: Precision = 0, Recall = 0.0, F1-score = 0\n",
            "O: Precision = 0.8494318181818182, Recall = 0.9492063492063492, F1-score = 0.8965517241379312\n",
            "\n",
            "Macro-F1 score: 0.5508254963427378\n"
          ]
        }
      ],
      "source": [
        "# Comparison of Manual Answer with IndicNer answers\n",
        "results, macro_f1_score = calculate_metrics(list_of_manual_ans,Q1_indicNer_ans )\n",
        "\n",
        "print(\"Precision, Recall, and F1-score for each class:\")\n",
        "for class_name, parameters in results.items():\n",
        "    print(f\"{class_name}: Precision = {parameters['precision']}, Recall = {parameters['recall']}, F1-score = {parameters['f1_score']}\")\n",
        "\n",
        "print(\"\\nMacro-F1 score:\", macro_f1_score)"
      ]
    }
  ],
  "metadata": {
    "colab": {
      "provenance": []
    },
    "kernelspec": {
      "display_name": "Python 3 (ipykernel)",
      "language": "python",
      "name": "python3"
    },
    "language_info": {
      "codemirror_mode": {
        "name": "ipython",
        "version": 3
      },
      "file_extension": ".py",
      "mimetype": "text/x-python",
      "name": "python",
      "nbconvert_exporter": "python",
      "pygments_lexer": "ipython3",
      "version": "3.12.2"
    }
  },
  "nbformat": 4,
  "nbformat_minor": 5
}
